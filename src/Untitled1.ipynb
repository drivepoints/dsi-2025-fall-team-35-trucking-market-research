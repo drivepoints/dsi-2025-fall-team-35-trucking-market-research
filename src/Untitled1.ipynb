{
 "cells": [
  {
   "cell_type": "code",
   "execution_count": 3,
   "id": "7be29240-b8af-4fa8-8094-34f5db617d68",
   "metadata": {},
   "outputs": [],
   "source": [
    "import polars as pl"
   ]
  },
  {
   "cell_type": "code",
   "execution_count": 4,
   "id": "61b7200c-cfae-44a5-b07c-e5357cd2a26c",
   "metadata": {},
   "outputs": [
    {
     "data": {
      "text/plain": [
       "['DOT_NUMBER',\n",
       " 'LEGAL_NAME',\n",
       " 'DBA_NAME',\n",
       " 'CARRIER_OPERATION',\n",
       " 'HM_FLAG',\n",
       " 'PC_FLAG',\n",
       " 'PHY_STREET',\n",
       " 'PHY_CITY',\n",
       " 'PHY_STATE',\n",
       " 'PHY_ZIP',\n",
       " 'PHY_COUNTRY',\n",
       " 'MAILING_STREET',\n",
       " 'MAILING_CITY',\n",
       " 'MAILING_STATE',\n",
       " 'MAILING_ZIP',\n",
       " 'MAILING_COUNTRY',\n",
       " 'TELEPHONE',\n",
       " 'FAX',\n",
       " 'EMAIL_ADDRESS',\n",
       " 'MCS150_DATE',\n",
       " 'MCS150_MILEAGE',\n",
       " 'MCS150_MILEAGE_YEAR',\n",
       " 'ADD_DATE',\n",
       " 'OIC_STATE',\n",
       " 'NBR_POWER_UNIT',\n",
       " 'DRIVER_TOTAL',\n",
       " 'RECENT_MILEAGE',\n",
       " 'RECENT_MILEAGE_YEAR',\n",
       " 'VMT_SOURCE_ID',\n",
       " 'PRIVATE_ONLY',\n",
       " 'AUTHORIZED_FOR_HIRE',\n",
       " 'EXEMPT_FOR_HIRE',\n",
       " 'PRIVATE_PROPERTY',\n",
       " 'PRIVATE_PASSENGER_BUSINESS',\n",
       " 'PRIVATE_PASSENGER_NONBUSINESS',\n",
       " 'MIGRANT',\n",
       " 'US_MAIL',\n",
       " 'FEDERAL_GOVERNMENT',\n",
       " 'STATE_GOVERNMENT',\n",
       " 'LOCAL_GOVERNMENT',\n",
       " 'INDIAN_TRIBE',\n",
       " 'OP_OTHER']"
      ]
     },
     "execution_count": 4,
     "metadata": {},
     "output_type": "execute_result"
    }
   ],
   "source": [
    "df = pl.read_parquet(\n",
    "    \"../data/SMS_Input_-_Motor_Carrier_Census_Information_20250919.parquet\"\n",
    ")\n",
    "    \n",
    "df.columns"
   ]
  },
  {
   "cell_type": "code",
   "execution_count": 5,
   "id": "d2778bf5-ebe9-489a-87ee-66cf57e62f7b",
   "metadata": {},
   "outputs": [
    {
     "data": {
      "text/plain": [
       "(2091643, 42)"
      ]
     },
     "execution_count": 5,
     "metadata": {},
     "output_type": "execute_result"
    }
   ],
   "source": [
    "df.shape"
   ]
  },
  {
   "cell_type": "code",
   "execution_count": 6,
   "id": "c271129d-7eba-4eea-889c-b1f7dbd5ac03",
   "metadata": {},
   "outputs": [
    {
     "data": {
      "text/plain": [
       "(2089645, 9)"
      ]
     },
     "execution_count": 6,
     "metadata": {},
     "output_type": "execute_result"
    }
   ],
   "source": [
    "addrs_df = pl.read_parquet(\"../data/geocoded_addresses.parquet\")\n",
    "\n",
    "addrs_df.shape"
   ]
  },
  {
   "cell_type": "code",
   "execution_count": 7,
   "id": "6ca84bc1-0afe-4393-988e-e51366565e1c",
   "metadata": {},
   "outputs": [],
   "source": [
    "daxle_matches = []\n",
    "for i in range(0, 10001, 1000):\n",
    "    part_df = pl.read_parquet(f\"../data/data_axle_matched_addresses/{i}_data.parquet\")\n",
    "    daxle_matches.append(part_df)\n",
    "\n",
    "daxle_df = pl.concat(daxle_matches).with_columns(\n",
    "    pl.col(\"data_axle_row_index\")\n",
    "      .replace(-1, None)\n",
    "      .alias(\"data_axle_row_index\")\n",
    ")"
   ]
  },
  {
   "cell_type": "code",
   "execution_count": 8,
   "id": "96e95dc9-1b15-4d3c-83ed-3bb12b6dcfc9",
   "metadata": {},
   "outputs": [
    {
     "data": {
      "text/html": [
       "<div><style>\n",
       ".dataframe > thead > tr,\n",
       ".dataframe > tbody > tr {\n",
       "  text-align: right;\n",
       "  white-space: pre-wrap;\n",
       "}\n",
       "</style>\n",
       "<small>shape: (9, 2)</small><table border=\"1\" class=\"dataframe\"><thead><tr><th>statistic</th><th>value</th></tr><tr><td>str</td><td>f64</td></tr></thead><tbody><tr><td>&quot;count&quot;</td><td>51000.0</td></tr><tr><td>&quot;null_count&quot;</td><td>0.0</td></tr><tr><td>&quot;mean&quot;</td><td>38.429581</td></tr><tr><td>&quot;std&quot;</td><td>46.044908</td></tr><tr><td>&quot;min&quot;</td><td>0.0</td></tr><tr><td>&quot;25%&quot;</td><td>0.0</td></tr><tr><td>&quot;50%&quot;</td><td>0.0</td></tr><tr><td>&quot;75%&quot;</td><td>94.871795</td></tr><tr><td>&quot;max&quot;</td><td>100.0</td></tr></tbody></table></div>"
      ],
      "text/plain": [
       "shape: (9, 2)\n",
       "┌────────────┬───────────┐\n",
       "│ statistic  ┆ value     │\n",
       "│ ---        ┆ ---       │\n",
       "│ str        ┆ f64       │\n",
       "╞════════════╪═══════════╡\n",
       "│ count      ┆ 51000.0   │\n",
       "│ null_count ┆ 0.0       │\n",
       "│ mean       ┆ 38.429581 │\n",
       "│ std        ┆ 46.044908 │\n",
       "│ min        ┆ 0.0       │\n",
       "│ 25%        ┆ 0.0       │\n",
       "│ 50%        ┆ 0.0       │\n",
       "│ 75%        ┆ 94.871795 │\n",
       "│ max        ┆ 100.0     │\n",
       "└────────────┴───────────┘"
      ]
     },
     "execution_count": 8,
     "metadata": {},
     "output_type": "execute_result"
    }
   ],
   "source": [
    "daxle_df[\"confidence\"].describe()"
   ]
  },
  {
   "cell_type": "code",
   "execution_count": 9,
   "id": "bd173ead-2da8-4d37-9439-c05dea1d10e0",
   "metadata": {},
   "outputs": [],
   "source": [
    "daxle = pl.scan_parquet(\n",
    "    \"../data/data-axle.parquet\"\n",
    ").with_row_index(name=\"data_axle_row_index\")\n"
   ]
  },
  {
   "cell_type": "code",
   "execution_count": null,
   "id": "fea950ae-da20-4eab-8da5-3a6eeebfffc6",
   "metadata": {},
   "outputs": [],
   "source": [
    "attempted_matches = daxle_df.filter(pl.col(\"data_axle_row_index\").is_not_null())\n",
    "\n",
    "\n",
    "indices = attempted_matches.select(\"data_axle_row_index\").to_series()\n",
    "\n",
    "daxle_subset = (\n",
    "    daxle\n",
    "    .collect()\n",
    "    .head(indices.max() + 1)\n",
    ")\n",
    "\n",
    "daxle_subset = daxle_subset.gather(indices)\n",
    "\n",
    "result = attempted_matches.with_columns(daxle_subset)"
   ]
  },
  {
   "cell_type": "code",
   "execution_count": 21,
   "id": "eaeb1cd3-d8e4-4601-a083-5292cbb9d45d",
   "metadata": {},
   "outputs": [],
   "source": [
    "joined = daxle_df.lazy().join(daxle, on=\"data_axle_row_index\", how=\"left\")"
   ]
  },
  {
   "cell_type": "code",
   "execution_count": null,
   "id": "ffe6372c-82a5-4569-819a-b43fd8b5505c",
   "metadata": {},
   "outputs": [],
   "source": [
    "daxle_df = joined.collect()"
   ]
  },
  {
   "cell_type": "code",
   "execution_count": null,
   "id": "0db1036d-d5fe-40b6-bdc5-6378f2cec362",
   "metadata": {},
   "outputs": [],
   "source": [
    "daxle_df.shape"
   ]
  },
  {
   "cell_type": "code",
   "execution_count": null,
   "id": "dc24562d-3554-49b0-a46b-a1fc2c97a3d2",
   "metadata": {},
   "outputs": [],
   "source": []
  }
 ],
 "metadata": {
  "kernelspec": {
   "display_name": "Python 3 (ipykernel)",
   "language": "python",
   "name": "python3"
  },
  "language_info": {
   "codemirror_mode": {
    "name": "ipython",
    "version": 3
   },
   "file_extension": ".py",
   "mimetype": "text/x-python",
   "name": "python",
   "nbconvert_exporter": "python",
   "pygments_lexer": "ipython3",
   "version": "3.13.2"
  }
 },
 "nbformat": 4,
 "nbformat_minor": 5
}
