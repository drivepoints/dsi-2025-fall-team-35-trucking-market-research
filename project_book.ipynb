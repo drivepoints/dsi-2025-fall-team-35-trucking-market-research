{
 "cells": [
  {
   "cell_type": "markdown",
   "id": "bf8f687e",
   "metadata": {},
   "source": [
    "# Load Data"
   ]
  },
  {
   "cell_type": "code",
   "execution_count": 3,
   "id": "4c26958c",
   "metadata": {},
   "outputs": [
    {
     "name": "stdout",
     "output_type": "stream",
     "text": [
      "Loaded dataset with 2091643 rows and 42 columns.\n",
      "Columns: ['dot_number', 'legal_name', 'dba_name', 'carrier_operation', 'hm_flag', 'pc_flag', 'phy_street', 'phy_city', 'phy_state', 'phy_zip', 'phy_country', 'mailing_street', 'mailing_city', 'mailing_state', 'mailing_zip', 'mailing_country', 'telephone', 'fax', 'email_address', 'mcs150_date', 'mcs150_mileage', 'mcs150_mileage_year', 'add_date', 'oic_state', 'nbr_power_unit', 'driver_total', 'recent_mileage', 'recent_mileage_year', 'vmt_source_id', 'private_only', 'authorized_for_hire', 'exempt_for_hire', 'private_property', 'private_passenger_business', 'private_passenger_nonbusiness', 'migrant', 'us_mail', 'federal_government', 'state_government', 'local_government', 'indian_tribe', 'op_other']\n"
     ]
    }
   ],
   "source": [
    "import polars as pl\n",
    "\n",
    "# Set your file path here (use .parquet or .csv)\n",
    "DATA_PATH = \"/Users/jareddonohue/Desktop/Capstone/data/transportation_data_20250917_222245.parquet\"\n",
    "\n",
    "# Load Data\n",
    "df = pl.read_parquet(DATA_PATH)\n",
    "\n",
    "print(f\"Loaded dataset with {df.shape[0]} rows and {df.shape[1]} columns.\")\n",
    "print(\"Columns:\", df.columns)"
   ]
  },
  {
   "cell_type": "markdown",
   "id": "0d0b7a80",
   "metadata": {},
   "source": [
    "# Summary Statistics"
   ]
  },
  {
   "cell_type": "code",
   "execution_count": 4,
   "id": "0049888b",
   "metadata": {},
   "outputs": [
    {
     "name": "stdout",
     "output_type": "stream",
     "text": [
      "shape: (9, 43)\n",
      "┌───────────┬───────────┬───────────┬──────────┬───┬───────────┬───────────┬───────────┬───────────┐\n",
      "│ statistic ┆ dot_numbe ┆ legal_nam ┆ dba_name ┆ … ┆ state_gov ┆ local_gov ┆ indian_tr ┆ op_other  │\n",
      "│ ---       ┆ r         ┆ e         ┆ ---      ┆   ┆ ernment   ┆ ernment   ┆ ibe       ┆ ---       │\n",
      "│ str       ┆ ---       ┆ ---       ┆ str      ┆   ┆ ---       ┆ ---       ┆ ---       ┆ str       │\n",
      "│           ┆ f64       ┆ str       ┆          ┆   ┆ f64       ┆ f64       ┆ f64       ┆           │\n",
      "╞═══════════╪═══════════╪═══════════╪══════════╪═══╪═══════════╪═══════════╪═══════════╪═══════════╡\n",
      "│ count     ┆ 2.091643e ┆ 2091499   ┆ 556551   ┆ … ┆ 2.091643e ┆ 2.091643e ┆ 2.091643e ┆ 2091504   │\n",
      "│           ┆ 6         ┆           ┆          ┆   ┆ 6         ┆ 6         ┆ 6         ┆           │\n",
      "│ null_coun ┆ 0.0       ┆ 144       ┆ 1535092  ┆ … ┆ 0.0       ┆ 0.0       ┆ 0.0       ┆ 139       │\n",
      "│ t         ┆           ┆           ┆          ┆   ┆           ┆           ┆           ┆           │\n",
      "│ mean      ┆ 2.6979e6  ┆ null      ┆ null     ┆ … ┆ 0.003096  ┆ 0.003038  ┆ 0.000531  ┆ null      │\n",
      "│ std       ┆ 1.1634e6  ┆ null      ┆ null     ┆ … ┆ null      ┆ null      ┆ null      ┆ null      │\n",
      "│ min       ┆ 1.0       ┆ #1 TRUCK  ┆ #1       ┆ … ┆ 0.0       ┆ 0.0       ┆ 0.0       ┆ #2        │\n",
      "│           ┆           ┆ DOCTORS   ┆          ┆   ┆           ┆           ┆           ┆ HEATING   │\n",
      "│           ┆           ┆           ┆          ┆   ┆           ┆           ┆           ┆ OIL       │\n",
      "│ 25%       ┆ 1.765438e ┆ null      ┆ null     ┆ … ┆ null      ┆ null      ┆ null      ┆ null      │\n",
      "│           ┆ 6         ┆           ┆          ┆   ┆           ┆           ┆           ┆           │\n",
      "│ 50%       ┆ 2.758172e ┆ null      ┆ null     ┆ … ┆ null      ┆ null      ┆ null      ┆ null      │\n",
      "│           ┆ 6         ┆           ┆          ┆   ┆           ┆           ┆           ┆           │\n",
      "│ 75%       ┆ 3.717906e ┆ null      ┆ null     ┆ … ┆ null      ┆ null      ┆ null      ┆ null      │\n",
      "│           ┆ 6         ┆           ┆          ┆   ┆           ┆           ┆           ┆           │\n",
      "│ max       ┆ 4.460663e ┆ ZZZZZ'S   ┆ `        ┆ … ┆ 1.0       ┆ 1.0       ┆ 1.0       ┆ �EMERGENC │\n",
      "│           ┆ 6         ┆ MOVING    ┆          ┆   ┆           ┆           ┆           ┆ Y         │\n",
      "│           ┆           ┆ LLC       ┆          ┆   ┆           ┆           ┆           ┆ TEMPORARY │\n",
      "│           ┆           ┆           ┆          ┆   ┆           ┆           ┆           ┆ AUTHORITY │\n",
      "│           ┆           ┆           ┆          ┆   ┆           ┆           ┆           ┆ …         │\n",
      "└───────────┴───────────┴───────────┴──────────┴───┴───────────┴───────────┴───────────┴───────────┘\n",
      "Missing values per column:\n",
      " shape: (1, 42)\n",
      "┌────────────┬───────────┬──────────┬───────────┬───┬───────────┬───────────┬───────────┬──────────┐\n",
      "│ dot_number ┆ legal_nam ┆ dba_name ┆ carrier_o ┆ … ┆ state_gov ┆ local_gov ┆ indian_tr ┆ op_other │\n",
      "│ ---        ┆ e         ┆ ---      ┆ peration  ┆   ┆ ernment   ┆ ernment   ┆ ibe       ┆ ---      │\n",
      "│ u32        ┆ ---       ┆ u32      ┆ ---       ┆   ┆ ---       ┆ ---       ┆ ---       ┆ u32      │\n",
      "│            ┆ u32       ┆          ┆ u32       ┆   ┆ u32       ┆ u32       ┆ u32       ┆          │\n",
      "╞════════════╪═══════════╪══════════╪═══════════╪═══╪═══════════╪═══════════╪═══════════╪══════════╡\n",
      "│ 0          ┆ 144       ┆ 1535092  ┆ 0         ┆ … ┆ 0         ┆ 0         ┆ 0         ┆ 139      │\n",
      "└────────────┴───────────┴──────────┴───────────┴───┴───────────┴───────────┴───────────┴──────────┘\n",
      "legal_name value counts:\n",
      " shape: (5, 2)\n",
      "┌────────────────────┬───────┐\n",
      "│ legal_name         ┆ count │\n",
      "│ ---                ┆ ---   │\n",
      "│ str                ┆ u32   │\n",
      "╞════════════════════╪═══════╡\n",
      "│ DOSANJH AG LLC     ┆ 1     │\n",
      "│ DONNIE LEN SALYERS ┆ 1     │\n",
      "│ CRES TRANS         ┆ 1     │\n",
      "│ NIBROC, INC.       ┆ 1     │\n",
      "│ WILLIAM EDGE       ┆ 1     │\n",
      "└────────────────────┴───────┘\n",
      "dba_name value counts:\n",
      " shape: (5, 2)\n",
      "┌─────────────────────────────────┬───────┐\n",
      "│ dba_name                        ┆ count │\n",
      "│ ---                             ┆ ---   │\n",
      "│ str                             ┆ u32   │\n",
      "╞═════════════════════════════════╪═══════╡\n",
      "│ WES'S TIRE AUTO & WRECKER SERV… ┆ 1     │\n",
      "│ RIVERA TREE & SHRUB CARE        ┆ 1     │\n",
      "│ PALICOM 2000                    ┆ 1     │\n",
      "│ HAUTE BAR WEAR                  ┆ 1     │\n",
      "│ SMITH PLUMBING COMPANY          ┆ 1     │\n",
      "└─────────────────────────────────┴───────┘\n",
      "carrier_operation value counts:\n",
      " shape: (3, 2)\n",
      "┌───────────────────┬─────────┐\n",
      "│ carrier_operation ┆ count   │\n",
      "│ ---               ┆ ---     │\n",
      "│ str               ┆ u32     │\n",
      "╞═══════════════════╪═════════╡\n",
      "│ B                 ┆ 45482   │\n",
      "│ A                 ┆ 700405  │\n",
      "│ C                 ┆ 1345756 │\n",
      "└───────────────────┴─────────┘\n"
     ]
    }
   ],
   "source": [
    "# Numeric + categorical summary + missing values (all-in-one)\n",
    "print(df.describe())\n",
    "\n",
    "# Nulls per column\n",
    "print(\"Missing values per column:\\n\", df.null_count())\n",
    "\n",
    "# (Optional) Most common value for each string column (top 3 shown as example)\n",
    "for col in df.select(pl.col(pl.Utf8)).columns[:3]:\n",
    "    print(f\"{col} value counts:\\n\", df[col].value_counts().head())"
   ]
  },
  {
   "cell_type": "markdown",
   "id": "248bb49d",
   "metadata": {},
   "source": [
    "# Take a Random Sample (N=100)\n",
    "This will be used to estimate the quality of the dataset. The following margins of error (MoE) are expected based on the sample size (N).\n",
    "* N=10 --> \n",
    "* N=100 --> \n",
    "* N=1000 --> "
   ]
  },
  {
   "cell_type": "code",
   "execution_count": 5,
   "id": "9e78cfd1",
   "metadata": {},
   "outputs": [
    {
     "name": "stdout",
     "output_type": "stream",
     "text": [
      "shape: (100, 8)\n",
      "┌────────────┬───────────┬────────────┬────────────┬───────────┬───────────┬───────────┬───────────┐\n",
      "│ legal_name ┆ phy_state ┆ phy_city   ┆ phy_zip    ┆ email_add ┆ driver_to ┆ mcs150_mi ┆ mcs150_mi │\n",
      "│ ---        ┆ ---       ┆ ---        ┆ ---        ┆ ress      ┆ tal       ┆ leage     ┆ leage_yea │\n",
      "│ str        ┆ str       ┆ str        ┆ str        ┆ ---       ┆ ---       ┆ ---       ┆ r         │\n",
      "│            ┆           ┆            ┆            ┆ str       ┆ f64       ┆ f64       ┆ ---       │\n",
      "│            ┆           ┆            ┆            ┆           ┆           ┆           ┆ f64       │\n",
      "╞════════════╪═══════════╪════════════╪════════════╪═══════════╪═══════════╪═══════════╪═══════════╡\n",
      "│ AARON      ┆ TX        ┆ FORT WORTH ┆ 76123-2582 ┆ AARONMARI ┆ 1.0       ┆ 50000.0   ┆ 2024.0    │\n",
      "│ HAULING    ┆           ┆            ┆            ┆ N2004@GMA ┆           ┆           ┆           │\n",
      "│ LLC        ┆           ┆            ┆            ┆ IL.COM    ┆           ┆           ┆           │\n",
      "│ JORGE      ┆ FL        ┆ MIRAMAR    ┆ 33027      ┆ null      ┆ 1.0       ┆ 0.0       ┆ 2007.0    │\n",
      "│ SILVA      ┆           ┆            ┆            ┆           ┆           ┆           ┆           │\n",
      "│ A Z        ┆ CA        ┆ DELHI      ┆ 95315      ┆ ANTONIOZU ┆ 2.0       ┆ 1.0       ┆ 2024.0    │\n",
      "│ TRANSPORT  ┆           ┆            ┆            ┆ NIGA667@G ┆           ┆           ┆           │\n",
      "│ INC        ┆           ┆            ┆            ┆ MAIL.COM  ┆           ┆           ┆           │\n",
      "│ NINO P     ┆ RI        ┆ PROVIDENCE ┆ 02907-1738 ┆ NINOPTRUC ┆ 2.0       ┆ 69491.0   ┆ 2022.0    │\n",
      "│ TRUCKING   ┆           ┆            ┆            ┆ KING@GMAI ┆           ┆           ┆           │\n",
      "│ INC        ┆           ┆            ┆            ┆ L.COM     ┆           ┆           ┆           │\n",
      "│ PRISTINE   ┆ TX        ┆ LEWISVILLE ┆ 75057      ┆ WWW.PRIST ┆ 1.0       ┆ 15000.0   ┆ 2013.0    │\n",
      "│ MOTORS     ┆           ┆            ┆            ┆ INEMOTORS ┆           ┆           ┆           │\n",
      "│            ┆           ┆            ┆            ┆ .COM      ┆           ┆           ┆           │\n",
      "│ …          ┆ …         ┆ …          ┆ …          ┆ …         ┆ …         ┆ …         ┆ …         │\n",
      "│ R & R      ┆ WA        ┆ VANCOUVER  ┆ 98662-1562 ┆ SHARBEAR_ ┆ 3.0       ┆ 341700.0  ┆ 2022.0    │\n",
      "│ TRANSFER & ┆           ┆            ┆            ┆ 336@MSN.C ┆           ┆           ┆           │\n",
      "│ RECYCLING  ┆           ┆            ┆            ┆ OM        ┆           ┆           ┆           │\n",
      "│ INC        ┆           ┆            ┆            ┆           ┆           ┆           ┆           │\n",
      "│ AJS        ┆ ND        ┆ FARGO      ┆ 58104      ┆ ANTHONYCO ┆ 1.0       ┆ 296883.0  ┆ 2022.0    │\n",
      "│ TRUCKING   ┆           ┆            ┆            ┆ NTRERAS95 ┆           ┆           ┆           │\n",
      "│ LLC        ┆           ┆            ┆            ┆ 4@GMAIL.C ┆           ┆           ┆           │\n",
      "│            ┆           ┆            ┆            ┆ OM        ┆           ┆           ┆           │\n",
      "│ YOTE       ┆ MD        ┆ COLUMBIA   ┆ 21044      ┆ YOTEEXPRE ┆ 8.0       ┆ 120000.0  ┆ 2023.0    │\n",
      "│ EXPRESS    ┆           ┆            ┆            ┆ SS@GMAIL. ┆           ┆           ┆           │\n",
      "│ INC        ┆           ┆            ┆            ┆ COM       ┆           ┆           ┆           │\n",
      "│ NAGY'S     ┆ MI        ┆ OMER       ┆ 48749      ┆ null      ┆ 1.0       ┆ null      ┆ null      │\n",
      "│ TRACTOR    ┆           ┆            ┆            ┆           ┆           ┆           ┆           │\n",
      "│ SALES INC  ┆           ┆            ┆            ┆           ┆           ┆           ┆           │\n",
      "│ GUNDERSON  ┆ MT        ┆ BAKER      ┆ 59313      ┆ MIKEG@MID ┆ 3.0       ┆ 50000.0   ┆ 2020.0    │\n",
      "│ FARMS INC  ┆           ┆            ┆            ┆ RIVERS.CO ┆           ┆           ┆           │\n",
      "│            ┆           ┆            ┆            ┆ M         ┆           ┆           ┆           │\n",
      "└────────────┴───────────┴────────────┴────────────┴───────────┴───────────┴───────────┴───────────┘\n"
     ]
    }
   ],
   "source": [
    "\n",
    "import random\n",
    "\n",
    "def sample_rows(data, n=100):\n",
    "    # Choose relevant columns\n",
    "    cols = [\n",
    "        \"legal_name\", \"phy_state\", \"phy_city\", \"phy_zip\", \"email_address\",\n",
    "        \"driver_total\", \"mcs150_mileage\", \"mcs150_mileage_year\"\n",
    "    ]\n",
    "    available_cols = [c for c in cols if c in data.columns]\n",
    "    sample = data.select(available_cols).sample(n=n, with_replacement=False)\n",
    "    return sample\n",
    "\n",
    "sample_100 = sample_rows(df, n=100)\n",
    "print(sample_100)"
   ]
  },
  {
   "cell_type": "markdown",
   "id": "d039a9f4",
   "metadata": {},
   "source": [
    "# Estimate `data_quality_rate` using Annotated Random Sample\n",
    "\n",
    "We define the `data_quality_rate = (#good_annotated_entries) / (#total_annotated_entries)` for the following key columns in the dataset:\n",
    "- legal_name\n",
    "- phy_state\n",
    "- phy_city\n",
    "- phy_zip\n",
    "- email_address\n",
    "- driver_total\n",
    "- mcs150_mileage\n",
    "- mcs150_mileage_year\n",
    "\n",
    "To calculate the margin of error for the \"data_quality_rate\" (a proportion) with sample size N from a population of 2,091,643, we use the standard margin of error formula for proportions, incorporating a finite population correction.\n",
    "\n",
    "**Margin of Error Formula for Proportions**\n",
    "\n",
    "$$\n",
    "\\text{MOE} = z \\cdot \\sqrt{\\frac{\\hat{p}(1-\\hat{p})}{n}} \\cdot \\sqrt{\\frac{N-n}{N-1}}\n",
    "$$\n",
    "\n",
    "- $z$ = z-score for confidence level (use 1.96 for 95% confidence)\n",
    "- $\\hat{p}$ = observed sample proportion (\"data_quality_rate\")\n",
    "- $n$ = sample size (10, 100, or 1000)\n",
    "- $N$ = total population size (2,091,643)\n",
    "- The last term is the finite population correction\n",
    "\n",
    "We don't know $\\hat{p}$ beforehand, so we use $\\hat{p} = 0.5$ for a conservative (maximum) margin of error.\n",
    "\n",
    "We find the following margins of error based on the sample size N.\n",
    "\n",
    "- **N=10**: Margin of Error ≈ 31.0%\n",
    "- **N=100**: Margin of Error ≈ 9.8%\n",
    "- **N=1000**: Margin of Error ≈ 3.1%"
   ]
  },
  {
   "cell_type": "code",
   "execution_count": 8,
   "id": "b05f8193",
   "metadata": {},
   "outputs": [
    {
     "name": "stdout",
     "output_type": "stream",
     "text": [
      "Sample size 10: Margin of Error ≈ 31.0%\n",
      "Sample size 100: Margin of Error ≈ 9.8%\n",
      "Sample size 1000: Margin of Error ≈ 3.1%\n"
     ]
    }
   ],
   "source": [
    "import numpy as np\n",
    "\n",
    "def margin_of_error(n, N, p=0.5, conf=0.95): # update p with sample proportion after doing annotations\n",
    "    z = 1.96 if conf == 0.95 else 1.645  # for 90%, etc.\n",
    "    fpc = np.sqrt((N - n) / (N - 1))\n",
    "    return z * np.sqrt(p * (1 - p) / n) * fpc\n",
    "\n",
    "N = 2_091_643\n",
    "for n in [10, 100, 1000]:\n",
    "    moe = margin_of_error(n, N)\n",
    "    print(f\"Sample size {n}: Margin of Error ≈ {moe*100:.1f}%\")"
   ]
  }
 ],
 "metadata": {
  "kernelspec": {
   "display_name": "Python 3",
   "language": "python",
   "name": "python3"
  },
  "language_info": {
   "codemirror_mode": {
    "name": "ipython",
    "version": 3
   },
   "file_extension": ".py",
   "mimetype": "text/x-python",
   "name": "python",
   "nbconvert_exporter": "python",
   "pygments_lexer": "ipython3",
   "version": "3.13.4"
  }
 },
 "nbformat": 4,
 "nbformat_minor": 5
}
