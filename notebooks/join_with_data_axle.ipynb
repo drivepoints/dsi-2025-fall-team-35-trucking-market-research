{
 "cells": [
  {
   "cell_type": "code",
   "execution_count": 1,
   "id": "7be29240-b8af-4fa8-8094-34f5db617d68",
   "metadata": {},
   "outputs": [],
   "source": [
    "import polars as pl\n",
    "import numpy as np"
   ]
  },
  {
   "cell_type": "markdown",
   "id": "647f384f-8bbd-4097-8543-d54f52ccc242",
   "metadata": {
    "jp-MarkdownHeadingCollapsed": true
   },
   "source": [
    "## Clean Address Data"
   ]
  },
  {
   "cell_type": "code",
   "execution_count": 4,
   "id": "c271129d-7eba-4eea-889c-b1f7dbd5ac03",
   "metadata": {},
   "outputs": [
    {
     "data": {
      "text/plain": [
       "(2089645, 9)"
      ]
     },
     "execution_count": 4,
     "metadata": {},
     "output_type": "execute_result"
    }
   ],
   "source": [
    "addrs_df = pl.read_parquet(\"../data/geocoded_addresses.parquet\")\n",
    "\n",
    "addrs_df.shape"
   ]
  },
  {
   "cell_type": "code",
   "execution_count": 5,
   "id": "6ca84bc1-0afe-4393-988e-e51366565e1c",
   "metadata": {},
   "outputs": [],
   "source": [
    "daxle_matches = []\n",
    "for i in range(0, 2089001, 1000):\n",
    "    part_df = pl.read_parquet(f\"../data/data_axle_matched_addresses/{i}_data.parquet\")\n",
    "    daxle_matches.append(part_df)\n",
    "\n",
    "daxle_df = pl.concat(daxle_matches).with_columns(\n",
    "    pl.col(\"data_axle_row_index\")\n",
    "      .replace(-1, None)\n",
    "      .alias(\"data_axle_row_index\")\n",
    ")"
   ]
  },
  {
   "cell_type": "code",
   "execution_count": 6,
   "id": "96e95dc9-1b15-4d3c-83ed-3bb12b6dcfc9",
   "metadata": {},
   "outputs": [
    {
     "data": {
      "text/html": [
       "<div><style>\n",
       ".dataframe > thead > tr,\n",
       ".dataframe > tbody > tr {\n",
       "  text-align: right;\n",
       "  white-space: pre-wrap;\n",
       "}\n",
       "</style>\n",
       "<small>shape: (9, 2)</small><table border=\"1\" class=\"dataframe\"><thead><tr><th>statistic</th><th>value</th></tr><tr><td>str</td><td>f64</td></tr></thead><tbody><tr><td>&quot;count&quot;</td><td>2.089645e6</td></tr><tr><td>&quot;null_count&quot;</td><td>0.0</td></tr><tr><td>&quot;mean&quot;</td><td>45.222436</td></tr><tr><td>&quot;std&quot;</td><td>46.28075</td></tr><tr><td>&quot;min&quot;</td><td>0.0</td></tr><tr><td>&quot;25%&quot;</td><td>0.0</td></tr><tr><td>&quot;50%&quot;</td><td>0.0</td></tr><tr><td>&quot;75%&quot;</td><td>96.0</td></tr><tr><td>&quot;max&quot;</td><td>100.0</td></tr></tbody></table></div>"
      ],
      "text/plain": [
       "shape: (9, 2)\n",
       "┌────────────┬────────────┐\n",
       "│ statistic  ┆ value      │\n",
       "│ ---        ┆ ---        │\n",
       "│ str        ┆ f64        │\n",
       "╞════════════╪════════════╡\n",
       "│ count      ┆ 2.089645e6 │\n",
       "│ null_count ┆ 0.0        │\n",
       "│ mean       ┆ 45.222436  │\n",
       "│ std        ┆ 46.28075   │\n",
       "│ min        ┆ 0.0        │\n",
       "│ 25%        ┆ 0.0        │\n",
       "│ 50%        ┆ 0.0        │\n",
       "│ 75%        ┆ 96.0       │\n",
       "│ max        ┆ 100.0      │\n",
       "└────────────┴────────────┘"
      ]
     },
     "execution_count": 6,
     "metadata": {},
     "output_type": "execute_result"
    }
   ],
   "source": [
    "daxle_df[\"confidence\"].describe()"
   ]
  },
  {
   "cell_type": "code",
   "execution_count": 7,
   "id": "e7f311a0-c365-4399-990d-bb9e73db42f1",
   "metadata": {},
   "outputs": [],
   "source": [
    "daxle_df.write_parquet(\"../data/data_axle_matched_addresses.parquet\")"
   ]
  },
  {
   "cell_type": "markdown",
   "id": "a2946c38-8de2-4970-b8e1-0cb16c99b7d4",
   "metadata": {
    "jp-MarkdownHeadingCollapsed": true
   },
   "source": [
    "## Join Matched Addresses back to Data Axle Data"
   ]
  },
  {
   "cell_type": "code",
   "execution_count": 3,
   "id": "ddabf24c-8cb9-47d1-b84c-77a3dc54275d",
   "metadata": {},
   "outputs": [],
   "source": [
    "daxle_df = pl.scan_parquet(\"../data/data_axle_matched_addresses.parquet\")"
   ]
  },
  {
   "cell_type": "code",
   "execution_count": 4,
   "id": "bd173ead-2da8-4d37-9439-c05dea1d10e0",
   "metadata": {},
   "outputs": [],
   "source": [
    "gold = pl.scan_parquet(\n",
    "    \"../data/data-axle.parquet\"\n",
    ").with_row_index(name=\"data_axle_row_index\")\n"
   ]
  },
  {
   "cell_type": "code",
   "execution_count": 5,
   "id": "fea950ae-da20-4eab-8da5-3a6eeebfffc6",
   "metadata": {},
   "outputs": [],
   "source": [
    "attempted_matches = daxle_df.filter(pl.col(\"data_axle_row_index\").is_not_null())\n",
    "\n",
    "indices = (\n",
    "    attempted_matches\n",
    "    .select(\"data_axle_row_index\")\n",
    "    .collect()\n",
    "    .to_series()\n",
    ")\n",
    "\n",
    "indices_np = np.array(indices, dtype=int)\n",
    "\n",
    "# 3. Collect the needed prefix of the big dataset\n",
    "daxle_subset = (\n",
    "    gold\n",
    "    .collect()\n",
    "    .head(indices_np.max() + 1)\n",
    ")\n",
    "\n",
    "# 4. Select rows using NumPy indexing\n",
    "daxle_subset = daxle_subset[indices_np]\n",
    "\n",
    "# 5. Combine with small dataset\n",
    "result = attempted_matches.collect().with_columns(daxle_subset)\n"
   ]
  },
  {
   "cell_type": "code",
   "execution_count": 6,
   "id": "54a6f563-82c9-4ff5-8f68-7c4db38010dc",
   "metadata": {},
   "outputs": [
    {
     "data": {
      "text/html": [
       "<div><style>\n",
       ".dataframe > thead > tr,\n",
       ".dataframe > tbody > tr {\n",
       "  text-align: right;\n",
       "  white-space: pre-wrap;\n",
       "}\n",
       "</style>\n",
       "<small>shape: (5, 66)</small><table border=\"1\" class=\"dataframe\"><thead><tr><th>id</th><th>input_address</th><th>match_status</th><th>match_type</th><th>matched_address</th><th>tiger_line_id</th><th>side</th><th>lat</th><th>lon</th><th>best_match</th><th>confidence</th><th>data_axle_row_index</th><th>parent_number</th><th>archive_version_year</th><th>abi</th><th>ticker</th><th>company</th><th>address_line_1</th><th>city</th><th>state</th><th>zipcode</th><th>zip4</th><th>county_code</th><th>area_code</th><th>idcode</th><th>location_employee_size_code</th><th>location_sales_volume_code</th><th>primary_sic_code</th><th>sic6_descriptions</th><th>primary_naics_code</th><th>naics8_descriptions</th><th>sic_code</th><th>sic6_descriptions_sic</th><th>sic_code_1</th><th>sic6_descriptions_sic1</th><th>sic_code_2</th><th>sic6_descriptions_sic2</th><th>sic_code_3</th><th>sic6_descriptions_sic3</th><th>sic_code_4</th><th>sic6_descriptions_sic4</th><th>yellow_page_code</th><th>business_status_code</th><th>industry_specific_first_byte</th><th>office_size_code</th><th>company_holding_status</th><th>subsidiary_number</th><th>parent_employee_size_code</th><th>parent_sales_volume_code</th><th>site_number</th><th>address_type_indicator</th><th>population_code</th><th>census_tract</th><th>census_block</th><th>match_code</th><th>cbsa_code</th><th>cbsa_level</th><th>csa_code</th><th>fips_code</th><th>year_established</th><th>employee_size_location</th><th>sales_volume_location</th><th>parent_actual_employee_size</th><th>parent_actual_sales_volume</th><th>latitude</th><th>longitude</th></tr><tr><td>str</td><td>str</td><td>cat</td><td>cat</td><td>str</td><td>str</td><td>cat</td><td>f64</td><td>f64</td><td>str</td><td>f64</td><td>u32</td><td>str</td><td>f64</td><td>str</td><td>str</td><td>str</td><td>str</td><td>str</td><td>str</td><td>str</td><td>str</td><td>str</td><td>str</td><td>str</td><td>str</td><td>str</td><td>str</td><td>str</td><td>str</td><td>str</td><td>str</td><td>str</td><td>str</td><td>str</td><td>str</td><td>str</td><td>str</td><td>str</td><td>str</td><td>str</td><td>str</td><td>str</td><td>str</td><td>str</td><td>str</td><td>str</td><td>str</td><td>str</td><td>str</td><td>str</td><td>str</td><td>str</td><td>str</td><td>str</td><td>str</td><td>str</td><td>str</td><td>str</td><td>f64</td><td>f64</td><td>f64</td><td>f64</td><td>f64</td><td>f64</td><td>f64</td></tr></thead><tbody><tr><td>&quot;1001874&quot;</td><td>&quot;450 E&nbsp;&nbsp;800 N #4, HURRICANE, UT…</td><td>&quot;Match&quot;</td><td>&quot;Exact&quot;</td><td>&quot;450 E 800 N, HURRICANE, UT, 84…</td><td>&quot;166175747&quot;</td><td>&quot;R&quot;</td><td>37.188072</td><td>-113.281306</td><td>&quot;766 N 325 E, HURRICANE, UT, 84…</td><td>81.818182</td><td>15998293</td><td>null</td><td>2023.0</td><td>&quot;786670700&quot;</td><td>null</td><td>&quot;BRYAN D CHAMBERLAIN&quot;</td><td>&quot;766 N 325 E&quot;</td><td>&quot;HURRICANE&quot;</td><td>&quot;UT&quot;</td><td>&quot;84737&quot;</td><td>&quot;1777&quot;</td><td>&quot;053&quot;</td><td>&quot;435&quot;</td><td>&quot;2&quot;</td><td>&quot;B&quot;</td><td>null</td><td>&quot;651498&quot;</td><td>&quot;OPERATORS OF DWELLINGS OTHER T…</td><td>&quot;53111007&quot;</td><td>&quot;LESSORS OF RESIDENTIAL BUILDIN…</td><td>&quot;999966&quot;</td><td>&quot;FEDERAL GOVERNMENT CONTRACTORS&quot;</td><td>null</td><td>null</td><td>null</td><td>null</td><td>null</td><td>null</td><td>null</td><td>null</td><td>null</td><td>&quot;9&quot;</td><td>null</td><td>null</td><td>null</td><td>null</td><td>null</td><td>null</td><td>null</td><td>null</td><td>&quot;6&quot;</td><td>&quot;270902&quot;</td><td>&quot;3&quot;</td><td>&quot;P&quot;</td><td>&quot;41100&quot;</td><td>&quot;2&quot;</td><td>&quot;000&quot;</td><td>&quot;49053&quot;</td><td>null</td><td>5.0</td><td>null</td><td>null</td><td>null</td><td>37.187733</td><td>-113.281891</td></tr><tr><td>&quot;1001631&quot;</td><td>&quot;712 17TH AVE SOUTH, ST CLOUD, …</td><td>&quot;Match&quot;</td><td>&quot;Exact&quot;</td><td>&quot;712 17TH AVE S, SAINT CLOUD, M…</td><td>&quot;107415076&quot;</td><td>&quot;L&quot;</td><td>45.552923</td><td>-94.171028</td><td>&quot;712 17TH AVE S, ST CLOUD, MN, …</td><td>95.890411</td><td>5399597</td><td>null</td><td>2023.0</td><td>&quot;440425094&quot;</td><td>null</td><td>&quot;GOOD NEWS ASSEMBLY OF GOD&quot;</td><td>&quot;712 17TH AVE S&quot;</td><td>&quot;ST CLOUD&quot;</td><td>&quot;MN&quot;</td><td>&quot;56301&quot;</td><td>&quot;4125&quot;</td><td>&quot;145&quot;</td><td>&quot;320&quot;</td><td>&quot;2&quot;</td><td>&quot;A&quot;</td><td>null</td><td>&quot;866107&quot;</td><td>&quot;CHURCHES&quot;</td><td>&quot;81311008&quot;</td><td>&quot;RELIGIOUS ORGANIZATIONS&quot;</td><td>null</td><td>null</td><td>null</td><td>null</td><td>null</td><td>null</td><td>null</td><td>null</td><td>null</td><td>null</td><td>null</td><td>&quot;9&quot;</td><td>&quot;2&quot;</td><td>null</td><td>null</td><td>null</td><td>null</td><td>null</td><td>null</td><td>null</td><td>&quot;7&quot;</td><td>&quot;000301&quot;</td><td>&quot;2&quot;</td><td>&quot;P&quot;</td><td>&quot;41060&quot;</td><td>&quot;2&quot;</td><td>&quot;378&quot;</td><td>&quot;27145&quot;</td><td>null</td><td>2.0</td><td>0.0</td><td>null</td><td>null</td><td>45.552687</td><td>-94.170886</td></tr><tr><td>&quot;1001634&quot;</td><td>&quot;5875 GAUTHIER ROAD, NEW FRANKE…</td><td>&quot;Match&quot;</td><td>&quot;Exact&quot;</td><td>&quot;5875 GAUTHIER RD, NEW FRANKEN,…</td><td>&quot;148091239&quot;</td><td>&quot;L&quot;</td><td>44.538088</td><td>-87.786913</td><td>&quot;5875 GAUTHIER RD, NEW FRANKEN,…</td><td>100.0</td><td>5642255</td><td>null</td><td>2023.0</td><td>&quot;466186236&quot;</td><td>null</td><td>&quot;HAROLD TAUSCHEK &amp; SONS EXCAVTG&quot;</td><td>&quot;5875 GAUTHIER RD&quot;</td><td>&quot;NEW FRANKEN&quot;</td><td>&quot;WI&quot;</td><td>&quot;54229&quot;</td><td>&quot;9304&quot;</td><td>&quot;009&quot;</td><td>&quot;920&quot;</td><td>&quot;2&quot;</td><td>&quot;C&quot;</td><td>&quot;C&quot;</td><td>&quot;179403&quot;</td><td>&quot;EXCAVATING CONTRACTORS&quot;</td><td>&quot;23891006&quot;</td><td>&quot;SITE PREPARATION CONTRACTORS&quot;</td><td>&quot;179407&quot;</td><td>&quot;LAND CLEARING &amp; LEVELING&quot;</td><td>&quot;179502&quot;</td><td>&quot;DEMOLITION CONTRACTORS&quot;</td><td>&quot;179952&quot;</td><td>&quot;LAKE &amp; POND CONSTRUCTION &amp; MAI…</td><td>null</td><td>null</td><td>null</td><td>null</td><td>&quot;30002&quot;</td><td>&quot;9&quot;</td><td>null</td><td>null</td><td>null</td><td>null</td><td>null</td><td>null</td><td>null</td><td>null</td><td>&quot;4&quot;</td><td>&quot;020100&quot;</td><td>&quot;2&quot;</td><td>&quot;P&quot;</td><td>&quot;24580&quot;</td><td>&quot;2&quot;</td><td>&quot;267&quot;</td><td>&quot;55009&quot;</td><td>null</td><td>10.0</td><td>1590.0</td><td>null</td><td>null</td><td>44.538971</td><td>-87.786863</td></tr><tr><td>&quot;1000309&quot;</td><td>&quot;2824 BETHEL ROAD, CHESTER, PA,…</td><td>&quot;Match&quot;</td><td>&quot;Exact&quot;</td><td>&quot;2824 BETHEL RD, CHESTER, PA, 1…</td><td>&quot;134889024&quot;</td><td>&quot;R&quot;</td><td>39.843107</td><td>-75.402494</td><td>&quot;2757 BETHEL RD, CHESTER, PA, 1…</td><td>91.176471</td><td>48620</td><td>null</td><td>2023.0</td><td>&quot;731602518&quot;</td><td>null</td><td>&quot;ATM&quot;</td><td>&quot;2757 BETHEL RD&quot;</td><td>&quot;CHESTER&quot;</td><td>&quot;PA&quot;</td><td>&quot;19013&quot;</td><td>&quot;1401&quot;</td><td>&quot;045&quot;</td><td>&quot;610&quot;</td><td>&quot;2&quot;</td><td>null</td><td>null</td><td>&quot;602103&quot;</td><td>&quot;AUTOMATED TELLER MACHINES&quot;</td><td>&quot;52211001&quot;</td><td>&quot;COMMERCIAL BANKING&quot;</td><td>null</td><td>null</td><td>null</td><td>null</td><td>null</td><td>null</td><td>null</td><td>null</td><td>null</td><td>null</td><td>null</td><td>&quot;9&quot;</td><td>&quot;�&quot;</td><td>null</td><td>null</td><td>null</td><td>null</td><td>null</td><td>null</td><td>null</td><td>&quot;7&quot;</td><td>&quot;405300&quot;</td><td>&quot;1&quot;</td><td>&quot;P&quot;</td><td>&quot;37980&quot;</td><td>&quot;2&quot;</td><td>&quot;428&quot;</td><td>&quot;42045&quot;</td><td>null</td><td>0.0</td><td>0.0</td><td>null</td><td>null</td><td>39.842915</td><td>-75.401779</td></tr><tr><td>&quot;1000789&quot;</td><td>&quot;14516 NEEDHAM DR, JACKSONVILLE…</td><td>&quot;Match&quot;</td><td>&quot;Exact&quot;</td><td>&quot;14516 NEEDHAM DR, JACKSONVILLE…</td><td>&quot;655982815&quot;</td><td>&quot;R&quot;</td><td>30.116927</td><td>-81.484954</td><td>&quot;12086 WILLIAMSTOWN DR, JACKSON…</td><td>75.862069</td><td>13672592</td><td>null</td><td>2023.0</td><td>&quot;750283758&quot;</td><td>null</td><td>&quot;P1:3 APPAREL&quot;</td><td>&quot;12086 WILLIAMSTOWN DR&quot;</td><td>&quot;JACKSONVILLE&quot;</td><td>&quot;FL&quot;</td><td>&quot;32256&quot;</td><td>&quot;0869&quot;</td><td>&quot;031&quot;</td><td>&quot;904&quot;</td><td>&quot;2&quot;</td><td>&quot;A&quot;</td><td>&quot;A&quot;</td><td>&quot;569947&quot;</td><td>&quot;APPAREL &amp; GARMENTS-RETAIL&quot;</td><td>&quot;44819002&quot;</td><td>&quot;OTHER CLOTHING STORES&quot;</td><td>null</td><td>null</td><td>null</td><td>null</td><td>null</td><td>null</td><td>null</td><td>null</td><td>null</td><td>null</td><td>null</td><td>&quot;9&quot;</td><td>null</td><td>null</td><td>null</td><td>null</td><td>null</td><td>null</td><td>null</td><td>null</td><td>&quot;7&quot;</td><td>&quot;014412&quot;</td><td>&quot;1&quot;</td><td>&quot;P&quot;</td><td>&quot;27260&quot;</td><td>&quot;2&quot;</td><td>&quot;300&quot;</td><td>&quot;12031&quot;</td><td>null</td><td>4.0</td><td>472.0</td><td>null</td><td>null</td><td>30.116573</td><td>-81.485801</td></tr></tbody></table></div>"
      ],
      "text/plain": [
       "shape: (5, 66)\n",
       "┌─────────┬────────────┬───────────┬───────────┬───┬───────────┬───────────┬───────────┬───────────┐\n",
       "│ id      ┆ input_addr ┆ match_sta ┆ match_typ ┆ … ┆ parent_ac ┆ parent_ac ┆ latitude  ┆ longitude │\n",
       "│ ---     ┆ ess        ┆ tus       ┆ e         ┆   ┆ tual_empl ┆ tual_sale ┆ ---       ┆ ---       │\n",
       "│ str     ┆ ---        ┆ ---       ┆ ---       ┆   ┆ oyee_size ┆ s_volume  ┆ f64       ┆ f64       │\n",
       "│         ┆ str        ┆ cat       ┆ cat       ┆   ┆ ---       ┆ ---       ┆           ┆           │\n",
       "│         ┆            ┆           ┆           ┆   ┆ f64       ┆ f64       ┆           ┆           │\n",
       "╞═════════╪════════════╪═══════════╪═══════════╪═══╪═══════════╪═══════════╪═══════════╪═══════════╡\n",
       "│ 1001874 ┆ 450 E  800 ┆ Match     ┆ Exact     ┆ … ┆ null      ┆ null      ┆ 37.187733 ┆ -113.2818 │\n",
       "│         ┆ N #4,      ┆           ┆           ┆   ┆           ┆           ┆           ┆ 91        │\n",
       "│         ┆ HURRICANE, ┆           ┆           ┆   ┆           ┆           ┆           ┆           │\n",
       "│         ┆ UT…        ┆           ┆           ┆   ┆           ┆           ┆           ┆           │\n",
       "│ 1001631 ┆ 712 17TH   ┆ Match     ┆ Exact     ┆ … ┆ null      ┆ null      ┆ 45.552687 ┆ -94.17088 │\n",
       "│         ┆ AVE SOUTH, ┆           ┆           ┆   ┆           ┆           ┆           ┆ 6         │\n",
       "│         ┆ ST CLOUD,  ┆           ┆           ┆   ┆           ┆           ┆           ┆           │\n",
       "│         ┆ …          ┆           ┆           ┆   ┆           ┆           ┆           ┆           │\n",
       "│ 1001634 ┆ 5875       ┆ Match     ┆ Exact     ┆ … ┆ null      ┆ null      ┆ 44.538971 ┆ -87.78686 │\n",
       "│         ┆ GAUTHIER   ┆           ┆           ┆   ┆           ┆           ┆           ┆ 3         │\n",
       "│         ┆ ROAD, NEW  ┆           ┆           ┆   ┆           ┆           ┆           ┆           │\n",
       "│         ┆ FRANKE…    ┆           ┆           ┆   ┆           ┆           ┆           ┆           │\n",
       "│ 1000309 ┆ 2824       ┆ Match     ┆ Exact     ┆ … ┆ null      ┆ null      ┆ 39.842915 ┆ -75.40177 │\n",
       "│         ┆ BETHEL     ┆           ┆           ┆   ┆           ┆           ┆           ┆ 9         │\n",
       "│         ┆ ROAD,      ┆           ┆           ┆   ┆           ┆           ┆           ┆           │\n",
       "│         ┆ CHESTER,   ┆           ┆           ┆   ┆           ┆           ┆           ┆           │\n",
       "│         ┆ PA,…       ┆           ┆           ┆   ┆           ┆           ┆           ┆           │\n",
       "│ 1000789 ┆ 14516      ┆ Match     ┆ Exact     ┆ … ┆ null      ┆ null      ┆ 30.116573 ┆ -81.48580 │\n",
       "│         ┆ NEEDHAM    ┆           ┆           ┆   ┆           ┆           ┆           ┆ 1         │\n",
       "│         ┆ DR, JACKSO ┆           ┆           ┆   ┆           ┆           ┆           ┆           │\n",
       "│         ┆ NVILLE…    ┆           ┆           ┆   ┆           ┆           ┆           ┆           │\n",
       "└─────────┴────────────┴───────────┴───────────┴───┴───────────┴───────────┴───────────┴───────────┘"
      ]
     },
     "execution_count": 6,
     "metadata": {},
     "output_type": "execute_result"
    }
   ],
   "source": [
    "result.head()\n"
   ]
  },
  {
   "cell_type": "code",
   "execution_count": 11,
   "id": "06c85c4e-f0cd-4276-a44f-13ccdb0063d5",
   "metadata": {},
   "outputs": [],
   "source": [
    "result.write_parquet(\"../data/filtered_data_axle_records_with_dot.parquet\")"
   ]
  },
  {
   "cell_type": "markdown",
   "id": "02ce6304-59d5-4d25-bdc5-065a47654869",
   "metadata": {},
   "source": [
    "## Link Back to Census Data"
   ]
  },
  {
   "cell_type": "code",
   "execution_count": 50,
   "id": "cab05bd5-326e-4a41-9f3a-b5e9c8d71105",
   "metadata": {},
   "outputs": [],
   "source": [
    "result = pl.read_parquet(\"../data/filtered_data_axle_records_with_dot.parquet\").rename({\"id\": \"DOT_NUMBER\"}).with_columns(\n",
    "    pl.col(\"DOT_NUMBER\").cast(pl.Int64)\n",
    ")\n",
    "df = pl.read_parquet(\n",
    "    \"../data/SMS_Input_-_Motor_Carrier_Census_Information_20250919.parquet\"\n",
    ")"
   ]
  },
  {
   "cell_type": "code",
   "execution_count": 51,
   "id": "7f29eae3-7824-4021-bae9-438727997f93",
   "metadata": {},
   "outputs": [
    {
     "data": {
      "text/plain": [
       "Schema([('DOT_NUMBER', Int64),\n",
       "        ('LEGAL_NAME', String),\n",
       "        ('DBA_NAME', String),\n",
       "        ('CARRIER_OPERATION', String),\n",
       "        ('HM_FLAG', Boolean),\n",
       "        ('PC_FLAG', Boolean),\n",
       "        ('PHY_STREET', String),\n",
       "        ('PHY_CITY', String),\n",
       "        ('PHY_STATE', String),\n",
       "        ('PHY_ZIP', String),\n",
       "        ('PHY_COUNTRY', String),\n",
       "        ('MAILING_STREET', String),\n",
       "        ('MAILING_CITY', String),\n",
       "        ('MAILING_STATE', String),\n",
       "        ('MAILING_ZIP', String),\n",
       "        ('MAILING_COUNTRY', String),\n",
       "        ('TELEPHONE', String),\n",
       "        ('FAX', String),\n",
       "        ('EMAIL_ADDRESS', String),\n",
       "        ('MCS150_DATE', String),\n",
       "        ('MCS150_MILEAGE', Int64),\n",
       "        ('MCS150_MILEAGE_YEAR', Int64),\n",
       "        ('ADD_DATE', String),\n",
       "        ('OIC_STATE', String),\n",
       "        ('NBR_POWER_UNIT', Int64),\n",
       "        ('DRIVER_TOTAL', Int64),\n",
       "        ('RECENT_MILEAGE', Int64),\n",
       "        ('RECENT_MILEAGE_YEAR', Int64),\n",
       "        ('VMT_SOURCE_ID', Int64),\n",
       "        ('PRIVATE_ONLY', Boolean),\n",
       "        ('AUTHORIZED_FOR_HIRE', Boolean),\n",
       "        ('EXEMPT_FOR_HIRE', Boolean),\n",
       "        ('PRIVATE_PROPERTY', Boolean),\n",
       "        ('PRIVATE_PASSENGER_BUSINESS', Boolean),\n",
       "        ('PRIVATE_PASSENGER_NONBUSINESS', Boolean),\n",
       "        ('MIGRANT', Boolean),\n",
       "        ('US_MAIL', Boolean),\n",
       "        ('FEDERAL_GOVERNMENT', Boolean),\n",
       "        ('STATE_GOVERNMENT', Boolean),\n",
       "        ('LOCAL_GOVERNMENT', Boolean),\n",
       "        ('INDIAN_TRIBE', Boolean),\n",
       "        ('OP_OTHER', String)])"
      ]
     },
     "execution_count": 51,
     "metadata": {},
     "output_type": "execute_result"
    }
   ],
   "source": [
    "df.schema"
   ]
  },
  {
   "cell_type": "code",
   "execution_count": 52,
   "id": "eaeb1cd3-d8e4-4601-a083-5292cbb9d45d",
   "metadata": {},
   "outputs": [],
   "source": [
    "df = df.join(result, on=\"DOT_NUMBER\", how=\"left\")"
   ]
  },
  {
   "cell_type": "code",
   "execution_count": 53,
   "id": "0db1036d-d5fe-40b6-bdc5-6378f2cec362",
   "metadata": {},
   "outputs": [],
   "source": [
    "from polars_strsim import jaro_winkler\n",
    "\n",
    "\n",
    "df = df.with_columns(\n",
    "    pl.when(pl.col(\"company\").is_not_null())\n",
    "      .then(\n",
    "          pl.concat_list([\n",
    "              jaro_winkler(\"company\", \"LEGAL_NAME\"),\n",
    "              jaro_winkler(\"company\", \"DBA_NAME\")\n",
    "          ])\n",
    "      )\n",
    "      .alias(\"similarities\")\n",
    ").with_columns(\n",
    "    pl.when(pl.col(\"similarities\").is_not_null())\n",
    "        .then(\n",
    "                pl.when(\n",
    "                    pl.col(\"similarities\").list.get(1).is_null()\n",
    "                ).then(\n",
    "                    pl.col(\"LEGAL_NAME\")\n",
    "                ).otherwise(\n",
    "                    pl.when(\n",
    "                        pl.col(\"similarities\").list.get(0) >= pl.col(\"similarities\").list.get(1)\n",
    "                    ).then(\n",
    "                        pl.col(\"LEGAL_NAME\")\n",
    "                    ).otherwise(\n",
    "                        pl.col(\"DBA_NAME\")\n",
    "                    )\n",
    "                )\n",
    "            ).alias(\"best_name_match\"),\n",
    "    pl.col(\"similarities\").list.max().alias(\"best_similarity_name_score\")\n",
    ").sort(pl.col(\"best_similarity_name_score\").fill_null(-1), descending=True)#select([\"LEGAL_NAME\", \"DBA_NAME\", \"company\", \"similarities\", \"best_name_match\", \"best_similarity_name_score\"])\n",
    "        \n",
    "    \n",
    "\n",
    "#df.glimpse()\n",
    "\n",
    "# df = df.with_columns([\n",
    "#     pl.col(\"similarities\").list.max().alias(\"best_similarity\"),\n",
    "#     pl.when(\n",
    "#         pl.col(\"company\").str.similarity(pl.col(\"LEGAL_NAME\"))\n",
    "#         >= pl.col(\"company\").str.similarity(pl.col(\"DBA_NAME\"))\n",
    "#     )\n",
    "#     .then(pl.col(\"LEGAL_NAME\"))\n",
    "#     .otherwise(pl.col(\"DBA_NAME\"))\n",
    "#     .alias(\"best_name_match\")\n",
    "# ])"
   ]
  },
  {
   "cell_type": "code",
   "execution_count": 54,
   "id": "dc24562d-3554-49b0-a46b-a1fc2c97a3d2",
   "metadata": {},
   "outputs": [
    {
     "data": {
      "text/html": [
       "<div><style>\n",
       ".dataframe > thead > tr,\n",
       ".dataframe > tbody > tr {\n",
       "  text-align: right;\n",
       "  white-space: pre-wrap;\n",
       "}\n",
       "</style>\n",
       "<small>shape: (9, 2)</small><table border=\"1\" class=\"dataframe\"><thead><tr><th>statistic</th><th>value</th></tr><tr><td>str</td><td>f64</td></tr></thead><tbody><tr><td>&quot;count&quot;</td><td>1.025741e6</td></tr><tr><td>&quot;null_count&quot;</td><td>1.065902e6</td></tr><tr><td>&quot;mean&quot;</td><td>0.610684</td></tr><tr><td>&quot;std&quot;</td><td>0.170549</td></tr><tr><td>&quot;min&quot;</td><td>0.0</td></tr><tr><td>&quot;25%&quot;</td><td>0.507218</td></tr><tr><td>&quot;50%&quot;</td><td>0.562121</td></tr><tr><td>&quot;75%&quot;</td><td>0.632714</td></tr><tr><td>&quot;max&quot;</td><td>1.0</td></tr></tbody></table></div>"
      ],
      "text/plain": [
       "shape: (9, 2)\n",
       "┌────────────┬────────────┐\n",
       "│ statistic  ┆ value      │\n",
       "│ ---        ┆ ---        │\n",
       "│ str        ┆ f64        │\n",
       "╞════════════╪════════════╡\n",
       "│ count      ┆ 1.025741e6 │\n",
       "│ null_count ┆ 1.065902e6 │\n",
       "│ mean       ┆ 0.610684   │\n",
       "│ std        ┆ 0.170549   │\n",
       "│ min        ┆ 0.0        │\n",
       "│ 25%        ┆ 0.507218   │\n",
       "│ 50%        ┆ 0.562121   │\n",
       "│ 75%        ┆ 0.632714   │\n",
       "│ max        ┆ 1.0        │\n",
       "└────────────┴────────────┘"
      ]
     },
     "execution_count": 54,
     "metadata": {},
     "output_type": "execute_result"
    }
   ],
   "source": [
    "df[\"best_similarity_name_score\"].describe()"
   ]
  },
  {
   "cell_type": "code",
   "execution_count": 55,
   "id": "270e9cb2-1f1e-4de9-afab-a7d4f18403e4",
   "metadata": {},
   "outputs": [
    {
     "data": {
      "text/html": [
       "\n",
       "<style>\n",
       "  #altair-viz-7f8a54e9fdb1408094a3d77807710567.vega-embed {\n",
       "    width: 100%;\n",
       "    display: flex;\n",
       "  }\n",
       "\n",
       "  #altair-viz-7f8a54e9fdb1408094a3d77807710567.vega-embed details,\n",
       "  #altair-viz-7f8a54e9fdb1408094a3d77807710567.vega-embed details summary {\n",
       "    position: relative;\n",
       "  }\n",
       "</style>\n",
       "<div id=\"altair-viz-7f8a54e9fdb1408094a3d77807710567\"></div>\n",
       "<script type=\"text/javascript\">\n",
       "  var VEGA_DEBUG = (typeof VEGA_DEBUG == \"undefined\") ? {} : VEGA_DEBUG;\n",
       "  (function(spec, embedOpt){\n",
       "    let outputDiv = document.currentScript.previousElementSibling;\n",
       "    if (outputDiv.id !== \"altair-viz-7f8a54e9fdb1408094a3d77807710567\") {\n",
       "      outputDiv = document.getElementById(\"altair-viz-7f8a54e9fdb1408094a3d77807710567\");\n",
       "    }\n",
       "\n",
       "    const paths = {\n",
       "      \"vega\": \"https://cdn.jsdelivr.net/npm/vega@5?noext\",\n",
       "      \"vega-lib\": \"https://cdn.jsdelivr.net/npm/vega-lib?noext\",\n",
       "      \"vega-lite\": \"https://cdn.jsdelivr.net/npm/vega-lite@5.20.1?noext\",\n",
       "      \"vega-embed\": \"https://cdn.jsdelivr.net/npm/vega-embed@6?noext\",\n",
       "    };\n",
       "\n",
       "    function maybeLoadScript(lib, version) {\n",
       "      var key = `${lib.replace(\"-\", \"\")}_version`;\n",
       "      return (VEGA_DEBUG[key] == version) ?\n",
       "        Promise.resolve(paths[lib]) :\n",
       "        new Promise(function(resolve, reject) {\n",
       "          var s = document.createElement('script');\n",
       "          document.getElementsByTagName(\"head\")[0].appendChild(s);\n",
       "          s.async = true;\n",
       "          s.onload = () => {\n",
       "            VEGA_DEBUG[key] = version;\n",
       "            return resolve(paths[lib]);\n",
       "          };\n",
       "          s.onerror = () => reject(`Error loading script: ${paths[lib]}`);\n",
       "          s.src = paths[lib];\n",
       "        });\n",
       "    }\n",
       "\n",
       "    function showError(err) {\n",
       "      outputDiv.innerHTML = `<div class=\"error\" style=\"color:red;\">${err}</div>`;\n",
       "      throw err;\n",
       "    }\n",
       "\n",
       "    function displayChart(vegaEmbed) {\n",
       "      vegaEmbed(outputDiv, spec, embedOpt)\n",
       "        .catch(err => showError(`Javascript Error: ${err.message}<br>This usually means there's a typo in your chart specification. See the javascript console for the full traceback.`));\n",
       "    }\n",
       "\n",
       "    if(typeof define === \"function\" && define.amd) {\n",
       "      requirejs.config({paths});\n",
       "      let deps = [\"vega-embed\"];\n",
       "      require(deps, displayChart, err => showError(`Error loading script: ${err.message}`));\n",
       "    } else {\n",
       "      maybeLoadScript(\"vega\", \"5\")\n",
       "        .then(() => maybeLoadScript(\"vega-lite\", \"5.20.1\"))\n",
       "        .then(() => maybeLoadScript(\"vega-embed\", \"6\"))\n",
       "        .catch(showError)\n",
       "        .then(() => displayChart(vegaEmbed));\n",
       "    }\n",
       "  })({\"$schema\": \"https://vega.github.io/schema/vega/v5.json\", \"data\": [{\"name\": \"source_0\", \"values\": [{\"__count\": 64880, \"bin_maxbins_50_best_similarity_name_score\": 0.98, \"bin_maxbins_50_best_similarity_name_score_end\": 1.0}, {\"__count\": 28292, \"bin_maxbins_50_best_similarity_name_score\": 0.96, \"bin_maxbins_50_best_similarity_name_score_end\": 0.98}, {\"__count\": 22460, \"bin_maxbins_50_best_similarity_name_score\": 0.9400000000000001, \"bin_maxbins_50_best_similarity_name_score_end\": 0.9600000000000001}, {\"__count\": 14728, \"bin_maxbins_50_best_similarity_name_score\": 0.92, \"bin_maxbins_50_best_similarity_name_score_end\": 0.9400000000000001}, {\"__count\": 11693, \"bin_maxbins_50_best_similarity_name_score\": 0.9, \"bin_maxbins_50_best_similarity_name_score_end\": 0.92}, {\"__count\": 8949, \"bin_maxbins_50_best_similarity_name_score\": 0.88, \"bin_maxbins_50_best_similarity_name_score_end\": 0.9}, {\"__count\": 8278, \"bin_maxbins_50_best_similarity_name_score\": 0.86, \"bin_maxbins_50_best_similarity_name_score_end\": 0.88}, {\"__count\": 6593, \"bin_maxbins_50_best_similarity_name_score\": 0.84, \"bin_maxbins_50_best_similarity_name_score_end\": 0.86}, {\"__count\": 5276, \"bin_maxbins_50_best_similarity_name_score\": 0.8200000000000001, \"bin_maxbins_50_best_similarity_name_score_end\": 0.8400000000000001}, {\"__count\": 1919, \"bin_maxbins_50_best_similarity_name_score\": 0.8, \"bin_maxbins_50_best_similarity_name_score_end\": 0.8200000000000001}, {\"__count\": 1868, \"bin_maxbins_50_best_similarity_name_score\": 0.78, \"bin_maxbins_50_best_similarity_name_score_end\": 0.8}, {\"__count\": 2034, \"bin_maxbins_50_best_similarity_name_score\": 0.76, \"bin_maxbins_50_best_similarity_name_score_end\": 0.78}, {\"__count\": 2313, \"bin_maxbins_50_best_similarity_name_score\": 0.74, \"bin_maxbins_50_best_similarity_name_score_end\": 0.76}, {\"__count\": 2888, \"bin_maxbins_50_best_similarity_name_score\": 0.72, \"bin_maxbins_50_best_similarity_name_score_end\": 0.74}, {\"__count\": 4295, \"bin_maxbins_50_best_similarity_name_score\": 0.7000000000000001, \"bin_maxbins_50_best_similarity_name_score_end\": 0.7200000000000001}, {\"__count\": 10976, \"bin_maxbins_50_best_similarity_name_score\": 0.68, \"bin_maxbins_50_best_similarity_name_score_end\": 0.7000000000000001}, {\"__count\": 17233, \"bin_maxbins_50_best_similarity_name_score\": 0.66, \"bin_maxbins_50_best_similarity_name_score_end\": 0.68}, {\"__count\": 27817, \"bin_maxbins_50_best_similarity_name_score\": 0.64, \"bin_maxbins_50_best_similarity_name_score_end\": 0.66}, {\"__count\": 43773, \"bin_maxbins_50_best_similarity_name_score\": 0.62, \"bin_maxbins_50_best_similarity_name_score_end\": 0.64}, {\"__count\": 61421, \"bin_maxbins_50_best_similarity_name_score\": 0.6, \"bin_maxbins_50_best_similarity_name_score_end\": 0.62}, {\"__count\": 82861, \"bin_maxbins_50_best_similarity_name_score\": 0.58, \"bin_maxbins_50_best_similarity_name_score_end\": 0.6}, {\"__count\": 93664, \"bin_maxbins_50_best_similarity_name_score\": 0.56, \"bin_maxbins_50_best_similarity_name_score_end\": 0.5800000000000001}, {\"__count\": 96167, \"bin_maxbins_50_best_similarity_name_score\": 0.54, \"bin_maxbins_50_best_similarity_name_score_end\": 0.56}, {\"__count\": 93779, \"bin_maxbins_50_best_similarity_name_score\": 0.52, \"bin_maxbins_50_best_similarity_name_score_end\": 0.54}, {\"__count\": 84651, \"bin_maxbins_50_best_similarity_name_score\": 0.5, \"bin_maxbins_50_best_similarity_name_score_end\": 0.52}, {\"__count\": 66612, \"bin_maxbins_50_best_similarity_name_score\": 0.48, \"bin_maxbins_50_best_similarity_name_score_end\": 0.5}, {\"__count\": 55587, \"bin_maxbins_50_best_similarity_name_score\": 0.46, \"bin_maxbins_50_best_similarity_name_score_end\": 0.48000000000000004}, {\"__count\": 38033, \"bin_maxbins_50_best_similarity_name_score\": 0.44, \"bin_maxbins_50_best_similarity_name_score_end\": 0.46}, {\"__count\": 25374, \"bin_maxbins_50_best_similarity_name_score\": 0.42, \"bin_maxbins_50_best_similarity_name_score_end\": 0.44}, {\"__count\": 17261, \"bin_maxbins_50_best_similarity_name_score\": 0.4, \"bin_maxbins_50_best_similarity_name_score_end\": 0.42000000000000004}, {\"__count\": 9573, \"bin_maxbins_50_best_similarity_name_score\": 0.38, \"bin_maxbins_50_best_similarity_name_score_end\": 0.4}, {\"__count\": 5245, \"bin_maxbins_50_best_similarity_name_score\": 0.36, \"bin_maxbins_50_best_similarity_name_score_end\": 0.38}, {\"__count\": 2753, \"bin_maxbins_50_best_similarity_name_score\": 0.34, \"bin_maxbins_50_best_similarity_name_score_end\": 0.36000000000000004}, {\"__count\": 1195, \"bin_maxbins_50_best_similarity_name_score\": 0.32, \"bin_maxbins_50_best_similarity_name_score_end\": 0.34}, {\"__count\": 881, \"bin_maxbins_50_best_similarity_name_score\": 0.3, \"bin_maxbins_50_best_similarity_name_score_end\": 0.32}, {\"__count\": 883, \"bin_maxbins_50_best_similarity_name_score\": 0.28, \"bin_maxbins_50_best_similarity_name_score_end\": 0.30000000000000004}, {\"__count\": 677, \"bin_maxbins_50_best_similarity_name_score\": 0.26, \"bin_maxbins_50_best_similarity_name_score_end\": 0.28}, {\"__count\": 145, \"bin_maxbins_50_best_similarity_name_score\": 0.24, \"bin_maxbins_50_best_similarity_name_score_end\": 0.26}, {\"__count\": 1, \"bin_maxbins_50_best_similarity_name_score\": 0.22, \"bin_maxbins_50_best_similarity_name_score_end\": 0.24}, {\"__count\": 2713, \"bin_maxbins_50_best_similarity_name_score\": 0.0, \"bin_maxbins_50_best_similarity_name_score_end\": 0.02}]}, {\"name\": \"source_0_y_domain___count\", \"values\": [{\"min\": 1, \"max\": 96167}]}], \"signals\": [{\"name\": \"bin_maxbins_50_best_similarity_name_score_bins\", \"value\": {\"fields\": [\"best_similarity_name_score\"], \"fname\": \"bin_best_similarity_name_score\", \"start\": 0.0, \"step\": 0.02, \"stop\": 1.0}}], \"marks\": [{\"type\": \"rect\", \"name\": \"marks\", \"from\": {\"data\": \"source_0\"}, \"encode\": {\"update\": {\"y2\": {\"value\": 0, \"scale\": \"y\"}, \"fill\": {\"value\": \"#4c78a8\"}, \"x2\": {\"field\": \"bin_maxbins_50_best_similarity_name_score\", \"scale\": \"x\", \"offset\": {\"signal\": \"0.5 + (abs(scale(\\\"x\\\", datum[\\\"bin_maxbins_50_best_similarity_name_score_end\\\"]) - scale(\\\"x\\\", datum[\\\"bin_maxbins_50_best_similarity_name_score\\\"])) < 0.25 ? -0.5 * (0.25 - (abs(scale(\\\"x\\\", datum[\\\"bin_maxbins_50_best_similarity_name_score_end\\\"]) - scale(\\\"x\\\", datum[\\\"bin_maxbins_50_best_similarity_name_score\\\"])))) : 0.5)\"}}, \"x\": {\"field\": \"bin_maxbins_50_best_similarity_name_score_end\", \"scale\": \"x\", \"offset\": {\"signal\": \"0.5 + (abs(scale(\\\"x\\\", datum[\\\"bin_maxbins_50_best_similarity_name_score_end\\\"]) - scale(\\\"x\\\", datum[\\\"bin_maxbins_50_best_similarity_name_score\\\"])) < 0.25 ? 0.5 * (0.25 - (abs(scale(\\\"x\\\", datum[\\\"bin_maxbins_50_best_similarity_name_score_end\\\"]) - scale(\\\"x\\\", datum[\\\"bin_maxbins_50_best_similarity_name_score\\\"])))) : -0.5)\"}}, \"y\": {\"field\": \"__count\", \"scale\": \"y\"}}}, \"style\": [\"bar\"]}], \"scales\": [{\"name\": \"x\", \"type\": \"linear\", \"domain\": {\"signal\": \"[bin_maxbins_50_best_similarity_name_score_bins.start, bin_maxbins_50_best_similarity_name_score_bins.stop]\"}, \"range\": [0, {\"signal\": \"width\"}], \"bins\": {\"signal\": \"bin_maxbins_50_best_similarity_name_score_bins\"}, \"zero\": false}, {\"name\": \"y\", \"type\": \"linear\", \"domain\": [{\"signal\": \"(data(\\\"source_0_y_domain___count\\\")[0] || {}).min\"}, {\"signal\": \"(data(\\\"source_0_y_domain___count\\\")[0] || {}).max\"}], \"range\": [{\"signal\": \"height\"}, 0], \"nice\": true, \"zero\": true}], \"axes\": [{\"scale\": \"y\", \"tickCount\": {\"signal\": \"ceil(height/40)\"}, \"grid\": true, \"maxExtent\": 0, \"gridScale\": \"x\", \"minExtent\": 0, \"ticks\": false, \"zindex\": 0, \"domain\": false, \"labels\": false, \"aria\": false, \"orient\": \"left\"}, {\"scale\": \"x\", \"labelOverlap\": true, \"grid\": false, \"tickCount\": {\"signal\": \"ceil(width/10)\"}, \"zindex\": 0, \"title\": \"Best Name Similarity Score\", \"orient\": \"bottom\", \"labelFlush\": true}, {\"scale\": \"y\", \"title\": \"Frequency\", \"tickCount\": {\"signal\": \"ceil(height/40)\"}, \"zindex\": 0, \"orient\": \"left\", \"labelOverlap\": true, \"grid\": false}], \"title\": {\"text\": \"Distribution of Company\\u2013Name Similarity Scores\", \"frame\": \"group\"}, \"style\": \"cell\", \"width\": 300, \"padding\": 5, \"height\": 300, \"background\": \"white\"}, {\"mode\": \"vega\"});\n",
       "</script>"
      ],
      "text/plain": [
       "alt.Chart(...)"
      ]
     },
     "execution_count": 55,
     "metadata": {},
     "output_type": "execute_result"
    }
   ],
   "source": [
    "import altair as alt\n",
    "alt.data_transformers.enable(\"vegafusion\")\n",
    "\n",
    "chart = (\n",
    "    alt.Chart(df.filter(pl.col(\"best_similarity_name_score\") >= 0).to_pandas())\n",
    "    .mark_bar()\n",
    "    .encode(\n",
    "        alt.X(\"best_similarity_name_score:Q\", bin=alt.Bin(maxbins=50), title=\"Best Name Similarity Score\"),\n",
    "        alt.Y(\"count()\", title=\"Frequency\")\n",
    "    )\n",
    "    .properties(\n",
    "        title=\"Distribution of Company–Name Similarity Scores\"\n",
    "    )\n",
    ")\n",
    "chart"
   ]
  },
  {
   "cell_type": "code",
   "execution_count": 56,
   "id": "f7055d55-e458-4013-8e9a-451ab7ce53b7",
   "metadata": {},
   "outputs": [],
   "source": [
    "matches = df.filter(pl.col(\"best_similarity_name_score\") > .8).sort(\"best_similarity_name_score\")"
   ]
  },
  {
   "cell_type": "code",
   "execution_count": 57,
   "id": "668b458b-75b9-4b71-8474-5767b3116497",
   "metadata": {},
   "outputs": [
    {
     "data": {
      "text/html": [
       "<div><style>\n",
       ".dataframe > thead > tr,\n",
       ".dataframe > tbody > tr {\n",
       "  text-align: right;\n",
       "  white-space: pre-wrap;\n",
       "}\n",
       "</style>\n",
       "<small>shape: (9, 111)</small><table border=\"1\" class=\"dataframe\"><thead><tr><th>statistic</th><th>DOT_NUMBER</th><th>LEGAL_NAME</th><th>DBA_NAME</th><th>CARRIER_OPERATION</th><th>HM_FLAG</th><th>PC_FLAG</th><th>PHY_STREET</th><th>PHY_CITY</th><th>PHY_STATE</th><th>PHY_ZIP</th><th>PHY_COUNTRY</th><th>MAILING_STREET</th><th>MAILING_CITY</th><th>MAILING_STATE</th><th>MAILING_ZIP</th><th>MAILING_COUNTRY</th><th>TELEPHONE</th><th>FAX</th><th>EMAIL_ADDRESS</th><th>MCS150_DATE</th><th>MCS150_MILEAGE</th><th>MCS150_MILEAGE_YEAR</th><th>ADD_DATE</th><th>OIC_STATE</th><th>NBR_POWER_UNIT</th><th>DRIVER_TOTAL</th><th>RECENT_MILEAGE</th><th>RECENT_MILEAGE_YEAR</th><th>VMT_SOURCE_ID</th><th>PRIVATE_ONLY</th><th>AUTHORIZED_FOR_HIRE</th><th>EXEMPT_FOR_HIRE</th><th>PRIVATE_PROPERTY</th><th>PRIVATE_PASSENGER_BUSINESS</th><th>PRIVATE_PASSENGER_NONBUSINESS</th><th>MIGRANT</th><th>&hellip;</th><th>sic6_descriptions_sic</th><th>sic_code_1</th><th>sic6_descriptions_sic1</th><th>sic_code_2</th><th>sic6_descriptions_sic2</th><th>sic_code_3</th><th>sic6_descriptions_sic3</th><th>sic_code_4</th><th>sic6_descriptions_sic4</th><th>yellow_page_code</th><th>business_status_code</th><th>industry_specific_first_byte</th><th>office_size_code</th><th>company_holding_status</th><th>subsidiary_number</th><th>parent_employee_size_code</th><th>parent_sales_volume_code</th><th>site_number</th><th>address_type_indicator</th><th>population_code</th><th>census_tract</th><th>census_block</th><th>match_code</th><th>cbsa_code</th><th>cbsa_level</th><th>csa_code</th><th>fips_code</th><th>year_established</th><th>employee_size_location</th><th>sales_volume_location</th><th>parent_actual_employee_size</th><th>parent_actual_sales_volume</th><th>latitude</th><th>longitude</th><th>similarities</th><th>best_name_match</th><th>best_similarity_name_score</th></tr><tr><td>str</td><td>f64</td><td>str</td><td>str</td><td>str</td><td>f64</td><td>f64</td><td>str</td><td>str</td><td>str</td><td>str</td><td>str</td><td>str</td><td>str</td><td>str</td><td>str</td><td>str</td><td>str</td><td>str</td><td>str</td><td>str</td><td>f64</td><td>f64</td><td>str</td><td>str</td><td>f64</td><td>f64</td><td>f64</td><td>f64</td><td>f64</td><td>f64</td><td>f64</td><td>f64</td><td>f64</td><td>f64</td><td>f64</td><td>f64</td><td>&hellip;</td><td>str</td><td>str</td><td>str</td><td>str</td><td>str</td><td>str</td><td>str</td><td>str</td><td>str</td><td>str</td><td>str</td><td>str</td><td>str</td><td>str</td><td>str</td><td>str</td><td>str</td><td>str</td><td>str</td><td>str</td><td>str</td><td>str</td><td>str</td><td>str</td><td>str</td><td>str</td><td>str</td><td>f64</td><td>f64</td><td>f64</td><td>f64</td><td>f64</td><td>f64</td><td>f64</td><td>f64</td><td>str</td><td>f64</td></tr></thead><tbody><tr><td>&quot;count&quot;</td><td>173035.0</td><td>&quot;173035&quot;</td><td>&quot;50574&quot;</td><td>&quot;173035&quot;</td><td>173035.0</td><td>173035.0</td><td>&quot;173035&quot;</td><td>&quot;173035&quot;</td><td>&quot;173035&quot;</td><td>&quot;173035&quot;</td><td>&quot;173035&quot;</td><td>&quot;173033&quot;</td><td>&quot;173033&quot;</td><td>&quot;173033&quot;</td><td>&quot;173033&quot;</td><td>&quot;173033&quot;</td><td>&quot;172757&quot;</td><td>&quot;89765&quot;</td><td>&quot;138393&quot;</td><td>&quot;162023&quot;</td><td>134501.0</td><td>131640.0</td><td>&quot;173035&quot;</td><td>&quot;173035&quot;</td><td>166664.0</td><td>172919.0</td><td>173035.0</td><td>173035.0</td><td>91389.0</td><td>173035.0</td><td>173035.0</td><td>173035.0</td><td>173035.0</td><td>173035.0</td><td>173035.0</td><td>173035.0</td><td>&hellip;</td><td>&quot;105434&quot;</td><td>&quot;67224&quot;</td><td>&quot;67109&quot;</td><td>&quot;43253&quot;</td><td>&quot;43170&quot;</td><td>&quot;28714&quot;</td><td>&quot;28677&quot;</td><td>&quot;19330&quot;</td><td>&quot;19299&quot;</td><td>&quot;72929&quot;</td><td>&quot;173035&quot;</td><td>&quot;5171&quot;</td><td>&quot;0&quot;</td><td>&quot;79&quot;</td><td>&quot;3277&quot;</td><td>&quot;5906&quot;</td><td>&quot;6602&quot;</td><td>&quot;15435&quot;</td><td>&quot;719&quot;</td><td>&quot;173035&quot;</td><td>&quot;173035&quot;</td><td>&quot;173035&quot;</td><td>&quot;173035&quot;</td><td>&quot;173035&quot;</td><td>&quot;160677&quot;</td><td>&quot;173035&quot;</td><td>&quot;173035&quot;</td><td>70912.0</td><td>173035.0</td><td>170250.0</td><td>5906.0</td><td>6832.0</td><td>173035.0</td><td>173035.0</td><td>173035.0</td><td>&quot;173035&quot;</td><td>173035.0</td></tr><tr><td>&quot;null_count&quot;</td><td>0.0</td><td>&quot;0&quot;</td><td>&quot;122461&quot;</td><td>&quot;0&quot;</td><td>0.0</td><td>0.0</td><td>&quot;0&quot;</td><td>&quot;0&quot;</td><td>&quot;0&quot;</td><td>&quot;0&quot;</td><td>&quot;0&quot;</td><td>&quot;2&quot;</td><td>&quot;2&quot;</td><td>&quot;2&quot;</td><td>&quot;2&quot;</td><td>&quot;2&quot;</td><td>&quot;278&quot;</td><td>&quot;83270&quot;</td><td>&quot;34642&quot;</td><td>&quot;11012&quot;</td><td>38534.0</td><td>41395.0</td><td>&quot;0&quot;</td><td>&quot;0&quot;</td><td>6371.0</td><td>116.0</td><td>0.0</td><td>0.0</td><td>81646.0</td><td>0.0</td><td>0.0</td><td>0.0</td><td>0.0</td><td>0.0</td><td>0.0</td><td>0.0</td><td>&hellip;</td><td>&quot;67601&quot;</td><td>&quot;105811&quot;</td><td>&quot;105926&quot;</td><td>&quot;129782&quot;</td><td>&quot;129865&quot;</td><td>&quot;144321&quot;</td><td>&quot;144358&quot;</td><td>&quot;153705&quot;</td><td>&quot;153736&quot;</td><td>&quot;100106&quot;</td><td>&quot;0&quot;</td><td>&quot;167864&quot;</td><td>&quot;173035&quot;</td><td>&quot;172956&quot;</td><td>&quot;169758&quot;</td><td>&quot;167129&quot;</td><td>&quot;166433&quot;</td><td>&quot;157600&quot;</td><td>&quot;172316&quot;</td><td>&quot;0&quot;</td><td>&quot;0&quot;</td><td>&quot;0&quot;</td><td>&quot;0&quot;</td><td>&quot;0&quot;</td><td>&quot;12358&quot;</td><td>&quot;0&quot;</td><td>&quot;0&quot;</td><td>102123.0</td><td>0.0</td><td>2785.0</td><td>167129.0</td><td>166203.0</td><td>0.0</td><td>0.0</td><td>0.0</td><td>&quot;0&quot;</td><td>0.0</td></tr><tr><td>&quot;mean&quot;</td><td>2.1631e6</td><td>null</td><td>null</td><td>null</td><td>0.010616</td><td>0.02737</td><td>null</td><td>null</td><td>null</td><td>null</td><td>null</td><td>null</td><td>null</td><td>null</td><td>null</td><td>null</td><td>null</td><td>null</td><td>null</td><td>null</td><td>410452.008119</td><td>2023.150068</td><td>null</td><td>null</td><td>27.629818</td><td>8.626166</td><td>247909.270205</td><td>1068.986234</td><td>1.031929</td><td>0.592314</td><td>0.346849</td><td>0.042228</td><td>0.660173</td><td>0.027815</td><td>0.015598</td><td>0.00026</td><td>&hellip;</td><td>null</td><td>null</td><td>null</td><td>null</td><td>null</td><td>null</td><td>null</td><td>null</td><td>null</td><td>null</td><td>null</td><td>null</td><td>null</td><td>null</td><td>null</td><td>null</td><td>null</td><td>null</td><td>null</td><td>null</td><td>null</td><td>null</td><td>null</td><td>null</td><td>null</td><td>null</td><td>null</td><td>1983.172411</td><td>17.453873</td><td>5248.977122</td><td>368.069252</td><td>4.0841e6</td><td>38.676906</td><td>-92.830763</td><td>null</td><td>null</td><td>0.951045</td></tr><tr><td>&quot;std&quot;</td><td>1.1060e6</td><td>null</td><td>null</td><td>null</td><td>null</td><td>null</td><td>null</td><td>null</td><td>null</td><td>null</td><td>null</td><td>null</td><td>null</td><td>null</td><td>null</td><td>null</td><td>null</td><td>null</td><td>null</td><td>null</td><td>2.5485e7</td><td>133.617337</td><td>null</td><td>null</td><td>1646.861831</td><td>285.839063</td><td>1.3186e7</td><td>1012.489186</td><td>0.247251</td><td>null</td><td>null</td><td>null</td><td>null</td><td>null</td><td>null</td><td>null</td><td>&hellip;</td><td>null</td><td>null</td><td>null</td><td>null</td><td>null</td><td>null</td><td>null</td><td>null</td><td>null</td><td>null</td><td>null</td><td>null</td><td>null</td><td>null</td><td>null</td><td>null</td><td>null</td><td>null</td><td>null</td><td>null</td><td>null</td><td>null</td><td>null</td><td>null</td><td>null</td><td>null</td><td>null</td><td>32.308695</td><td>73.105108</td><td>29781.866437</td><td>1203.03973</td><td>9.2881e6</td><td>5.109101</td><td>17.368025</td><td>null</td><td>null</td><td>0.051394</td></tr><tr><td>&quot;min&quot;</td><td>44.0</td><td>&quot;&#x27;ROUND THE CLOCK TOWING LLC&quot;</td><td>&quot;+DAM HALL&#x27;S NURSERY PLANTS&quot;</td><td>&quot;A&quot;</td><td>0.0</td><td>0.0</td><td>&quot;# 1 INDUSTRIAL PARK RD&quot;</td><td>&quot;1025 SANTIAGO ST&quot;</td><td>&quot;AK&quot;</td><td>&quot;00603-1405&quot;</td><td>&quot;CR&quot;</td><td>&quot;# 1 DOBSON LANE&quot;</td><td>&quot;10540 WINNETKA AVE N&quot;</td><td>&quot;AK&quot;</td><td>&quot;00603-1405&quot;</td><td>&quot;CA&quot;</td><td>&quot;( 20) 325-5150&quot;</td><td>&quot;(&nbsp;&nbsp;&nbsp;)&nbsp;&nbsp;&nbsp;&nbsp;-&nbsp;&nbsp;&nbsp;0&quot;</td><td>&quot;00&quot;</td><td>&quot;01-APR-02&quot;</td><td>0.0</td><td>0.0</td><td>&quot;01-APR-02&quot;</td><td>&quot;AK&quot;</td><td>0.0</td><td>0.0</td><td>0.0</td><td>0.0</td><td>1.0</td><td>0.0</td><td>0.0</td><td>0.0</td><td>0.0</td><td>0.0</td><td>0.0</td><td>0.0</td><td>&hellip;</td><td>&quot;ABDOMINAL SUPPORTS (WHLS)&quot;</td><td>&quot;011598&quot;</td><td>&quot;ABORTION INFORMATION &amp; SERVICE…</td><td>&quot;019101&quot;</td><td>&quot;ABORTION INFORMATION &amp; SERVICE…</td><td>&quot;075210&quot;</td><td>&quot;A T M DEALERS-SERVICE &amp; REPAIR&quot;</td><td>&quot;075220&quot;</td><td>&quot;ABORTION ALTERNATIVES ORGANIZA…</td><td>&quot;00002&quot;</td><td>&quot;1&quot;</td><td>&quot;!&quot;</td><td>null</td><td>&quot;1&quot;</td><td>&quot;000028704&quot;</td><td>&quot;A&quot;</td><td>&quot;A&quot;</td><td>&quot;000013177&quot;</td><td>&quot;N&quot;</td><td>&quot;0&quot;</td><td>&quot;000100&quot;</td><td>&quot;1&quot;</td><td>&quot;0&quot;</td><td>&quot;00000&quot;</td><td>&quot;1&quot;</td><td>&quot;000&quot;</td><td>&quot;01001&quot;</td><td>1633.0</td><td>0.0</td><td>0.0</td><td>1.0</td><td>0.0</td><td>17.988632</td><td>-159.511108</td><td>null</td><td>&quot;&#x27;ROUND THE CLOCK TOWING LLC&quot;</td><td>0.8</td></tr><tr><td>&quot;25%&quot;</td><td>1.260546e6</td><td>null</td><td>null</td><td>null</td><td>null</td><td>null</td><td>null</td><td>null</td><td>null</td><td>null</td><td>null</td><td>null</td><td>null</td><td>null</td><td>null</td><td>null</td><td>null</td><td>null</td><td>null</td><td>null</td><td>8000.0</td><td>2021.0</td><td>null</td><td>null</td><td>1.0</td><td>1.0</td><td>0.0</td><td>0.0</td><td>1.0</td><td>null</td><td>null</td><td>null</td><td>null</td><td>null</td><td>null</td><td>null</td><td>&hellip;</td><td>null</td><td>null</td><td>null</td><td>null</td><td>null</td><td>null</td><td>null</td><td>null</td><td>null</td><td>null</td><td>null</td><td>null</td><td>null</td><td>null</td><td>null</td><td>null</td><td>null</td><td>null</td><td>null</td><td>null</td><td>null</td><td>null</td><td>null</td><td>null</td><td>null</td><td>null</td><td>null</td><td>1966.0</td><td>3.0</td><td>303.0</td><td>25.0</td><td>117638.0</td><td>34.574598</td><td>-105.239485</td><td>null</td><td>null</td><td>0.920261</td></tr><tr><td>&quot;50%&quot;</td><td>2.186832e6</td><td>null</td><td>null</td><td>null</td><td>null</td><td>null</td><td>null</td><td>null</td><td>null</td><td>null</td><td>null</td><td>null</td><td>null</td><td>null</td><td>null</td><td>null</td><td>null</td><td>null</td><td>null</td><td>null</td><td>25000.0</td><td>2023.0</td><td>null</td><td>null</td><td>2.0</td><td>2.0</td><td>30.0</td><td>2021.0</td><td>1.0</td><td>null</td><td>null</td><td>null</td><td>null</td><td>null</td><td>null</td><td>null</td><td>&hellip;</td><td>null</td><td>null</td><td>null</td><td>null</td><td>null</td><td>null</td><td>null</td><td>null</td><td>null</td><td>null</td><td>null</td><td>null</td><td>null</td><td>null</td><td>null</td><td>null</td><td>null</td><td>null</td><td>null</td><td>null</td><td>null</td><td>null</td><td>null</td><td>null</td><td>null</td><td>null</td><td>null</td><td>1987.0</td><td>5.0</td><td>823.0</td><td>100.0</td><td>633287.0</td><td>39.752763</td><td>-87.356346</td><td>null</td><td>null</td><td>0.962963</td></tr><tr><td>&quot;75%&quot;</td><td>2.99159e6</td><td>null</td><td>null</td><td>null</td><td>null</td><td>null</td><td>null</td><td>null</td><td>null</td><td>null</td><td>null</td><td>null</td><td>null</td><td>null</td><td>null</td><td>null</td><td>null</td><td>null</td><td>null</td><td>null</td><td>97000.0</td><td>2024.0</td><td>null</td><td>null</td><td>5.0</td><td>5.0</td><td>42453.0</td><td>2024.0</td><td>1.0</td><td>null</td><td>null</td><td>null</td><td>null</td><td>null</td><td>null</td><td>null</td><td>&hellip;</td><td>null</td><td>null</td><td>null</td><td>null</td><td>null</td><td>null</td><td>null</td><td>null</td><td>null</td><td>null</td><td>null</td><td>null</td><td>null</td><td>null</td><td>null</td><td>null</td><td>null</td><td>null</td><td>null</td><td>null</td><td>null</td><td>null</td><td>null</td><td>null</td><td>null</td><td>null</td><td>null</td><td>2012.0</td><td>15.0</td><td>2824.0</td><td>350.0</td><td>3.029097e6</td><td>42.177115</td><td>-79.366639</td><td>null</td><td>null</td><td>1.0</td></tr><tr><td>&quot;max&quot;</td><td>4.460637e6</td><td>&quot;ZZK AUTO SALES LLC&quot;</td><td>&quot;ZZ ENTERPRISES&quot;</td><td>&quot;C&quot;</td><td>1.0</td><td>1.0</td><td>&quot;WEST 1427 DEAN&quot;</td><td>&quot;ZWOLLE&quot;</td><td>&quot;WY&quot;</td><td>&quot;99901-9755&quot;</td><td>&quot;US&quot;</td><td>&quot;WEST 1427 DEAN&quot;</td><td>&quot;ZWOLLE&quot;</td><td>&quot;WY&quot;</td><td>&quot;N0R 1L0&quot;</td><td>&quot;US&quot;</td><td>&quot;(999) 999-9999&quot;</td><td>&quot;(999) 999-9999&quot;</td><td>&quot;ZZUPIN@ZUPINCRANE.COM&quot;</td><td>&quot;31-OCT-24&quot;</td><td>7.5001e9</td><td>9900.0</td><td>&quot;31-OCT-98&quot;</td><td>&quot;WY&quot;</td><td>499995.0</td><td>99995.0</td><td>4.0000e9</td><td>9800.0</td><td>3.0</td><td>1.0</td><td>1.0</td><td>1.0</td><td>1.0</td><td>1.0</td><td>1.0</td><td>1.0</td><td>&hellip;</td><td>&quot;ZOOS&quot;</td><td>&quot;999966&quot;</td><td>&quot;ZOOS&quot;</td><td>&quot;999966&quot;</td><td>&quot;ZIPPERS (WHLS)&quot;</td><td>&quot;999966&quot;</td><td>&quot;YOUTH ORGANIZATIONS &amp; CENTERS&quot;</td><td>&quot;999966&quot;</td><td>&quot;YARD SIGNS&quot;</td><td>&quot;95003&quot;</td><td>&quot;9&quot;</td><td>&quot;�&quot;</td><td>null</td><td>&quot;1&quot;</td><td>&quot;995070737&quot;</td><td>&quot;K&quot;</td><td>&quot;K&quot;</td><td>&quot;998974554&quot;</td><td>&quot;R&quot;</td><td>&quot;8&quot;</td><td>&quot;989100&quot;</td><td>&quot;9&quot;</td><td>&quot;X&quot;</td><td>&quot;49820&quot;</td><td>&quot;2&quot;</td><td>&quot;566&quot;</td><td>&quot;72131&quot;</td><td>2024.0</td><td>10000.0</td><td>3.590883e6</td><td>35000.0</td><td>9.9999999e7</td><td>64.920831</td><td>-65.96403</td><td>null</td><td>&quot;ZZK AUTO SALES LLC&quot;</td><td>1.0</td></tr></tbody></table></div>"
      ],
      "text/plain": [
       "shape: (9, 111)\n",
       "┌───────────┬───────────┬───────────┬───────────┬───┬───────────┬───────────┬───────────┬──────────┐\n",
       "│ statistic ┆ DOT_NUMBE ┆ LEGAL_NAM ┆ DBA_NAME  ┆ … ┆ longitude ┆ similarit ┆ best_name ┆ best_sim │\n",
       "│ ---       ┆ R         ┆ E         ┆ ---       ┆   ┆ ---       ┆ ies       ┆ _match    ┆ ilarity_ │\n",
       "│ str       ┆ ---       ┆ ---       ┆ str       ┆   ┆ f64       ┆ ---       ┆ ---       ┆ name_sco │\n",
       "│           ┆ f64       ┆ str       ┆           ┆   ┆           ┆ f64       ┆ str       ┆ re       │\n",
       "│           ┆           ┆           ┆           ┆   ┆           ┆           ┆           ┆ ---      │\n",
       "│           ┆           ┆           ┆           ┆   ┆           ┆           ┆           ┆ f64      │\n",
       "╞═══════════╪═══════════╪═══════════╪═══════════╪═══╪═══════════╪═══════════╪═══════════╪══════════╡\n",
       "│ count     ┆ 173035.0  ┆ 173035    ┆ 50574     ┆ … ┆ 173035.0  ┆ 173035.0  ┆ 173035    ┆ 173035.0 │\n",
       "│ null_coun ┆ 0.0       ┆ 0         ┆ 122461    ┆ … ┆ 0.0       ┆ 0.0       ┆ 0         ┆ 0.0      │\n",
       "│ t         ┆           ┆           ┆           ┆   ┆           ┆           ┆           ┆          │\n",
       "│ mean      ┆ 2.1631e6  ┆ null      ┆ null      ┆ … ┆ -92.83076 ┆ null      ┆ null      ┆ 0.951045 │\n",
       "│           ┆           ┆           ┆           ┆   ┆ 3         ┆           ┆           ┆          │\n",
       "│ std       ┆ 1.1060e6  ┆ null      ┆ null      ┆ … ┆ 17.368025 ┆ null      ┆ null      ┆ 0.051394 │\n",
       "│ min       ┆ 44.0      ┆ 'ROUND    ┆ +DAM      ┆ … ┆ -159.5111 ┆ null      ┆ 'ROUND    ┆ 0.8      │\n",
       "│           ┆           ┆ THE CLOCK ┆ HALL'S    ┆   ┆ 08        ┆           ┆ THE CLOCK ┆          │\n",
       "│           ┆           ┆ TOWING    ┆ NURSERY   ┆   ┆           ┆           ┆ TOWING    ┆          │\n",
       "│           ┆           ┆ LLC       ┆ PLANTS    ┆   ┆           ┆           ┆ LLC       ┆          │\n",
       "│ 25%       ┆ 1.260546e ┆ null      ┆ null      ┆ … ┆ -105.2394 ┆ null      ┆ null      ┆ 0.920261 │\n",
       "│           ┆ 6         ┆           ┆           ┆   ┆ 85        ┆           ┆           ┆          │\n",
       "│ 50%       ┆ 2.186832e ┆ null      ┆ null      ┆ … ┆ -87.35634 ┆ null      ┆ null      ┆ 0.962963 │\n",
       "│           ┆ 6         ┆           ┆           ┆   ┆ 6         ┆           ┆           ┆          │\n",
       "│ 75%       ┆ 2.99159e6 ┆ null      ┆ null      ┆ … ┆ -79.36663 ┆ null      ┆ null      ┆ 1.0      │\n",
       "│           ┆           ┆           ┆           ┆   ┆ 9         ┆           ┆           ┆          │\n",
       "│ max       ┆ 4.460637e ┆ ZZK AUTO  ┆ ZZ ENTERP ┆ … ┆ -65.96403 ┆ null      ┆ ZZK AUTO  ┆ 1.0      │\n",
       "│           ┆ 6         ┆ SALES LLC ┆ RISES     ┆   ┆           ┆           ┆ SALES LLC ┆          │\n",
       "└───────────┴───────────┴───────────┴───────────┴───┴───────────┴───────────┴───────────┴──────────┘"
      ]
     },
     "execution_count": 57,
     "metadata": {},
     "output_type": "execute_result"
    }
   ],
   "source": [
    "matches.describe()"
   ]
  },
  {
   "cell_type": "code",
   "execution_count": 58,
   "id": "117b2ad2-3a48-4e58-aaa4-6107019b1196",
   "metadata": {},
   "outputs": [
    {
     "data": {
      "text/plain": [
       "(2091643, 110)"
      ]
     },
     "execution_count": 58,
     "metadata": {},
     "output_type": "execute_result"
    }
   ],
   "source": [
    "df.shape"
   ]
  },
  {
   "cell_type": "code",
   "execution_count": 59,
   "id": "9e9aba4d-bc8e-434c-9f56-625dbc9462d0",
   "metadata": {},
   "outputs": [],
   "source": [
    "df.write_parquet(\"../data/fully_joined_census_and_data_axle.parquet\")"
   ]
  },
  {
   "cell_type": "code",
   "execution_count": 60,
   "id": "7b9db724-d98d-43f5-a4e9-f0d5d7d04ebc",
   "metadata": {},
   "outputs": [
    {
     "data": {
      "text/plain": [
       "(1025741, 110)"
      ]
     },
     "execution_count": 60,
     "metadata": {},
     "output_type": "execute_result"
    }
   ],
   "source": [
    "df.filter(pl.col(\"company\").is_not_null()).shape"
   ]
  },
  {
   "cell_type": "code",
   "execution_count": 61,
   "id": "1e14ff62-38bd-4576-96ef-ddde8f425c51",
   "metadata": {},
   "outputs": [
    {
     "data": {
      "text/plain": [
       "(173035, 110)"
      ]
     },
     "execution_count": 61,
     "metadata": {},
     "output_type": "execute_result"
    }
   ],
   "source": [
    "matches.shape"
   ]
  },
  {
   "cell_type": "code",
   "execution_count": 62,
   "id": "1ef8fe30-b657-4f40-8847-d33c7d2f4a29",
   "metadata": {},
   "outputs": [
    {
     "data": {
      "text/plain": [
       "0.08272683244702848"
      ]
     },
     "execution_count": 62,
     "metadata": {},
     "output_type": "execute_result"
    }
   ],
   "source": [
    "173035 / len(df)\n"
   ]
  },
  {
   "cell_type": "code",
   "execution_count": 65,
   "id": "6b60ced3-df4a-42d1-a212-584b2c2bb9a9",
   "metadata": {},
   "outputs": [
    {
     "data": {
      "text/html": [
       "<div><style>\n",
       ".dataframe > thead > tr,\n",
       ".dataframe > tbody > tr {\n",
       "  text-align: right;\n",
       "  white-space: pre-wrap;\n",
       "}\n",
       "</style>\n",
       "<small>shape: (9, 4)</small><table border=\"1\" class=\"dataframe\"><thead><tr><th>LEGAL_NAME</th><th>DBA_NAME</th><th>company</th><th>best_similarity_name_score</th></tr><tr><td>str</td><td>str</td><td>str</td><td>f64</td></tr></thead><tbody><tr><td>&quot;MASON M LESTER&quot;</td><td>&quot;LESTER TRUCKING&quot;</td><td>&quot;MARTY LESTER TRUCKING INC&quot;</td><td>0.8</td></tr><tr><td>&quot;FRASER CONSTRUCTION&quot;</td><td>null</td><td>&quot;FRONTIER PRODUCTIONS LLC&quot;</td><td>0.800034</td></tr><tr><td>&quot;ELITE LANDSCAPE SERVICES&quot;</td><td>null</td><td>&quot;PREMIER LANDSCAPE SVC&quot;</td><td>0.80007</td></tr><tr><td>&quot;HF JOHNSON TREE FARM LLC&quot;</td><td>null</td><td>&quot;H F JOHNSON TREE FARM LANDSCPG&quot;</td><td>0.800109</td></tr><tr><td>&quot;TRI GROUP CONSTRUCTION &amp; DEVEL…</td><td>null</td><td>&quot;TRI-GROUP CONSTR &amp; DEVMNT&quot;</td><td>0.800111</td></tr><tr><td>&quot;RW HAGGERTY POOL SERVICE INC&quot;</td><td>null</td><td>&quot;HAGGERTY R W POOL SVC INC&quot;</td><td>0.800159</td></tr><tr><td>&quot;BERNARD A SNELL JR&quot;</td><td>null</td><td>&quot;BERKSHIRE VALLEY DAIRY LLC&quot;</td><td>0.800171</td></tr><tr><td>&quot;B&amp;N OILFIELD EQUIPMENT CO INC&quot;</td><td>null</td><td>&quot;B &amp; N OILFIELD EQPT CO INC&quot;</td><td>0.800199</td></tr><tr><td>&quot;ROBERT WILDERMUTH&quot;</td><td>&quot;WILDERMUTH FARMS&quot;</td><td>&quot;ERIC WILDERMUTH&quot;</td><td>0.800201</td></tr></tbody></table></div>"
      ],
      "text/plain": [
       "shape: (9, 4)\n",
       "┌──────────────────────────┬──────────────────┬──────────────────────────┬─────────────────────────┐\n",
       "│ LEGAL_NAME               ┆ DBA_NAME         ┆ company                  ┆ best_similarity_name_sc │\n",
       "│ ---                      ┆ ---              ┆ ---                      ┆ ore                     │\n",
       "│ str                      ┆ str              ┆ str                      ┆ ---                     │\n",
       "│                          ┆                  ┆                          ┆ f64                     │\n",
       "╞══════════════════════════╪══════════════════╪══════════════════════════╪═════════════════════════╡\n",
       "│ MASON M LESTER           ┆ LESTER TRUCKING  ┆ MARTY LESTER TRUCKING    ┆ 0.8                     │\n",
       "│                          ┆                  ┆ INC                      ┆                         │\n",
       "│ FRASER CONSTRUCTION      ┆ null             ┆ FRONTIER PRODUCTIONS LLC ┆ 0.800034                │\n",
       "│ ELITE LANDSCAPE SERVICES ┆ null             ┆ PREMIER LANDSCAPE SVC    ┆ 0.80007                 │\n",
       "│ HF JOHNSON TREE FARM LLC ┆ null             ┆ H F JOHNSON TREE FARM    ┆ 0.800109                │\n",
       "│                          ┆                  ┆ LANDSCPG                 ┆                         │\n",
       "│ TRI GROUP CONSTRUCTION & ┆ null             ┆ TRI-GROUP CONSTR &       ┆ 0.800111                │\n",
       "│ DEVEL…                   ┆                  ┆ DEVMNT                   ┆                         │\n",
       "│ RW HAGGERTY POOL SERVICE ┆ null             ┆ HAGGERTY R W POOL SVC    ┆ 0.800159                │\n",
       "│ INC                      ┆                  ┆ INC                      ┆                         │\n",
       "│ BERNARD A SNELL JR       ┆ null             ┆ BERKSHIRE VALLEY DAIRY   ┆ 0.800171                │\n",
       "│                          ┆                  ┆ LLC                      ┆                         │\n",
       "│ B&N OILFIELD EQUIPMENT   ┆ null             ┆ B & N OILFIELD EQPT CO   ┆ 0.800199                │\n",
       "│ CO INC                   ┆                  ┆ INC                      ┆                         │\n",
       "│ ROBERT WILDERMUTH        ┆ WILDERMUTH FARMS ┆ ERIC WILDERMUTH          ┆ 0.800201                │\n",
       "└──────────────────────────┴──────────────────┴──────────────────────────┴─────────────────────────┘"
      ]
     },
     "execution_count": 65,
     "metadata": {},
     "output_type": "execute_result"
    }
   ],
   "source": [
    "matches.select([\"LEGAL_NAME\", \"DBA_NAME\", \"company\",  \"best_similarity_name_score\"]).head(9)"
   ]
  },
  {
   "cell_type": "code",
   "execution_count": 66,
   "id": "d07cf655-73af-43e0-93fa-7b3976e3b2fe",
   "metadata": {},
   "outputs": [
    {
     "data": {
      "text/plain": [
       "Schema([('DOT_NUMBER', Int64),\n",
       "        ('LEGAL_NAME', String),\n",
       "        ('DBA_NAME', String),\n",
       "        ('CARRIER_OPERATION', String),\n",
       "        ('HM_FLAG', Boolean),\n",
       "        ('PC_FLAG', Boolean),\n",
       "        ('PHY_STREET', String),\n",
       "        ('PHY_CITY', String),\n",
       "        ('PHY_STATE', String),\n",
       "        ('PHY_ZIP', String),\n",
       "        ('PHY_COUNTRY', String),\n",
       "        ('MAILING_STREET', String),\n",
       "        ('MAILING_CITY', String),\n",
       "        ('MAILING_STATE', String),\n",
       "        ('MAILING_ZIP', String),\n",
       "        ('MAILING_COUNTRY', String),\n",
       "        ('TELEPHONE', String),\n",
       "        ('FAX', String),\n",
       "        ('EMAIL_ADDRESS', String),\n",
       "        ('MCS150_DATE', String),\n",
       "        ('MCS150_MILEAGE', Int64),\n",
       "        ('MCS150_MILEAGE_YEAR', Int64),\n",
       "        ('ADD_DATE', String),\n",
       "        ('OIC_STATE', String),\n",
       "        ('NBR_POWER_UNIT', Int64),\n",
       "        ('DRIVER_TOTAL', Int64),\n",
       "        ('RECENT_MILEAGE', Int64),\n",
       "        ('RECENT_MILEAGE_YEAR', Int64),\n",
       "        ('VMT_SOURCE_ID', Int64),\n",
       "        ('PRIVATE_ONLY', Boolean),\n",
       "        ('AUTHORIZED_FOR_HIRE', Boolean),\n",
       "        ('EXEMPT_FOR_HIRE', Boolean),\n",
       "        ('PRIVATE_PROPERTY', Boolean),\n",
       "        ('PRIVATE_PASSENGER_BUSINESS', Boolean),\n",
       "        ('PRIVATE_PASSENGER_NONBUSINESS', Boolean),\n",
       "        ('MIGRANT', Boolean),\n",
       "        ('US_MAIL', Boolean),\n",
       "        ('FEDERAL_GOVERNMENT', Boolean),\n",
       "        ('STATE_GOVERNMENT', Boolean),\n",
       "        ('LOCAL_GOVERNMENT', Boolean),\n",
       "        ('INDIAN_TRIBE', Boolean),\n",
       "        ('OP_OTHER', String),\n",
       "        ('input_address', String),\n",
       "        ('match_status', Categorical),\n",
       "        ('match_type', Categorical),\n",
       "        ('matched_address', String),\n",
       "        ('tiger_line_id', String),\n",
       "        ('side', Categorical),\n",
       "        ('lat', Float64),\n",
       "        ('lon', Float64),\n",
       "        ('best_match', String),\n",
       "        ('confidence', Float64),\n",
       "        ('data_axle_row_index', UInt32),\n",
       "        ('parent_number', String),\n",
       "        ('archive_version_year', Float64),\n",
       "        ('abi', String),\n",
       "        ('ticker', String),\n",
       "        ('company', String),\n",
       "        ('address_line_1', String),\n",
       "        ('city', String),\n",
       "        ('state', String),\n",
       "        ('zipcode', String),\n",
       "        ('zip4', String),\n",
       "        ('county_code', String),\n",
       "        ('area_code', String),\n",
       "        ('idcode', String),\n",
       "        ('location_employee_size_code', String),\n",
       "        ('location_sales_volume_code', String),\n",
       "        ('primary_sic_code', String),\n",
       "        ('sic6_descriptions', String),\n",
       "        ('primary_naics_code', String),\n",
       "        ('naics8_descriptions', String),\n",
       "        ('sic_code', String),\n",
       "        ('sic6_descriptions_sic', String),\n",
       "        ('sic_code_1', String),\n",
       "        ('sic6_descriptions_sic1', String),\n",
       "        ('sic_code_2', String),\n",
       "        ('sic6_descriptions_sic2', String),\n",
       "        ('sic_code_3', String),\n",
       "        ('sic6_descriptions_sic3', String),\n",
       "        ('sic_code_4', String),\n",
       "        ('sic6_descriptions_sic4', String),\n",
       "        ('yellow_page_code', String),\n",
       "        ('business_status_code', String),\n",
       "        ('industry_specific_first_byte', String),\n",
       "        ('office_size_code', String),\n",
       "        ('company_holding_status', String),\n",
       "        ('subsidiary_number', String),\n",
       "        ('parent_employee_size_code', String),\n",
       "        ('parent_sales_volume_code', String),\n",
       "        ('site_number', String),\n",
       "        ('address_type_indicator', String),\n",
       "        ('population_code', String),\n",
       "        ('census_tract', String),\n",
       "        ('census_block', String),\n",
       "        ('match_code', String),\n",
       "        ('cbsa_code', String),\n",
       "        ('cbsa_level', String),\n",
       "        ('csa_code', String),\n",
       "        ('fips_code', String),\n",
       "        ('year_established', Float64),\n",
       "        ('employee_size_location', Float64),\n",
       "        ('sales_volume_location', Float64),\n",
       "        ('parent_actual_employee_size', Float64),\n",
       "        ('parent_actual_sales_volume', Float64),\n",
       "        ('latitude', Float64),\n",
       "        ('longitude', Float64),\n",
       "        ('similarities', List(Float64)),\n",
       "        ('best_name_match', String),\n",
       "        ('best_similarity_name_score', Float64)])"
      ]
     },
     "execution_count": 66,
     "metadata": {},
     "output_type": "execute_result"
    }
   ],
   "source": [
    "matches.schema"
   ]
  },
  {
   "cell_type": "code",
   "execution_count": null,
   "id": "2d36ee08-b798-4491-8ec9-dfe5795770e4",
   "metadata": {},
   "outputs": [],
   "source": [
    "'location_employee_size_code', String),\n",
    "        ('location_sales_volume_code', String),\n",
    "        ('primary_sic_code', String),\n",
    "        ('sic6_descriptions', String),\n",
    "        ('primary_naics_code', String),\n",
    "        ('naics8_descriptions', String),\n",
    "        ('sic_code', String),\n",
    "        ('sic6_descriptions_sic', String),\n",
    "        ('sic_code_1', String),\n",
    "        ('sic6_descriptions_sic1', String),\n",
    "        ('sic_code_2', String),\n",
    "        ('sic6_descriptions_sic2', String),\n",
    "        ('sic_code_3', String),\n",
    "        ('sic6_descriptions_sic3', String),\n",
    "        ('sic_code_4', String),\n",
    "        ('sic6_descriptions_sic4', String),"
   ]
  },
  {
   "cell_type": "code",
   "execution_count": 71,
   "id": "7c53294d-6c37-4643-a760-5b4bfd788b2f",
   "metadata": {},
   "outputs": [
    {
     "name": "stdout",
     "output_type": "stream",
     "text": [
      "shape: (924, 2)\n",
      "┌─────────────────────────────────┬────────────┐\n",
      "│ naics8_descriptions             ┆ proportion │\n",
      "│ ---                             ┆ ---        │\n",
      "│ str                             ┆ f64        │\n",
      "╞═════════════════════════════════╪════════════╡\n",
      "│ SPECIALIZED FREIGHT (EXC USED … ┆ 0.063675   │\n",
      "│ LANDSCAPING SERVICES            ┆ 0.059167   │\n",
      "│ NEW SINGLE-FAMILY HSNG CONSTR … ┆ 0.039767   │\n",
      "│ SITE PREPARATION CONTRACTORS    ┆ 0.035993   │\n",
      "│ UNCLASSIFIED ESTABLISHMENTS     ┆ 0.026937   │\n",
      "│ …                               ┆ …          │\n",
      "│ PHOSPHATIC FERTILIZER MANUFACT… ┆ 0.000006   │\n",
      "│ ALL OTHER SUPPORT ACTIVITIES F… ┆ 0.000006   │\n",
      "│ LESSORS OF NON-FINANCIAL INTAN… ┆ 0.000006   │\n",
      "│ INTERNATIONAL AFFAIRS           ┆ 0.000006   │\n",
      "│ COMMUNICATION EQUIPMENT REPAIR… ┆ 0.000006   │\n",
      "└─────────────────────────────────┴────────────┘\n"
     ]
    }
   ],
   "source": [
    "matches[\"naics8_descriptions\"].value_counts(normalize=True).sort(\"proportion\", descending=True)"
   ]
  },
  {
   "cell_type": "markdown",
   "id": "9e35e2cf-5d58-4627-82c8-5d66218c703f",
   "metadata": {},
   "source": [
    "## Analyze Complete Data"
   ]
  },
  {
   "cell_type": "code",
   "execution_count": 2,
   "id": "c147e643-e3d0-4725-a6d1-6e08d38313d3",
   "metadata": {},
   "outputs": [],
   "source": [
    "df = pl.read_parquet(\"../data/fully_joined_census_and_data_axle.parquet\")"
   ]
  },
  {
   "cell_type": "code",
   "execution_count": 4,
   "id": "786a53a2-3102-42f5-b686-d917b5ea44cd",
   "metadata": {},
   "outputs": [
    {
     "data": {
      "text/html": [
       "<div><style>\n",
       ".dataframe > thead > tr,\n",
       ".dataframe > tbody > tr {\n",
       "  text-align: right;\n",
       "  white-space: pre-wrap;\n",
       "}\n",
       "</style>\n",
       "<small>shape: (3, 2)</small><table border=\"1\" class=\"dataframe\"><thead><tr><th>match_type</th><th>proportion</th></tr><tr><td>cat</td><td>f64</td></tr></thead><tbody><tr><td>&quot;Exact&quot;</td><td>0.30007</td></tr><tr><td>null</td><td>0.503798</td></tr><tr><td>&quot;Non_Exact&quot;</td><td>0.196132</td></tr></tbody></table></div>"
      ],
      "text/plain": [
       "shape: (3, 2)\n",
       "┌────────────┬────────────┐\n",
       "│ match_type ┆ proportion │\n",
       "│ ---        ┆ ---        │\n",
       "│ cat        ┆ f64        │\n",
       "╞════════════╪════════════╡\n",
       "│ Exact      ┆ 0.30007    │\n",
       "│ null       ┆ 0.503798   │\n",
       "│ Non_Exact  ┆ 0.196132   │\n",
       "└────────────┴────────────┘"
      ]
     },
     "execution_count": 4,
     "metadata": {},
     "output_type": "execute_result"
    }
   ],
   "source": [
    "df[\"match_type\"].value_counts(normalize=True)"
   ]
  },
  {
   "cell_type": "code",
   "execution_count": 6,
   "id": "d6cc2d2a-e576-4f7c-acce-d583df5eef5b",
   "metadata": {},
   "outputs": [
    {
     "data": {
      "text/plain": [
       "0.5037982103064433"
      ]
     },
     "execution_count": 6,
     "metadata": {},
     "output_type": "execute_result"
    }
   ],
   "source": [
    "df[\"lat\"].is_null().sum() / len(df)"
   ]
  },
  {
   "cell_type": "code",
   "execution_count": 8,
   "id": "480b3f75-b88e-4c3c-9070-03397c6eac31",
   "metadata": {},
   "outputs": [
    {
     "data": {
      "text/plain": [
       "0.0007874192680108412"
      ]
     },
     "execution_count": 8,
     "metadata": {},
     "output_type": "execute_result"
    }
   ],
   "source": [
    "df[\"PHY_STREET\"].is_null().sum() / len(df)"
   ]
  },
  {
   "cell_type": "code",
   "execution_count": 10,
   "id": "d44d7ad5-5cbe-4261-b5cc-357b7e35b630",
   "metadata": {},
   "outputs": [
    {
     "data": {
      "text/plain": [
       "-1998"
      ]
     },
     "execution_count": 10,
     "metadata": {},
     "output_type": "execute_result"
    }
   ],
   "source": [
    "rdf = pl.read_parquet(\"../data/geocoded_addresses.parquet\")\n",
    "len(rdf) - len(df)"
   ]
  },
  {
   "cell_type": "code",
   "execution_count": 11,
   "id": "7c8fa363-66a0-4902-8aed-ef12f081d4f7",
   "metadata": {},
   "outputs": [
    {
     "data": {
      "text/plain": [
       "2091643"
      ]
     },
     "execution_count": 11,
     "metadata": {},
     "output_type": "execute_result"
    }
   ],
   "source": [
    "len(df)"
   ]
  },
  {
   "cell_type": "code",
   "execution_count": null,
   "id": "708190b3-c117-4e80-bcf5-b4f01faf998a",
   "metadata": {},
   "outputs": [],
   "source": []
  }
 ],
 "metadata": {
  "kernelspec": {
   "display_name": "Python 3 (ipykernel)",
   "language": "python",
   "name": "python3"
  },
  "language_info": {
   "codemirror_mode": {
    "name": "ipython",
    "version": 3
   },
   "file_extension": ".py",
   "mimetype": "text/x-python",
   "name": "python",
   "nbconvert_exporter": "python",
   "pygments_lexer": "ipython3",
   "version": "3.13.2"
  }
 },
 "nbformat": 4,
 "nbformat_minor": 5
}
