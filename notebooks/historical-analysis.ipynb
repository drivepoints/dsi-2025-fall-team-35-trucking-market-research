{
 "cells": [
  {
   "cell_type": "markdown",
   "id": "ac9676c1-9f7d-422d-8ce1-d0ecde513e3c",
   "metadata": {},
   "source": [
    "# Historical Census Analysis\n",
    "\n",
    "Downloading historical census files."
   ]
  },
  {
   "cell_type": "code",
   "execution_count": 14,
   "id": "d319f8f4-0999-470e-a432-9fa6358ddd82",
   "metadata": {},
   "outputs": [],
   "source": [
    "import polars as pl\n",
    "import requests\n",
    "import tempfile\n",
    "import os\n",
    "from pathlib import Path\n",
    "import re\n",
    "\n",
    "pl.Config().set_tbl_rows(15)\n",
    "    \n",
    "path = \"../data/historical\"\n",
    "parquet_dir = Path(path)\n",
    "\n",
    "version_re = re.compile(r\"version_(\\d+)\\.parquet$\")\n",
    "files = sorted(parquet_dir.glob(\"*.parquet\"))"
   ]
  },
  {
   "cell_type": "markdown",
   "id": "6879ea4d-b329-450f-91d7-6978d153817d",
   "metadata": {},
   "source": [
    "## Download the Files"
   ]
  },
  {
   "cell_type": "code",
   "execution_count": 15,
   "id": "84bd826f-d0a7-428b-9981-f3fa363638f8",
   "metadata": {},
   "outputs": [],
   "source": [
    "def download_and_convert(url, parquet_file):\n",
    "    with tempfile.NamedTemporaryFile(delete=False, suffix=\".csv\") as tmp:\n",
    "        csv_path = tmp.name\n",
    "        print(f\"Downloading CSV to temporary file: {csv_path}\")\n",
    "        response = requests.get(url, stream=True)\n",
    "        response.raise_for_status()\n",
    "\n",
    "        for chunk in response.iter_content(chunk_size=8192):\n",
    "            tmp.write(chunk)\n",
    "\n",
    "    print(\"Reading CSV into DataFrame...\")\n",
    "    df = pl.read_csv(csv_path, infer_schema_length=100000)\n",
    "\n",
    "    print(f\"Saving to Parquet: {parquet_file}\")\n",
    "    df.write_parquet(parquet_file)\n",
    "\n",
    "    os.remove(csv_path)\n",
    "    print(f\"Deleted temporary CSV: {csv_path}\")\n",
    "\n",
    "    print(\"Conversion complete!\")\n",
    "\n",
    "    "
   ]
  },
  {
   "cell_type": "code",
   "execution_count": 16,
   "id": "686010c3-b404-463b-aa3e-0c0027af517e",
   "metadata": {},
   "outputs": [
    {
     "name": "stdout",
     "output_type": "stream",
     "text": [
      "Downloading CSV to temporary file: /var/folders/7b/ywb7l4_94rs64f3qcjrzgz0m0000gq/T/tmph7ye0lxd.csv\n",
      "Reading CSV into DataFrame...\n",
      "Saving to Parquet: ../data/historical/transportation_data_version_78.parquet\n",
      "Deleted temporary CSV: /var/folders/7b/ywb7l4_94rs64f3qcjrzgz0m0000gq/T/tmph7ye0lxd.csv\n",
      "Conversion complete!\n",
      "Downloading CSV to temporary file: /var/folders/7b/ywb7l4_94rs64f3qcjrzgz0m0000gq/T/tmpfxlhz73p.csv\n",
      "Reading CSV into DataFrame...\n",
      "Saving to Parquet: ../data/historical/transportation_data_version_79.parquet\n",
      "Deleted temporary CSV: /var/folders/7b/ywb7l4_94rs64f3qcjrzgz0m0000gq/T/tmpfxlhz73p.csv\n",
      "Conversion complete!\n",
      "Downloading CSV to temporary file: /var/folders/7b/ywb7l4_94rs64f3qcjrzgz0m0000gq/T/tmph2cn430k.csv\n",
      "Reading CSV into DataFrame...\n",
      "Saving to Parquet: ../data/historical/transportation_data_version_80.parquet\n",
      "Deleted temporary CSV: /var/folders/7b/ywb7l4_94rs64f3qcjrzgz0m0000gq/T/tmph2cn430k.csv\n",
      "Conversion complete!\n",
      "Downloading CSV to temporary file: /var/folders/7b/ywb7l4_94rs64f3qcjrzgz0m0000gq/T/tmphy4l8yqa.csv\n",
      "Reading CSV into DataFrame...\n",
      "Saving to Parquet: ../data/historical/transportation_data_version_81.parquet\n",
      "Deleted temporary CSV: /var/folders/7b/ywb7l4_94rs64f3qcjrzgz0m0000gq/T/tmphy4l8yqa.csv\n",
      "Conversion complete!\n",
      "Downloading CSV to temporary file: /var/folders/7b/ywb7l4_94rs64f3qcjrzgz0m0000gq/T/tmpqsosgwx0.csv\n",
      "Reading CSV into DataFrame...\n",
      "Saving to Parquet: ../data/historical/transportation_data_version_82.parquet\n",
      "Deleted temporary CSV: /var/folders/7b/ywb7l4_94rs64f3qcjrzgz0m0000gq/T/tmpqsosgwx0.csv\n",
      "Conversion complete!\n",
      "Downloading CSV to temporary file: /var/folders/7b/ywb7l4_94rs64f3qcjrzgz0m0000gq/T/tmp7egeon2w.csv\n",
      "Reading CSV into DataFrame...\n",
      "Saving to Parquet: ../data/historical/transportation_data_version_83.parquet\n",
      "Deleted temporary CSV: /var/folders/7b/ywb7l4_94rs64f3qcjrzgz0m0000gq/T/tmp7egeon2w.csv\n",
      "Conversion complete!\n",
      "Downloading CSV to temporary file: /var/folders/7b/ywb7l4_94rs64f3qcjrzgz0m0000gq/T/tmp5agcn3fe.csv\n",
      "Reading CSV into DataFrame...\n",
      "Saving to Parquet: ../data/historical/transportation_data_version_84.parquet\n",
      "Deleted temporary CSV: /var/folders/7b/ywb7l4_94rs64f3qcjrzgz0m0000gq/T/tmp5agcn3fe.csv\n",
      "Conversion complete!\n",
      "Downloading CSV to temporary file: /var/folders/7b/ywb7l4_94rs64f3qcjrzgz0m0000gq/T/tmp6trjqf6i.csv\n",
      "Reading CSV into DataFrame...\n",
      "Saving to Parquet: ../data/historical/transportation_data_version_85.parquet\n",
      "Deleted temporary CSV: /var/folders/7b/ywb7l4_94rs64f3qcjrzgz0m0000gq/T/tmp6trjqf6i.csv\n",
      "Conversion complete!\n",
      "Downloading CSV to temporary file: /var/folders/7b/ywb7l4_94rs64f3qcjrzgz0m0000gq/T/tmps6y_q2yl.csv\n",
      "Reading CSV into DataFrame...\n",
      "Saving to Parquet: ../data/historical/transportation_data_version_86.parquet\n",
      "Deleted temporary CSV: /var/folders/7b/ywb7l4_94rs64f3qcjrzgz0m0000gq/T/tmps6y_q2yl.csv\n",
      "Conversion complete!\n",
      "Downloading CSV to temporary file: /var/folders/7b/ywb7l4_94rs64f3qcjrzgz0m0000gq/T/tmp5mculuaq.csv\n",
      "Reading CSV into DataFrame...\n",
      "Saving to Parquet: ../data/historical/transportation_data_version_87.parquet\n",
      "Deleted temporary CSV: /var/folders/7b/ywb7l4_94rs64f3qcjrzgz0m0000gq/T/tmp5mculuaq.csv\n",
      "Conversion complete!\n",
      "Downloading CSV to temporary file: /var/folders/7b/ywb7l4_94rs64f3qcjrzgz0m0000gq/T/tmp91z4e2jg.csv\n",
      "Reading CSV into DataFrame...\n",
      "Saving to Parquet: ../data/historical/transportation_data_version_88.parquet\n",
      "Deleted temporary CSV: /var/folders/7b/ywb7l4_94rs64f3qcjrzgz0m0000gq/T/tmp91z4e2jg.csv\n",
      "Conversion complete!\n",
      "Downloading CSV to temporary file: /var/folders/7b/ywb7l4_94rs64f3qcjrzgz0m0000gq/T/tmp8x86crog.csv\n",
      "Reading CSV into DataFrame...\n",
      "Saving to Parquet: ../data/historical/transportation_data_version_89.parquet\n",
      "Deleted temporary CSV: /var/folders/7b/ywb7l4_94rs64f3qcjrzgz0m0000gq/T/tmp8x86crog.csv\n",
      "Conversion complete!\n"
     ]
    }
   ],
   "source": [
    "\n",
    "for i in range(78, 90):\n",
    "    parquet_file = f\"{path}/transportation_data_version_{i}.parquet\"\n",
    "    url = f\"https://data.transportation.gov/api/archival.csv?id=kjg3-diqy&version={i}&method=export\"\n",
    "    download_and_convert(url, parquet_file)"
   ]
  },
  {
   "cell_type": "code",
   "execution_count": 17,
   "id": "66d06669-1a6c-4b92-9470-b2fb5143c317",
   "metadata": {},
   "outputs": [
    {
     "name": "stdout",
     "output_type": "stream",
     "text": [
      "All Parquet files have the same schema and are concatenable.\n"
     ]
    }
   ],
   "source": [
    "\n",
    "schemas = []\n",
    "for f in files:\n",
    "    scan = pl.scan_parquet(f)\n",
    "    schema = scan.collect_schema()\n",
    "    schemas.append((f.name, schema))\n",
    "\n",
    "first_schema = schemas[0][1]\n",
    "compatible = all(s == first_schema for _, s in schemas)\n",
    "\n",
    "if compatible:\n",
    "    print(\"All Parquet files have the same schema and are concatenable.\")\n",
    "else:\n",
    "    print(\"Schema differences found:\")\n",
    "    for name, schema in schemas:\n",
    "        if schema != first_schema:\n",
    "            print(f\"\\n{name}:\")\n",
    "            print(schema)"
   ]
  },
  {
   "cell_type": "code",
   "execution_count": 20,
   "id": "bbe5dac4-a595-4aad-9e18-4ff6300ad5d3",
   "metadata": {},
   "outputs": [],
   "source": [
    "files = sorted(parquet_dir.glob(\"*.parquet\"))"
   ]
  },
  {
   "cell_type": "code",
   "execution_count": 21,
   "id": "66eece58-bf96-4fc3-bebd-ef08b8f272cb",
   "metadata": {},
   "outputs": [
    {
     "name": "stdout",
     "output_type": "stream",
     "text": [
      "Adding version=100 to transportation_data_version_100.parquet\n"
     ]
    },
    {
     "name": "stderr",
     "output_type": "stream",
     "text": [
      "/var/folders/7b/ywb7l4_94rs64f3qcjrzgz0m0000gq/T/ipykernel_1981/3308811534.py:19: DeprecationWarning: the `streaming` parameter was deprecated in 1.25.0; use `engine` instead.\n",
      "  df = lf.collect(streaming=True)\n"
     ]
    },
    {
     "name": "stdout",
     "output_type": "stream",
     "text": [
      "Adding version=101 to transportation_data_version_101.parquet\n",
      "Adding version=102 to transportation_data_version_102.parquet\n",
      "Adding version=103 to transportation_data_version_103.parquet\n",
      "Adding version=104 to transportation_data_version_104.parquet\n",
      "Adding version=105 to transportation_data_version_105.parquet\n",
      "Adding version=106 to transportation_data_version_106.parquet\n",
      "Adding version=107 to transportation_data_version_107.parquet\n",
      "Adding version=108 to transportation_data_version_108.parquet\n",
      "Adding version=78 to transportation_data_version_78.parquet\n",
      "Adding version=79 to transportation_data_version_79.parquet\n",
      "Adding version=80 to transportation_data_version_80.parquet\n",
      "Adding version=81 to transportation_data_version_81.parquet\n",
      "Adding version=82 to transportation_data_version_82.parquet\n",
      "Adding version=83 to transportation_data_version_83.parquet\n",
      "Adding version=84 to transportation_data_version_84.parquet\n",
      "Adding version=85 to transportation_data_version_85.parquet\n",
      "Adding version=86 to transportation_data_version_86.parquet\n",
      "Adding version=87 to transportation_data_version_87.parquet\n",
      "Adding version=88 to transportation_data_version_88.parquet\n",
      "Adding version=89 to transportation_data_version_89.parquet\n",
      "Adding version=90 to transportation_data_version_90.parquet\n",
      "Adding version=91 to transportation_data_version_91.parquet\n",
      "Adding version=92 to transportation_data_version_92.parquet\n",
      "Adding version=93 to transportation_data_version_93.parquet\n",
      "Adding version=94 to transportation_data_version_94.parquet\n",
      "Adding version=95 to transportation_data_version_95.parquet\n",
      "Adding version=96 to transportation_data_version_96.parquet\n",
      "Adding version=97 to transportation_data_version_97.parquet\n",
      "Adding version=98 to transportation_data_version_98.parquet\n",
      "Adding version=99 to transportation_data_version_99.parquet\n",
      "All files updated in place.\n"
     ]
    }
   ],
   "source": [
    "import re\n",
    "\n",
    "version_re = re.compile(r\"version_(\\d+)\\.parquet$\")\n",
    "\n",
    "for file in files:\n",
    "    match = version_re.search(file.name)\n",
    "    if not match:\n",
    "        print(f\"Skipping {file.name} (no version number found)\")\n",
    "        continue\n",
    "\n",
    "    version = int(match.group(1))\n",
    "    print(f\"Adding version={version} to {file.name}\")\n",
    "\n",
    "\n",
    "    lf = pl.scan_parquet(file)\n",
    "    lf = lf.with_columns(pl.lit(version).alias(\"version\"))\n",
    "\n",
    "    try:\n",
    "        df = lf.collect(engine=\"streaming\")\n",
    "    except Exception as e:\n",
    "        print(f\"Failed to collect {file.name}: {e}\")\n",
    "        continue\n",
    "\n",
    "    tmp_path = file.with_suffix(\".tmp.parquet\")\n",
    "    df.write_parquet(tmp_path, compression=\"zstd\")\n",
    "    os.replace(tmp_path, file)\n",
    "\n",
    "print(\"All files updated in place.\")"
   ]
  },
  {
   "cell_type": "markdown",
   "id": "ee6db447-99ad-4d14-ae36-530b39295cbf",
   "metadata": {},
   "source": [
    "## Analyze the Historical Files"
   ]
  },
  {
   "cell_type": "code",
   "execution_count": 22,
   "id": "0bcc1aa0-f8b7-4a3f-910c-1c6a62a1ffdd",
   "metadata": {},
   "outputs": [],
   "source": [
    "all_lf = pl.concat(\n",
    "    [pl.scan_parquet(f) for f in files]\n",
    ")\n",
    "\n",
    "columns = all_lf.collect_schema().names()\n"
   ]
  },
  {
   "cell_type": "markdown",
   "id": "5fd0f0c9-cbfd-4db4-b6a5-f9810d181451",
   "metadata": {},
   "source": [
    "### Count Nulls"
   ]
  },
  {
   "cell_type": "code",
   "execution_count": 23,
   "id": "59008072-54a6-4ab1-8041-e2578b80b6b5",
   "metadata": {},
   "outputs": [],
   "source": [
    "records = []\n",
    "\n",
    "for f in sorted(files):\n",
    "    match = version_re.search(f.name)\n",
    "    if not match:\n",
    "        continue\n",
    "    version = int(match.group(1))\n",
    "\n",
    "    lf = pl.scan_parquet(f)\n",
    "    agg = (\n",
    "        lf.select([\n",
    "            pl.len().alias(\"row_count\"),\n",
    "            pl.col(\"dot_number\").n_unique().alias(\"unique_companies\"),\n",
    "            *[\n",
    "                pl.col(c).null_count().alias(f\"{c}_nulls\")\n",
    "                for c in columns if c not in [\"version\", \"dot_number\"]\n",
    "            ]\n",
    "        ])\n",
    "        .collect()\n",
    "    )\n",
    "\n",
    "    df = agg.with_columns(pl.lit(version).alias(\"version\"))\n",
    "    records.append(df)\n",
    "\n",
    "\n",
    "df_reliability = pl.concat(records).sort(\"version\")"
   ]
  },
  {
   "cell_type": "code",
   "execution_count": 24,
   "id": "ca30f8b0-6823-41a4-b052-80c78720a07b",
   "metadata": {},
   "outputs": [],
   "source": [
    "null_cols = [c for c in df_reliability.columns if c.endswith(\"_nulls\")]\n",
    "\n",
    "df_nulls_long = (\n",
    "    df_reliability\n",
    "    .select([\"version\", \"row_count\", *null_cols])\n",
    "    .unpivot(\n",
    "        index=[\"version\", \"row_count\"],\n",
    "        on=null_cols,\n",
    "        variable_name=\"column\",\n",
    "        value_name=\"null_count\"\n",
    "    )\n",
    "    .with_columns(\n",
    "        (pl.col(\"null_count\") / pl.col(\"row_count\")).alias(\"null_fraction\")\n",
    "    )\n",
    "    .sort([\"column\", \"version\"])\n",
    ")"
   ]
  },
  {
   "cell_type": "code",
   "execution_count": 25,
   "id": "e1f5ce02-9fad-444b-bea1-0cf0b790de9a",
   "metadata": {},
   "outputs": [],
   "source": [
    "column_volatility = (\n",
    "    df_nulls_long.group_by(\"column\")\n",
    "    .agg([\n",
    "        pl.col(\"null_fraction\").mean().alias(\"mean_null_frac\"),\n",
    "        pl.col(\"null_fraction\").std().alias(\"std_null_frac\"),\n",
    "        (pl.col(\"null_fraction\").max() - pl.col(\"null_fraction\").min()).alias(\"range_null_frac\")\n",
    "    ])\n",
    "    .sort(\"std_null_frac\", descending=True)\n",
    ")"
   ]
  },
  {
   "cell_type": "code",
   "execution_count": 26,
   "id": "24befc73-8eac-4de1-abbd-326d0841f92b",
   "metadata": {},
   "outputs": [
    {
     "data": {
      "text/html": [
       "<div><style>\n",
       ".dataframe > thead > tr,\n",
       ".dataframe > tbody > tr {\n",
       "  text-align: right;\n",
       "  white-space: pre-wrap;\n",
       "}\n",
       "</style>\n",
       "<small>shape: (11, 4)</small><table border=\"1\" class=\"dataframe\"><thead><tr><th>column</th><th>mean_null_frac</th><th>std_null_frac</th><th>range_null_frac</th></tr><tr><td>str</td><td>f64</td><td>f64</td><td>f64</td></tr></thead><tbody><tr><td>&quot;vmt_source_id_nulls&quot;</td><td>0.610336</td><td>0.006427</td><td>0.022091</td></tr><tr><td>&quot;fax_nulls&quot;</td><td>0.74461</td><td>0.002466</td><td>0.008815</td></tr><tr><td>&quot;email_address_nulls&quot;</td><td>0.246611</td><td>0.002178</td><td>0.007821</td></tr><tr><td>&quot;dba_name_nulls&quot;</td><td>0.730946</td><td>0.000972</td><td>0.003478</td></tr><tr><td>&quot;mcs150_date_nulls&quot;</td><td>0.082795</td><td>0.00052</td><td>0.001871</td></tr><tr><td>&quot;mcs150_mileage_year_nulls&quot;</td><td>0.377069</td><td>0.000356</td><td>0.001509</td></tr><tr><td>&quot;mcs150_mileage_nulls&quot;</td><td>0.344789</td><td>0.000251</td><td>0.001234</td></tr><tr><td>&quot;nbr_power_unit_nulls&quot;</td><td>0.038809</td><td>0.000247</td><td>0.000894</td></tr><tr><td>&quot;telephone_nulls&quot;</td><td>0.005602</td><td>0.000039</td><td>0.000243</td></tr><tr><td>&quot;phy_zip_nulls&quot;</td><td>0.000815</td><td>0.000039</td><td>0.00023</td></tr><tr><td>&quot;mailing_zip_nulls&quot;</td><td>0.000799</td><td>0.000039</td><td>0.000226</td></tr></tbody></table></div>"
      ],
      "text/plain": [
       "shape: (11, 4)\n",
       "┌───────────────────────────┬────────────────┬───────────────┬─────────────────┐\n",
       "│ column                    ┆ mean_null_frac ┆ std_null_frac ┆ range_null_frac │\n",
       "│ ---                       ┆ ---            ┆ ---           ┆ ---             │\n",
       "│ str                       ┆ f64            ┆ f64           ┆ f64             │\n",
       "╞═══════════════════════════╪════════════════╪═══════════════╪═════════════════╡\n",
       "│ vmt_source_id_nulls       ┆ 0.610336       ┆ 0.006427      ┆ 0.022091        │\n",
       "│ fax_nulls                 ┆ 0.74461        ┆ 0.002466      ┆ 0.008815        │\n",
       "│ email_address_nulls       ┆ 0.246611       ┆ 0.002178      ┆ 0.007821        │\n",
       "│ dba_name_nulls            ┆ 0.730946       ┆ 0.000972      ┆ 0.003478        │\n",
       "│ mcs150_date_nulls         ┆ 0.082795       ┆ 0.00052       ┆ 0.001871        │\n",
       "│ mcs150_mileage_year_nulls ┆ 0.377069       ┆ 0.000356      ┆ 0.001509        │\n",
       "│ mcs150_mileage_nulls      ┆ 0.344789       ┆ 0.000251      ┆ 0.001234        │\n",
       "│ nbr_power_unit_nulls      ┆ 0.038809       ┆ 0.000247      ┆ 0.000894        │\n",
       "│ telephone_nulls           ┆ 0.005602       ┆ 0.000039      ┆ 0.000243        │\n",
       "│ phy_zip_nulls             ┆ 0.000815       ┆ 0.000039      ┆ 0.00023         │\n",
       "│ mailing_zip_nulls         ┆ 0.000799       ┆ 0.000039      ┆ 0.000226        │\n",
       "└───────────────────────────┴────────────────┴───────────────┴─────────────────┘"
      ]
     },
     "execution_count": 26,
     "metadata": {},
     "output_type": "execute_result"
    }
   ],
   "source": [
    "column_volatility.head(11)"
   ]
  },
  {
   "cell_type": "code",
   "execution_count": 41,
   "id": "ea882ab5-7112-40df-8442-f517cce04992",
   "metadata": {},
   "outputs": [
    {
     "data": {
      "text/html": [
       "<div><style>\n",
       ".dataframe > thead > tr,\n",
       ".dataframe > tbody > tr {\n",
       "  text-align: right;\n",
       "  white-space: pre-wrap;\n",
       "}\n",
       "</style>\n",
       "<small>shape: (4, 12)</small><table border=\"1\" class=\"dataframe\"><thead><tr><th>vmt_source_id</th><th>n_rows</th><th>driver_total_mean</th><th>nbr_power_unit_mean</th><th>driver_total_stddev</th><th>nbr_power_unit_stddev</th><th>driver_total_q05</th><th>nbr_power_unit_q05</th><th>driver_total_median</th><th>nbr_power_unit_median</th><th>driver_total_q95</th><th>nbr_power_unit_q95</th></tr><tr><td>i64</td><td>u32</td><td>f64</td><td>f64</td><td>f64</td><td>f64</td><td>f64</td><td>f64</td><td>f64</td><td>f64</td><td>f64</td><td>f64</td></tr></thead><tbody><tr><td>null</td><td>39148600</td><td>4.66817</td><td>65.459625</td><td>385.95425</td><td>3668.039869</td><td>1.0</td><td>1.0</td><td>1.0</td><td>1.0</td><td>6.0</td><td>5.0</td></tr><tr><td>1</td><td>24522437</td><td>8.064941</td><td>7.792971</td><td>297.970805</td><td>270.925598</td><td>1.0</td><td>1.0</td><td>2.0</td><td>2.0</td><td>18.0</td><td>18.0</td></tr><tr><td>2</td><td>46946</td><td>24.175968</td><td>23.389831</td><td>157.043892</td><td>146.48202</td><td>1.0</td><td>1.0</td><td>5.0</td><td>5.0</td><td>63.0</td><td>64.0</td></tr><tr><td>3</td><td>426772</td><td>16.705032</td><td>17.18417</td><td>118.802081</td><td>131.310415</td><td>1.0</td><td>1.0</td><td>4.0</td><td>4.0</td><td>50.0</td><td>51.0</td></tr></tbody></table></div>"
      ],
      "text/plain": [
       "shape: (4, 12)\n",
       "┌───────────┬──────────┬───────────┬───────────┬───┬───────────┬───────────┬───────────┬───────────┐\n",
       "│ vmt_sourc ┆ n_rows   ┆ driver_to ┆ nbr_power ┆ … ┆ driver_to ┆ nbr_power ┆ driver_to ┆ nbr_power │\n",
       "│ e_id      ┆ ---      ┆ tal_mean  ┆ _unit_mea ┆   ┆ tal_media ┆ _unit_med ┆ tal_q95   ┆ _unit_q95 │\n",
       "│ ---       ┆ u32      ┆ ---       ┆ n         ┆   ┆ n         ┆ ian       ┆ ---       ┆ ---       │\n",
       "│ i64       ┆          ┆ f64       ┆ ---       ┆   ┆ ---       ┆ ---       ┆ f64       ┆ f64       │\n",
       "│           ┆          ┆           ┆ f64       ┆   ┆ f64       ┆ f64       ┆           ┆           │\n",
       "╞═══════════╪══════════╪═══════════╪═══════════╪═══╪═══════════╪═══════════╪═══════════╪═══════════╡\n",
       "│ null      ┆ 39148600 ┆ 4.66817   ┆ 65.459625 ┆ … ┆ 1.0       ┆ 1.0       ┆ 6.0       ┆ 5.0       │\n",
       "│ 1         ┆ 24522437 ┆ 8.064941  ┆ 7.792971  ┆ … ┆ 2.0       ┆ 2.0       ┆ 18.0      ┆ 18.0      │\n",
       "│ 2         ┆ 46946    ┆ 24.175968 ┆ 23.389831 ┆ … ┆ 5.0       ┆ 5.0       ┆ 63.0      ┆ 64.0      │\n",
       "│ 3         ┆ 426772   ┆ 16.705032 ┆ 17.18417  ┆ … ┆ 4.0       ┆ 4.0       ┆ 50.0      ┆ 51.0      │\n",
       "└───────────┴──────────┴───────────┴───────────┴───┴───────────┴───────────┴───────────┴───────────┘"
      ]
     },
     "execution_count": 41,
     "metadata": {},
     "output_type": "execute_result"
    }
   ],
   "source": [
    "cols = [\"driver_total\", \"nbr_power_unit\"]\n",
    "\n",
    "\n",
    "(\n",
    "    df.group_by(\"vmt_source_id\")\n",
    "    .agg([\n",
    "        pl.len().alias(\"n_rows\"),\n",
    "        *[\n",
    "            pl.col(c).mean().alias(f\"{c}_mean\") for c in cols\n",
    "        ],\n",
    "        *[\n",
    "            pl.col(c).std().alias(f\"{c}_stddev\") for c in cols\n",
    "        ],\n",
    "        *[\n",
    "            pl.col(c).quantile(0.05).alias(f\"{c}_q05\") for c in cols\n",
    "        ],\n",
    "        *[\n",
    "            pl.col(c).quantile(0.50).alias(f\"{c}_median\") for c in cols\n",
    "        ],\n",
    "        *[\n",
    "            pl.col(c).quantile(0.95).alias(f\"{c}_q95\") for c in cols\n",
    "        ],\n",
    "    ])\n",
    "    .sort(\"vmt_source_id\")\n",
    ")"
   ]
  },
  {
   "cell_type": "markdown",
   "id": "93f519ed-1791-4f5a-a519-a1fe406467c0",
   "metadata": {},
   "source": [
    "### Company Volatility"
   ]
  },
  {
   "cell_type": "code",
   "execution_count": 27,
   "id": "c5bc52b2-eb52-478b-835e-70eb0cc393a9",
   "metadata": {},
   "outputs": [],
   "source": [
    "target_columns = [\"dot_number\", \"version\", \"add_date\", \"mcs150_date\", \"recent_mileage_year\", \"recent_mileage\", \"mcs150_mileage_year\", \"mcs150_mileage\", \"vmt_source_id\", \"driver_total\", \"nbr_power_unit\"]"
   ]
  },
  {
   "cell_type": "code",
   "execution_count": 27,
   "id": "a9bfd3bf-34f1-4a98-aeeb-120435bc8767",
   "metadata": {},
   "outputs": [],
   "source": [
    "df = pl.read_parquet(\"../data/historical/transportation_data_version_108.parquet\").select(target_columns)"
   ]
  },
  {
   "cell_type": "code",
   "execution_count": 28,
   "id": "ec22db41-dc6f-4327-8e85-3cd6c345e515",
   "metadata": {},
   "outputs": [
    {
     "data": {
      "text/html": [
       "<div><style>\n",
       ".dataframe > thead > tr,\n",
       ".dataframe > tbody > tr {\n",
       "  text-align: right;\n",
       "  white-space: pre-wrap;\n",
       "}\n",
       "</style>\n",
       "<small>shape: (5, 11)</small><table border=\"1\" class=\"dataframe\"><thead><tr><th>dot_number</th><th>version</th><th>add_date</th><th>mcs150_date</th><th>recent_mileage_year</th><th>recent_mileage</th><th>mcs150_mileage_year</th><th>mcs150_mileage</th><th>vmt_source_id</th><th>driver_total</th><th>nbr_power_unit</th></tr><tr><td>i64</td><td>i32</td><td>date</td><td>date</td><td>i64</td><td>i64</td><td>i64</td><td>i64</td><td>i64</td><td>i64</td><td>i64</td></tr></thead><tbody><tr><td>100065</td><td>108</td><td>1974-06-01</td><td>2010-05-26</td><td>0</td><td>0</td><td>2009</td><td>10000</td><td>null</td><td>4</td><td>4</td></tr><tr><td>1001522</td><td>108</td><td>2002-01-29</td><td>2008-03-12</td><td>0</td><td>0</td><td>2000</td><td>20000</td><td>null</td><td>3</td><td>4</td></tr><tr><td>1001288</td><td>108</td><td>2002-01-29</td><td>2025-06-02</td><td>2024</td><td>42</td><td>2024</td><td>42</td><td>1</td><td>2</td><td>2</td></tr><tr><td>1001691</td><td>108</td><td>2002-01-30</td><td>2025-07-30</td><td>2024</td><td>20000</td><td>2024</td><td>20000</td><td>1</td><td>3</td><td>2</td></tr><tr><td>1000610</td><td>108</td><td>2002-01-24</td><td>2025-04-03</td><td>2025</td><td>120000</td><td>2025</td><td>120000</td><td>1</td><td>3</td><td>6</td></tr></tbody></table></div>"
      ],
      "text/plain": [
       "shape: (5, 11)\n",
       "┌────────────┬─────────┬───────────┬───────────┬───┬───────────┬───────────┬───────────┬───────────┐\n",
       "│ dot_number ┆ version ┆ add_date  ┆ mcs150_da ┆ … ┆ mcs150_mi ┆ vmt_sourc ┆ driver_to ┆ nbr_power │\n",
       "│ ---        ┆ ---     ┆ ---       ┆ te        ┆   ┆ leage     ┆ e_id      ┆ tal       ┆ _unit     │\n",
       "│ i64        ┆ i32     ┆ date      ┆ ---       ┆   ┆ ---       ┆ ---       ┆ ---       ┆ ---       │\n",
       "│            ┆         ┆           ┆ date      ┆   ┆ i64       ┆ i64       ┆ i64       ┆ i64       │\n",
       "╞════════════╪═════════╪═══════════╪═══════════╪═══╪═══════════╪═══════════╪═══════════╪═══════════╡\n",
       "│ 100065     ┆ 108     ┆ 1974-06-0 ┆ 2010-05-2 ┆ … ┆ 10000     ┆ null      ┆ 4         ┆ 4         │\n",
       "│            ┆         ┆ 1         ┆ 6         ┆   ┆           ┆           ┆           ┆           │\n",
       "│ 1001522    ┆ 108     ┆ 2002-01-2 ┆ 2008-03-1 ┆ … ┆ 20000     ┆ null      ┆ 3         ┆ 4         │\n",
       "│            ┆         ┆ 9         ┆ 2         ┆   ┆           ┆           ┆           ┆           │\n",
       "│ 1001288    ┆ 108     ┆ 2002-01-2 ┆ 2025-06-0 ┆ … ┆ 42        ┆ 1         ┆ 2         ┆ 2         │\n",
       "│            ┆         ┆ 9         ┆ 2         ┆   ┆           ┆           ┆           ┆           │\n",
       "│ 1001691    ┆ 108     ┆ 2002-01-3 ┆ 2025-07-3 ┆ … ┆ 20000     ┆ 1         ┆ 3         ┆ 2         │\n",
       "│            ┆         ┆ 0         ┆ 0         ┆   ┆           ┆           ┆           ┆           │\n",
       "│ 1000610    ┆ 108     ┆ 2002-01-2 ┆ 2025-04-0 ┆ … ┆ 120000    ┆ 1         ┆ 3         ┆ 6         │\n",
       "│            ┆         ┆ 4         ┆ 3         ┆   ┆           ┆           ┆           ┆           │\n",
       "└────────────┴─────────┴───────────┴───────────┴───┴───────────┴───────────┴───────────┴───────────┘"
      ]
     },
     "execution_count": 28,
     "metadata": {},
     "output_type": "execute_result"
    }
   ],
   "source": [
    "df.with_columns(\n",
    "    pl.col(\"add_date\").cast(pl.String).str.strptime(\n",
    "        pl.Date, \"%d-%b-%y\").alias(\"add_date\"),\n",
    "    pl.col(\"mcs150_date\").cast(pl.String).str.strptime(\n",
    "        pl.Date, \"%d-%b-%y\").alias(\"mcs150_date\")\n",
    ").head()"
   ]
  },
  {
   "cell_type": "code",
   "execution_count": 28,
   "id": "87934aa5-96d2-4d7a-9497-a06a52cbae06",
   "metadata": {},
   "outputs": [],
   "source": [
    "lf = all_lf.select(target_columns).with_columns(\n",
    "    pl.col(\"add_date\").cast(pl.String).str.strptime(\n",
    "        pl.Date, \"%d-%b-%y\").alias(\"add_date\"),\n",
    "    pl.col(\"mcs150_date\").cast(pl.String).str.strptime(\n",
    "        pl.Date, \"%d-%b-%y\").alias(\"mcs150_date\"),\n",
    "    pl.when(\n",
    "        pl.col(\"recent_mileage_year\") == 0\n",
    "    ).then(\n",
    "        pl.lit(None)\n",
    "    ).otherwise(\n",
    "        pl.col(\"recent_mileage_year\")\n",
    "    ).alias(\"recent_mileage_year\"),\n",
    "    pl.when(\n",
    "        pl.col(\"recent_mileage\") == 0\n",
    "    ).then(\n",
    "        pl.lit(None)\n",
    "    ).otherwise(\n",
    "        pl.col(\"recent_mileage\")\n",
    "    ).alias(\"recent_mileage\")\n",
    "        \n",
    ")"
   ]
  },
  {
   "cell_type": "code",
   "execution_count": 29,
   "id": "f278f4d9-9b71-44d2-bc5d-d86de34cd4c5",
   "metadata": {},
   "outputs": [],
   "source": [
    "df = lf.collect()"
   ]
  },
  {
   "cell_type": "code",
   "execution_count": 30,
   "id": "8e988d09-f482-4d66-aaab-5243fa3209ad",
   "metadata": {},
   "outputs": [
    {
     "name": "stdout",
     "output_type": "stream",
     "text": [
      "Rows: 64144755\n",
      "Columns: 11\n",
      "$ dot_number           <i64> 1544857, 2606830, 2606831, 2606832, 2607121, 2607122, 2611179, 2611180, 2611181, 2611182\n",
      "$ version              <i32> 100, 100, 100, 100, 100, 100, 100, 100, 100, 100\n",
      "$ add_date            <date> 2006-08-21, 2015-04-13, 2015-04-13, 2015-04-13, 2015-04-13, 2015-04-13, 2015-04-17, 2015-04-17, 2015-04-17, 2015-04-17\n",
      "$ mcs150_date         <date> 2023-08-18, None, None, None, None, None, None, None, None, None\n",
      "$ recent_mileage_year  <i64> None, None, None, None, None, None, None, None, None, None\n",
      "$ recent_mileage       <i64> None, None, None, None, None, None, None, None, None, None\n",
      "$ mcs150_mileage_year  <i64> 2022, None, None, None, None, None, None, None, None, None\n",
      "$ mcs150_mileage       <i64> 10000, None, None, None, None, None, None, None, None, None\n",
      "$ vmt_source_id        <i64> None, None, None, None, None, None, None, None, None, None\n",
      "$ driver_total         <i64> 1, 1, 1, 1, 1, 1, 1, 1, 1, 1\n",
      "$ nbr_power_unit       <i64> 1, 1, 1, None, None, None, 1, None, None, None\n",
      "\n"
     ]
    }
   ],
   "source": [
    "df.glimpse()"
   ]
  },
  {
   "cell_type": "code",
   "execution_count": 31,
   "id": "8aae1f7d-0ba7-40c0-8c83-56ef263c3e77",
   "metadata": {},
   "outputs": [
    {
     "data": {
      "text/html": [
       "<div><style>\n",
       ".dataframe > thead > tr,\n",
       ".dataframe > tbody > tr {\n",
       "  text-align: right;\n",
       "  white-space: pre-wrap;\n",
       "}\n",
       "</style>\n",
       "<small>shape: (10, 8)</small><table border=\"1\" class=\"dataframe\"><thead><tr><th>dot_number</th><th>recent_mileage_year_status</th><th>recent_mileage_status</th><th>mcs150_mileage_year_status</th><th>mcs150_mileage_status</th><th>vmt_source_id_status</th><th>driver_total_status</th><th>nbr_power_unit_status</th></tr><tr><td>i64</td><td>str</td><td>str</td><td>str</td><td>str</td><td>str</td><td>str</td><td>str</td></tr></thead><tbody><tr><td>1741424</td><td>&quot;always_null&quot;</td><td>&quot;always_null&quot;</td><td>&quot;always_null&quot;</td><td>&quot;always_null&quot;</td><td>&quot;always_null&quot;</td><td>&quot;always_present&quot;</td><td>&quot;always_present&quot;</td></tr><tr><td>2804994</td><td>&quot;always_null&quot;</td><td>&quot;always_null&quot;</td><td>&quot;always_null&quot;</td><td>&quot;always_null&quot;</td><td>&quot;always_null&quot;</td><td>&quot;always_present&quot;</td><td>&quot;always_present&quot;</td></tr><tr><td>3427756</td><td>&quot;always_present&quot;</td><td>&quot;always_present&quot;</td><td>&quot;always_present&quot;</td><td>&quot;always_present&quot;</td><td>&quot;always_present&quot;</td><td>&quot;always_present&quot;</td><td>&quot;always_present&quot;</td></tr><tr><td>3650722</td><td>&quot;always_null&quot;</td><td>&quot;always_null&quot;</td><td>&quot;always_null&quot;</td><td>&quot;always_null&quot;</td><td>&quot;always_null&quot;</td><td>&quot;always_present&quot;</td><td>&quot;always_present&quot;</td></tr><tr><td>4356619</td><td>&quot;always_null&quot;</td><td>&quot;always_null&quot;</td><td>&quot;always_null&quot;</td><td>&quot;always_null&quot;</td><td>&quot;always_null&quot;</td><td>&quot;always_present&quot;</td><td>&quot;always_present&quot;</td></tr><tr><td>2605251</td><td>&quot;always_null&quot;</td><td>&quot;always_null&quot;</td><td>&quot;always_null&quot;</td><td>&quot;always_null&quot;</td><td>&quot;always_null&quot;</td><td>&quot;always_present&quot;</td><td>&quot;always_present&quot;</td></tr><tr><td>2777731</td><td>&quot;always_null&quot;</td><td>&quot;always_null&quot;</td><td>&quot;always_null&quot;</td><td>&quot;always_null&quot;</td><td>&quot;always_null&quot;</td><td>&quot;always_present&quot;</td><td>&quot;always_null&quot;</td></tr><tr><td>4447682</td><td>&quot;always_null&quot;</td><td>&quot;always_null&quot;</td><td>&quot;always_null&quot;</td><td>&quot;always_null&quot;</td><td>&quot;always_null&quot;</td><td>&quot;always_present&quot;</td><td>&quot;always_present&quot;</td></tr><tr><td>1005689</td><td>&quot;always_present&quot;</td><td>&quot;always_present&quot;</td><td>&quot;always_present&quot;</td><td>&quot;always_present&quot;</td><td>&quot;always_present&quot;</td><td>&quot;always_present&quot;</td><td>&quot;always_present&quot;</td></tr><tr><td>2648898</td><td>&quot;always_null&quot;</td><td>&quot;always_null&quot;</td><td>&quot;always_null&quot;</td><td>&quot;always_null&quot;</td><td>&quot;always_null&quot;</td><td>&quot;always_present&quot;</td><td>&quot;always_present&quot;</td></tr></tbody></table></div>"
      ],
      "text/plain": [
       "shape: (10, 8)\n",
       "┌────────────┬────────────┬────────────┬───────────┬───────────┬───────────┬───────────┬───────────┐\n",
       "│ dot_number ┆ recent_mil ┆ recent_mil ┆ mcs150_mi ┆ mcs150_mi ┆ vmt_sourc ┆ driver_to ┆ nbr_power │\n",
       "│ ---        ┆ eage_year_ ┆ eage_statu ┆ leage_yea ┆ leage_sta ┆ e_id_stat ┆ tal_statu ┆ _unit_sta │\n",
       "│ i64        ┆ status     ┆ s          ┆ r_status  ┆ tus       ┆ us        ┆ s         ┆ tus       │\n",
       "│            ┆ ---        ┆ ---        ┆ ---       ┆ ---       ┆ ---       ┆ ---       ┆ ---       │\n",
       "│            ┆ str        ┆ str        ┆ str       ┆ str       ┆ str       ┆ str       ┆ str       │\n",
       "╞════════════╪════════════╪════════════╪═══════════╪═══════════╪═══════════╪═══════════╪═══════════╡\n",
       "│ 1741424    ┆ always_nul ┆ always_nul ┆ always_nu ┆ always_nu ┆ always_nu ┆ always_pr ┆ always_pr │\n",
       "│            ┆ l          ┆ l          ┆ ll        ┆ ll        ┆ ll        ┆ esent     ┆ esent     │\n",
       "│ 2804994    ┆ always_nul ┆ always_nul ┆ always_nu ┆ always_nu ┆ always_nu ┆ always_pr ┆ always_pr │\n",
       "│            ┆ l          ┆ l          ┆ ll        ┆ ll        ┆ ll        ┆ esent     ┆ esent     │\n",
       "│ 3427756    ┆ always_pre ┆ always_pre ┆ always_pr ┆ always_pr ┆ always_pr ┆ always_pr ┆ always_pr │\n",
       "│            ┆ sent       ┆ sent       ┆ esent     ┆ esent     ┆ esent     ┆ esent     ┆ esent     │\n",
       "│ 3650722    ┆ always_nul ┆ always_nul ┆ always_nu ┆ always_nu ┆ always_nu ┆ always_pr ┆ always_pr │\n",
       "│            ┆ l          ┆ l          ┆ ll        ┆ ll        ┆ ll        ┆ esent     ┆ esent     │\n",
       "│ 4356619    ┆ always_nul ┆ always_nul ┆ always_nu ┆ always_nu ┆ always_nu ┆ always_pr ┆ always_pr │\n",
       "│            ┆ l          ┆ l          ┆ ll        ┆ ll        ┆ ll        ┆ esent     ┆ esent     │\n",
       "│ 2605251    ┆ always_nul ┆ always_nul ┆ always_nu ┆ always_nu ┆ always_nu ┆ always_pr ┆ always_pr │\n",
       "│            ┆ l          ┆ l          ┆ ll        ┆ ll        ┆ ll        ┆ esent     ┆ esent     │\n",
       "│ 2777731    ┆ always_nul ┆ always_nul ┆ always_nu ┆ always_nu ┆ always_nu ┆ always_pr ┆ always_nu │\n",
       "│            ┆ l          ┆ l          ┆ ll        ┆ ll        ┆ ll        ┆ esent     ┆ ll        │\n",
       "│ 4447682    ┆ always_nul ┆ always_nul ┆ always_nu ┆ always_nu ┆ always_nu ┆ always_pr ┆ always_pr │\n",
       "│            ┆ l          ┆ l          ┆ ll        ┆ ll        ┆ ll        ┆ esent     ┆ esent     │\n",
       "│ 1005689    ┆ always_pre ┆ always_pre ┆ always_pr ┆ always_pr ┆ always_pr ┆ always_pr ┆ always_pr │\n",
       "│            ┆ sent       ┆ sent       ┆ esent     ┆ esent     ┆ esent     ┆ esent     ┆ esent     │\n",
       "│ 2648898    ┆ always_nul ┆ always_nul ┆ always_nu ┆ always_nu ┆ always_nu ┆ always_pr ┆ always_pr │\n",
       "│            ┆ l          ┆ l          ┆ ll        ┆ ll        ┆ ll        ┆ esent     ┆ esent     │\n",
       "└────────────┴────────────┴────────────┴───────────┴───────────┴───────────┴───────────┴───────────┘"
      ]
     },
     "execution_count": 31,
     "metadata": {},
     "output_type": "execute_result"
    }
   ],
   "source": [
    "num_cols = [\"recent_mileage_year\", \"recent_mileage\", \"mcs150_mileage_year\", \"mcs150_mileage\", \"vmt_source_id\", \"driver_total\", \"nbr_power_unit\"]\n",
    "\n",
    "summary = (\n",
    "    df.group_by(\"dot_number\")\n",
    "    .agg([\n",
    "        pl.len().alias(\"n_rows\"),\n",
    "        *[pl.col(c).is_not_null().sum().alias(f\"{c}_nonnull_count\") for c in num_cols],\n",
    "    ])\n",
    ")\n",
    "\n",
    "for c in num_cols:\n",
    "    summary = summary.with_columns([\n",
    "        (pl.col(f\"{c}_nonnull_count\") / pl.col(\"n_rows\")).alias(f\"{c}_nonnull_frac\"),\n",
    "        pl.when(pl.col(f\"{c}_nonnull_count\") == 0)\n",
    "          .then(pl.lit(\"always_null\"))\n",
    "          .when(pl.col(f\"{c}_nonnull_count\") == pl.col(\"n_rows\"))\n",
    "          .then(pl.lit(\"always_present\"))\n",
    "          .otherwise(pl.lit(\"intermittent\"))\n",
    "          .alias(f\"{c}_status\")\n",
    "    ])\n",
    "\n",
    "summary.select([\"dot_number\"] + [f\"{c}_status\" for c in num_cols]).head(10)"
   ]
  },
  {
   "cell_type": "code",
   "execution_count": 32,
   "id": "e34b13ed-c6da-4324-97d6-b17920bafcfb",
   "metadata": {},
   "outputs": [
    {
     "name": "stdout",
     "output_type": "stream",
     "text": [
      "\n",
      "recent_mileage_year\n",
      "shape: (3, 2)\n",
      "┌────────────────────────────┬────────────┐\n",
      "│ recent_mileage_year_status ┆ proportion │\n",
      "│ ---                        ┆ ---        │\n",
      "│ str                        ┆ f64        │\n",
      "╞════════════════════════════╪════════════╡\n",
      "│ always_null                ┆ 0.577386   │\n",
      "│ intermittent               ┆ 0.07003    │\n",
      "│ always_present             ┆ 0.352584   │\n",
      "└────────────────────────────┴────────────┘\n",
      "\n",
      "recent_mileage\n",
      "shape: (3, 2)\n",
      "┌───────────────────────┬────────────┐\n",
      "│ recent_mileage_status ┆ proportion │\n",
      "│ ---                   ┆ ---        │\n",
      "│ str                   ┆ f64        │\n",
      "╞═══════════════════════╪════════════╡\n",
      "│ always_present        ┆ 0.352584   │\n",
      "│ always_null           ┆ 0.577386   │\n",
      "│ intermittent          ┆ 0.07003    │\n",
      "└───────────────────────┴────────────┘\n",
      "\n",
      "mcs150_mileage_year\n",
      "shape: (3, 2)\n",
      "┌────────────────────────────┬────────────┐\n",
      "│ mcs150_mileage_year_status ┆ proportion │\n",
      "│ ---                        ┆ ---        │\n",
      "│ str                        ┆ f64        │\n",
      "╞════════════════════════════╪════════════╡\n",
      "│ always_null                ┆ 0.375511   │\n",
      "│ intermittent               ┆ 0.024651   │\n",
      "│ always_present             ┆ 0.599838   │\n",
      "└────────────────────────────┴────────────┘\n",
      "\n",
      "mcs150_mileage\n",
      "shape: (3, 2)\n",
      "┌───────────────────────┬────────────┐\n",
      "│ mcs150_mileage_status ┆ proportion │\n",
      "│ ---                   ┆ ---        │\n",
      "│ str                   ┆ f64        │\n",
      "╞═══════════════════════╪════════════╡\n",
      "│ intermittent          ┆ 0.024612   │\n",
      "│ always_present        ┆ 0.630543   │\n",
      "│ always_null           ┆ 0.344846   │\n",
      "└───────────────────────┴────────────┘\n",
      "\n",
      "vmt_source_id\n",
      "shape: (3, 2)\n",
      "┌──────────────────────┬────────────┐\n",
      "│ vmt_source_id_status ┆ proportion │\n",
      "│ ---                  ┆ ---        │\n",
      "│ str                  ┆ f64        │\n",
      "╞══════════════════════╪════════════╡\n",
      "│ intermittent         ┆ 0.07003    │\n",
      "│ always_present       ┆ 0.352583   │\n",
      "│ always_null          ┆ 0.577387   │\n",
      "└──────────────────────┴────────────┘\n",
      "\n",
      "driver_total\n",
      "shape: (3, 2)\n",
      "┌─────────────────────┬────────────┐\n",
      "│ driver_total_status ┆ proportion │\n",
      "│ ---                 ┆ ---        │\n",
      "│ str                 ┆ f64        │\n",
      "╞═════════════════════╪════════════╡\n",
      "│ always_present      ┆ 0.998505   │\n",
      "│ always_null         ┆ 0.00139    │\n",
      "│ intermittent        ┆ 0.000104   │\n",
      "└─────────────────────┴────────────┘\n",
      "\n",
      "nbr_power_unit\n",
      "shape: (3, 2)\n",
      "┌───────────────────────┬────────────┐\n",
      "│ nbr_power_unit_status ┆ proportion │\n",
      "│ ---                   ┆ ---        │\n",
      "│ str                   ┆ f64        │\n",
      "╞═══════════════════════╪════════════╡\n",
      "│ always_present        ┆ 0.962418   │\n",
      "│ always_null           ┆ 0.03657    │\n",
      "│ intermittent          ┆ 0.001012   │\n",
      "└───────────────────────┴────────────┘\n"
     ]
    }
   ],
   "source": [
    "for c in num_cols:\n",
    "    print(f\"\\n{c}\")\n",
    "    print(summary[f\"{c}_status\"].value_counts(normalize=True))"
   ]
  },
  {
   "cell_type": "code",
   "execution_count": 35,
   "id": "023ea7fa-c822-495d-974a-e277a2fefc88",
   "metadata": {},
   "outputs": [
    {
     "name": "stderr",
     "output_type": "stream",
     "text": [
      "/var/folders/7b/ywb7l4_94rs64f3qcjrzgz0m0000gq/T/ipykernel_1981/1038357812.py:4: DeprecationWarning: `DataFrame.melt` is deprecated; use `DataFrame.unpivot` instead, with `index` instead of `id_vars` and `on` instead of `value_vars`\n",
      "  .melt(variable_name=\"column\", value_name=\"status\")\n",
      "/var/folders/7b/ywb7l4_94rs64f3qcjrzgz0m0000gq/T/ipykernel_1981/1038357812.py:10: DeprecationWarning: the argument `columns` for `DataFrame.pivot` is deprecated. It was renamed to `on` in version 1.0.0.\n",
      "  .pivot(index=\"column\", columns=\"status\", values=\"proportion\")\n"
     ]
    },
    {
     "data": {
      "text/html": [
       "<div><style>\n",
       ".dataframe > thead > tr,\n",
       ".dataframe > tbody > tr {\n",
       "  text-align: right;\n",
       "  white-space: pre-wrap;\n",
       "}\n",
       "</style>\n",
       "<small>shape: (7, 4)</small><table border=\"1\" class=\"dataframe\"><thead><tr><th>column</th><th>intermittent</th><th>always_null</th><th>always_present</th></tr><tr><td>str</td><td>f64</td><td>f64</td><td>f64</td></tr></thead><tbody><tr><td>&quot;vmt_source_id_status&quot;</td><td>0.07003</td><td>0.577387</td><td>0.352583</td></tr><tr><td>&quot;recent_mileage_year_status&quot;</td><td>0.07003</td><td>0.577386</td><td>0.352584</td></tr><tr><td>&quot;recent_mileage_status&quot;</td><td>0.07003</td><td>0.577386</td><td>0.352584</td></tr><tr><td>&quot;mcs150_mileage_year_status&quot;</td><td>0.024651</td><td>0.375511</td><td>0.599838</td></tr><tr><td>&quot;mcs150_mileage_status&quot;</td><td>0.024612</td><td>0.344846</td><td>0.630543</td></tr><tr><td>&quot;nbr_power_unit_status&quot;</td><td>0.001012</td><td>0.03657</td><td>0.962418</td></tr><tr><td>&quot;driver_total_status&quot;</td><td>0.000104</td><td>0.00139</td><td>0.998505</td></tr></tbody></table></div>"
      ],
      "text/plain": [
       "shape: (7, 4)\n",
       "┌────────────────────────────┬──────────────┬─────────────┬────────────────┐\n",
       "│ column                     ┆ intermittent ┆ always_null ┆ always_present │\n",
       "│ ---                        ┆ ---          ┆ ---         ┆ ---            │\n",
       "│ str                        ┆ f64          ┆ f64         ┆ f64            │\n",
       "╞════════════════════════════╪══════════════╪═════════════╪════════════════╡\n",
       "│ vmt_source_id_status       ┆ 0.07003      ┆ 0.577387    ┆ 0.352583       │\n",
       "│ recent_mileage_year_status ┆ 0.07003      ┆ 0.577386    ┆ 0.352584       │\n",
       "│ recent_mileage_status      ┆ 0.07003      ┆ 0.577386    ┆ 0.352584       │\n",
       "│ mcs150_mileage_year_status ┆ 0.024651     ┆ 0.375511    ┆ 0.599838       │\n",
       "│ mcs150_mileage_status      ┆ 0.024612     ┆ 0.344846    ┆ 0.630543       │\n",
       "│ nbr_power_unit_status      ┆ 0.001012     ┆ 0.03657     ┆ 0.962418       │\n",
       "│ driver_total_status        ┆ 0.000104     ┆ 0.00139     ┆ 0.998505       │\n",
       "└────────────────────────────┴──────────────┴─────────────┴────────────────┘"
      ]
     },
     "execution_count": 35,
     "metadata": {},
     "output_type": "execute_result"
    }
   ],
   "source": [
    "(\n",
    "    summary\n",
    "    .select([f\"{c}_status\" for c in num_cols])\n",
    "    .melt(variable_name=\"column\", value_name=\"status\")\n",
    "    .group_by([\"column\", \"status\"])\n",
    "    .len()\n",
    "    .with_columns([\n",
    "        (pl.col(\"len\") / pl.sum(\"len\").over(\"column\")).alias(\"proportion\")\n",
    "    ])\n",
    "    .pivot(index=\"column\", columns=\"status\", values=\"proportion\")\n",
    "    .fill_null(0.0)\n",
    "    .sort(\"always_null\", descending=True)\n",
    ")"
   ]
  },
  {
   "cell_type": "code",
   "execution_count": null,
   "id": "39932fe4-d64d-4c87-9249-4436d2442294",
   "metadata": {},
   "outputs": [],
   "source": []
  }
 ],
 "metadata": {
  "kernelspec": {
   "display_name": "Python 3 (ipykernel)",
   "language": "python",
   "name": "python3"
  },
  "language_info": {
   "codemirror_mode": {
    "name": "ipython",
    "version": 3
   },
   "file_extension": ".py",
   "mimetype": "text/x-python",
   "name": "python",
   "nbconvert_exporter": "python",
   "pygments_lexer": "ipython3",
   "version": "3.13.2"
  }
 },
 "nbformat": 4,
 "nbformat_minor": 5
}
