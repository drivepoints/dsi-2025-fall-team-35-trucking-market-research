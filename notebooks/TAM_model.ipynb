{
  "nbformat": 4,
  "nbformat_minor": 0,
  "metadata": {
    "colab": {
      "provenance": []
    },
    "kernelspec": {
      "name": "python3",
      "display_name": "Python 3"
    },
    "language_info": {
      "name": "python"
    }
  },
  "cells": [
    {
      "cell_type": "code",
      "source": [
        "import pandas as pd\n",
        "import numpy as np\n",
        "import plotly.express as px\n",
        "import plotly.express as px"
      ],
      "metadata": {
        "id": "cQm9i2MJJpij"
      },
      "execution_count": 1,
      "outputs": []
    },
    {
      "cell_type": "code",
      "source": [
        "# ---  Parameter Configuration ---\n",
        "params = {\n",
        "    'class_filter': ['A'],         # Interstate carriers\n",
        "    'max_trucks': 50,            # Upper limit for high-quality small fleets\n",
        "    'min_dqs': 0.6,              # Minimum Data Quality Score threshold\n",
        "    'exclude_companies': ['FEDEX', 'UPS', 'AMAZON', 'WALMART', 'USPS'],\n",
        "}\n"
      ],
      "metadata": {
        "id": "vFxROJAxJ-vt"
      },
      "execution_count": 2,
      "outputs": []
    },
    {
      "cell_type": "code",
      "source": [
        "# --- Load Data ---\n",
        "def load_data(file_path: str) -> pd.DataFrame:\n",
        "    if file_path.endswith('.parquet'):\n",
        "        df = pd.read_parquet(file_path)\n",
        "    elif file_path.endswith('.csv'):\n",
        "        df = pd.read_csv(file_path)\n",
        "    else:\n",
        "        raise ValueError(\"Unsupported file type. Please provide .parquet or .csv file.\")\n",
        "\n",
        "    df.columns = df.columns.str.lower()\n",
        "    print(f\"Loaded {len(df)} records from {file_path}\")\n",
        "    return df"
      ],
      "metadata": {
        "id": "uQpjyEkqKBin"
      },
      "execution_count": 3,
      "outputs": []
    },
    {
      "cell_type": "code",
      "source": [
        "# --- Base Filtering (Pre-DQS) ---\n",
        "def base_filter_companies(df: pd.DataFrame, params: dict) -> pd.DataFrame:\n",
        "    \"\"\"Apply initial filters before joining with DQS dataset.\"\"\"\n",
        "    df = df.copy()\n",
        "\n",
        "    # Normalize company names\n",
        "    if 'legal_name' in df.columns:\n",
        "        df['legal_name'] = df['legal_name'].astype(str).str.upper().fillna('UNKNOWN')\n",
        "\n",
        "    # Filter by class\n",
        "    if 'carrier_operation' in df.columns:\n",
        "        df = df[df['carrier_operation'].isin(params['class_filter'])]\n",
        "\n",
        "    # Filter by number of trucks\n",
        "    if 'nbr_power_unit' in df.columns:\n",
        "        df = df[df['nbr_power_unit'] < params['max_trucks']]\n",
        "\n",
        "    # Exclude self-insured or large carriers\n",
        "    df = df[~df['legal_name'].isin(params['exclude_companies'])]\n",
        "\n",
        "    print(f\"Base filter applied: {len(df)} companies remain before DQS join.\")\n",
        "    return df"
      ],
      "metadata": {
        "id": "yraD9x_LMLOY"
      },
      "execution_count": 4,
      "outputs": []
    },
    {
      "cell_type": "code",
      "source": [
        "# --- Join with DQS Dataset ---\n",
        "def join_with_dqs(df_base: pd.DataFrame, dqs_df: pd.DataFrame) -> pd.DataFrame:\n",
        "    \"\"\"Join filtered dataset with DQS data using dot_number.\"\"\"\n",
        "    if 'dot_number' not in df_base.columns or 'dot_number' not in dqs_df.columns:\n",
        "        raise KeyError(\"dot_number column must exist in both datasets for join.\")\n",
        "\n",
        "    merged = df_base.merge(dqs_df, on='dot_number', how='left', suffixes=('', '_DQS'))\n",
        "    print(f\"Joined with DQS data: {len(merged)} records after merge.\")\n",
        "    return merged"
      ],
      "metadata": {
        "id": "oH7Ng1nvMSfZ"
      },
      "execution_count": 5,
      "outputs": []
    },
    {
      "cell_type": "code",
      "source": [
        "# --- Post-DQS Filtering ---\n",
        "def filter_by_dqs(df: pd.DataFrame, params: dict) -> pd.DataFrame:\n",
        "    \"\"\"Filter dataset based on DQS threshold after join.\"\"\"\n",
        "    if 'DQS' not in df.columns:\n",
        "        print(\"No DQS column found; skipping DQS filtering.\")\n",
        "        return df\n",
        "\n",
        "    df = df[df['DQS'] >= params['min_dqs']]\n",
        "    df['selected_flag'] = True\n",
        "    print(f\"Post-DQS filtering applied: {len(df)} companies remain.\")\n",
        "    return df"
      ],
      "metadata": {
        "id": "Z1idhRq_Mo8X"
      },
      "execution_count": 6,
      "outputs": []
    },
    {
      "cell_type": "code",
      "source": [
        "# --- State-Level Aggregation(Without DQS) ---\n",
        "def aggregate_by_state_basic(df: pd.DataFrame) -> pd.DataFrame:\n",
        "    \"\"\"Aggregate TAM statistics by state (without DQS).\"\"\"\n",
        "    if 'phy_state' not in df.columns:\n",
        "        print(\"No 'phy_state' column found in dataset.\")\n",
        "        return pd.DataFrame()\n",
        "\n",
        "    grouped = df.groupby('phy_state').agg(\n",
        "        TAM_Companies=('legal_name', 'count'),\n",
        "        TAM_Trucks=('nbr_power_unit', 'sum')\n",
        "    ).reset_index()\n",
        "    return grouped"
      ],
      "metadata": {
        "id": "ZOGn3fhbPZTw"
      },
      "execution_count": 7,
      "outputs": []
    },
    {
      "cell_type": "code",
      "source": [
        "# --- State-Level Aggregation ---\n",
        "def aggregate_by_state_with_dqs(df: pd.DataFrame) -> pd.DataFrame:\n",
        "    \"\"\"Aggregate TAM statistics by state (including DQS).\"\"\"\n",
        "    if 'phy_state' not in df.columns:\n",
        "        print(\"No 'phy_state' column found in dataset.\")\n",
        "        return pd.DataFrame()\n",
        "\n",
        "    grouped = df.groupby('phy_state').agg(\n",
        "        TAM_Companies=('legal_name', 'count'),\n",
        "        TAM_Trucks=('nbr_power_unit', 'sum'),\n",
        "        Avg_DQS=('DQS', 'mean')\n",
        "    ).reset_index()\n",
        "    return grouped"
      ],
      "metadata": {
        "id": "sn_0mD7cMxuB"
      },
      "execution_count": 8,
      "outputs": []
    },
    {
      "cell_type": "code",
      "source": [
        "# --- visualization(without dqs) ---\n",
        "def visualize_tam_us_map(df_state: pd.DataFrame):\n",
        "    df_state = df_state.copy()\n",
        "\n",
        "    if df_state.empty:\n",
        "        print(\"No state-level data to visualize.\")\n",
        "        return\n",
        "\n",
        "    df_state['TAM_Share_Value'] = df_state['TAM_Companies'] / df_state['TAM_Companies'].sum() * 100\n",
        "    df_state['TAM_Share_Percent'] = df_state['TAM_Share_Value'].map(lambda x: f\"{x:.2f}%\")\n",
        "\n",
        "    fig = px.choropleth(\n",
        "        df_state,\n",
        "        locations='phy_state',\n",
        "        locationmode=\"USA-states\",\n",
        "        color='TAM_Share_Value',\n",
        "        color_continuous_scale='Greens',\n",
        "        scope=\"usa\",\n",
        "        hover_name='phy_state',\n",
        "        hover_data={\n",
        "            'phy_state': False,\n",
        "            'TAM_Companies': True,\n",
        "            'TAM_Trucks': True,\n",
        "            'TAM_Share_Percent': True,\n",
        "            'TAM_Share_Value': False\n",
        "        },\n",
        "        title='Market Distribution of High-Quality Carriers Across the US'\n",
        "    )\n",
        "\n",
        "    fig.update_layout(\n",
        "        geo=dict(bgcolor='rgba(0,0,0,0)', lakecolor='white'),\n",
        "        font=dict(color='black'),\n",
        "        coloraxis_colorbar=dict(title='% of Total TAM'),\n",
        "        margin=dict(l=0, r=0, t=50, b=0)\n",
        "    )\n",
        "\n",
        "    fig.show()\n",
        "\n"
      ],
      "metadata": {
        "id": "Ly-jhR67TYGg"
      },
      "execution_count": 9,
      "outputs": []
    },
    {
      "cell_type": "code",
      "source": [
        "# --- Main Execution Flow ---\n",
        "def main(base_file: str, dqs_file: str):\n",
        "    df_base = load_data(base_file)\n",
        "    dqs_df = load_data(dqs_file)\n",
        "\n",
        "    filtered_base = base_filter_companies(df_base, params)\n",
        "    merged_df = join_with_dqs(filtered_base, dqs_df)\n",
        "    final_df = filter_by_dqs(merged_df, params)\n",
        "\n",
        "    # Save outputs\n",
        "    final_df.to_csv('filtered_companies_with_dqs.csv', index=False)\n",
        "    state_summary.to_csv('state_summary.csv', index=False)\n",
        "    print(\"Output files generated: filtered_companies_with_dqs.csv, state_summary.csv\")\n"
      ],
      "metadata": {
        "id": "5oYIPhBWKCXm"
      },
      "execution_count": 10,
      "outputs": []
    },
    {
      "cell_type": "code",
      "source": [
        "# ---  Temporary Main (Without DQS Join) ---\n",
        "def main_basic(file_path: str):\n",
        "    \"\"\"Run base TAM filtering and visualization without DQS integration.\"\"\"\n",
        "    df = load_data(file_path)\n",
        "    filtered = base_filter_companies(df, params)\n",
        "    state_summary = aggregate_by_state_basic(filtered)\n",
        "    visualize_tam_us_map(state_summary)\n",
        "\n",
        "    filtered.to_csv('filtered_companies_basic.csv', index=False)\n",
        "    state_summary.to_csv('state_summary_basic.csv', index=False)\n",
        "    print(\"Output files generated: filtered_companies_basic.csv, state_summary_basic.csv\")\n"
      ],
      "metadata": {
        "id": "trdWB3ctKChK"
      },
      "execution_count": 11,
      "outputs": []
    },
    {
      "cell_type": "code",
      "source": [
        "main_basic(\"transportation_data_20250917_222245.parquet\")"
      ],
      "metadata": {
        "colab": {
          "base_uri": "https://localhost:8080/",
          "height": 596
        },
        "id": "lLN2u3m5KCwF",
        "outputId": "119c1973-5518-47d3-e9ce-97eabee2d369"
      },
      "execution_count": 12,
      "outputs": [
        {
          "output_type": "stream",
          "name": "stdout",
          "text": [
            "Loaded 2091643 records from transportation_data_20250917_222245.parquet\n",
            "Base filter applied: 683500 companies remain before DQS join.\n"
          ]
        },
        {
          "output_type": "display_data",
          "data": {
            "text/html": [
              "<html>\n",
              "<head><meta charset=\"utf-8\" /></head>\n",
              "<body>\n",
              "    <div>            <script src=\"https://cdnjs.cloudflare.com/ajax/libs/mathjax/2.7.5/MathJax.js?config=TeX-AMS-MML_SVG\"></script><script type=\"text/javascript\">if (window.MathJax && window.MathJax.Hub && window.MathJax.Hub.Config) {window.MathJax.Hub.Config({SVG: {font: \"STIX-Web\"}});}</script>                <script type=\"text/javascript\">window.PlotlyConfig = {MathJaxConfig: 'local'};</script>\n",
              "        <script charset=\"utf-8\" src=\"https://cdn.plot.ly/plotly-2.35.2.min.js\"></script>                <div id=\"a473754f-4af0-4d05-ae0d-671047238b35\" class=\"plotly-graph-div\" style=\"height:525px; width:100%;\"></div>            <script type=\"text/javascript\">                                    window.PLOTLYENV=window.PLOTLYENV || {};                                    if (document.getElementById(\"a473754f-4af0-4d05-ae0d-671047238b35\")) {                    Plotly.newPlot(                        \"a473754f-4af0-4d05-ae0d-671047238b35\",                        [{\"coloraxis\":\"coloraxis\",\"customdata\":[[\"AB\",2030,12432.0,\"0.30%\",0.29729389331982087],[\"AG\",31,152.0,\"0.00%\",0.004539956006361796],[\"AK\",390,2332.0,\"0.06%\",0.05711557556390647],[\"AL\",9853,33592.0,\"1.44%\",1.442973759054283],[\"AR\",5974,20478.0,\"0.87%\",0.8748934574840442],[\"AS\",9,0.0,\"0.00%\",0.001318051743782457],[\"AZ\",8979,26939.0,\"1.31%\",1.3149762897136315],[\"BC\",1815,10617.0,\"0.27%\",0.2658071016627955],[\"BN\",448,1779.0,\"0.07%\",0.06560968680161564],[\"BS\",7,17.0,\"0.00%\",0.0010251513562752443],[\"BZ\",1,0.0,\"0.00%\",0.00014645019375360632],[\"CA\",64344,174209.0,\"9.42%\",9.423191266882046],[\"CH\",283,1563.0,\"0.04%\",0.04144540483227059],[\"CI\",910,3685.0,\"0.13%\",0.13326967631578177],[\"CL\",7,49.0,\"0.00%\",0.0010251513562752443],[\"CO\",8887,33080.0,\"1.30%\",1.3015028718882995],[\"CP\",1,1.0,\"0.00%\",0.00014645019375360632],[\"CS\",1,3.0,\"0.00%\",0.00014645019375360632],[\"CT\",8276,25245.0,\"1.21%\",1.212021803504846],[\"DC\",436,1528.0,\"0.06%\",0.06385228447657236],[\"DE\",3230,10614.0,\"0.47%\",0.47303412582414844],[\"DF\",28,119.0,\"0.00%\",0.004100605425100977],[\"DG\",18,186.0,\"0.00%\",0.002636103487564914],[\"DO\",1,2.0,\"0.00%\",0.00014645019375360632],[\"FJ\",1,1.0,\"0.00%\",0.00014645019375360632],[\"FL\",30997,71554.0,\"4.54%\",4.5395166557805355],[\"GA\",28775,78392.0,\"4.21%\",4.214104325260022],[\"GB\",1,6.0,\"0.00%\",0.00014645019375360632],[\"GE\",10,23.0,\"0.00%\",0.0014645019375360633],[\"GJ\",184,874.0,\"0.03%\",0.026946835650663567],[\"GT\",43,173.0,\"0.01%\",0.006297358331405073],[\"GU\",20,103.0,\"0.00%\",0.0029290038750721266],[\"HD\",15,77.0,\"0.00%\",0.002196752906304095],[\"HI\",250,1866.0,\"0.04%\",0.03661254843840158],[\"HN\",31,116.0,\"0.00%\",0.004539956006361796],[\"IA\",11386,43096.0,\"1.67%\",1.6674819060785617],[\"ID\",6193,22981.0,\"0.91%\",0.906966049916084],[\"IL\",33557,138840.0,\"4.91%\",4.914429151789768],[\"IN\",18715,71643.0,\"2.74%\",2.740815376098743],[\"JA\",95,529.0,\"0.01%\",0.0139127684065926],[\"KS\",8131,34584.0,\"1.19%\",1.1907865254105732],[\"KW\",1,46.0,\"0.00%\",0.00014645019375360632],[\"KY\",9882,37273.0,\"1.45%\",1.4472208146731378],[\"LA\",6076,20754.0,\"0.89%\",0.8898313772469122],[\"MA\",14149,54413.0,\"2.07%\",2.072123791419776],[\"MB\",841,4923.0,\"0.12%\",0.12316461294678294],[\"MC\",101,593.0,\"0.01%\",0.014791469569114242],[\"MD\",18160,56370.0,\"2.66%\",2.659535518565491],[\"ME\",2449,9729.0,\"0.36%\",0.3586565245025819],[\"MI\",13602,55668.0,\"1.99%\",1.9920155354365536],[\"MN\",16138,62808.0,\"2.36%\",2.363413226795699],[\"MO\",14224,55596.0,\"2.08%\",2.0831075559512966],[\"MR\",2,14.0,\"0.00%\",0.00029290038750721264],[\"MS\",7769,23459.0,\"1.14%\",1.1377715552717675],[\"MT\",3365,12080.0,\"0.49%\",0.4928049019808853],[\"MX\",111,448.0,\"0.02%\",0.016255971506650303],[\"NB\",329,1733.0,\"0.05%\",0.048182113744936486],[\"NC\",23865,70586.0,\"3.50%\",3.4950338739298155],[\"ND\",3759,17536.0,\"0.55%\",0.5505062783198061],[\"NE\",8571,29405.0,\"1.26%\",1.2552246106621598],[\"NH\",4205,15546.0,\"0.62%\",0.6158230647339147],[\"NJ\",25531,76558.0,\"3.74%\",3.739019896723323],[\"NL\",728,3747.0,\"0.11%\",0.10661574105262542],[\"NM\",4214,15722.0,\"0.62%\",0.6171411164776971],[\"NS\",171,1016.0,\"0.03%\",0.025042983131866682],[\"NT\",1,1.0,\"0.00%\",0.00014645019375360632],[\"NV\",5232,14963.0,\"0.77%\",0.7662274137188684],[\"NY\",20253,69568.0,\"2.97%\",2.966055774091789],[\"OH\",25860,101951.0,\"3.79%\",3.7872020104682593],[\"OK\",7688,29649.0,\"1.13%\",1.1259090895777255],[\"ON\",5500,30653.0,\"0.81%\",0.8054760656448348],[\"OR\",8025,31037.0,\"1.18%\",1.175262804872691],[\"PA\",32224,118486.0,\"4.72%\",4.719211043516211],[\"PE\",40,211.0,\"0.01%\",0.005858007750144253],[\"PR\",153,1115.0,\"0.02%\",0.02240687964430177],[\"PU\",26,131.0,\"0.00%\",0.0038077050375937647],[\"QC\",1917,8363.0,\"0.28%\",0.2807450214256634],[\"QE\",34,119.0,\"0.00%\",0.004979306587622616],[\"QI\",1,0.0,\"0.00%\",0.00014645019375360632],[\"RI\",2972,9701.0,\"0.44%\",0.435249975835718],[\"RO\",1,45.0,\"0.00%\",0.00014645019375360632],[\"SC\",10498,28718.0,\"1.54%\",1.5374341340253592],[\"SD\",4334,15630.0,\"0.63%\",0.6347151397281299],[\"SI\",51,328.0,\"0.01%\",0.007468959881433924],[\"SK\",433,2449.0,\"0.06%\",0.06341293389531155],[\"SL\",36,152.0,\"0.01%\",0.005272206975129828],[\"SO\",354,1606.0,\"0.05%\",0.05184336858877664],[\"SV\",32,69.0,\"0.00%\",0.004686406200115402],[\"TA\",2305,10644.0,\"0.34%\",0.3375676966020626],[\"TB\",2,6.0,\"0.00%\",0.00029290038750721264],[\"TL\",3,13.0,\"0.00%\",0.00043935058126081896],[\"TN\",13245,46316.0,\"1.94%\",1.9397328162665157],[\"TX\",53351,173583.0,\"7.81%\",7.813264286948652],[\"UT\",6435,25781.0,\"0.94%\",0.9424069968044568],[\"VA\",14804,47390.0,\"2.17%\",2.1680486683283884],[\"VC\",42,218.0,\"0.01%\",0.006150908137651466],[\"VI\",12,51.0,\"0.00%\",0.0017574023250432759],[\"VT\",1684,6356.0,\"0.25%\",0.24662212628107308],[\"WA\",14040,48869.0,\"2.06%\",2.056160720300633],[\"WI\",12081,51491.0,\"1.77%\",1.7692647907373182],[\"WV\",3846,15242.0,\"0.56%\",0.5632474451763699],[\"WY\",2679,11062.0,\"0.39%\",0.39234006906591135],[\"YT\",18,76.0,\"0.00%\",0.002636103487564914],[\"ZA\",8,16.0,\"0.00%\",0.0011716015500288506]],\"geo\":\"geo\",\"hovertemplate\":\"\\u003cb\\u003e%{hovertext}\\u003c\\u002fb\\u003e\\u003cbr\\u003e\\u003cbr\\u003eTAM_Companies=%{customdata[1]}\\u003cbr\\u003eTAM_Trucks=%{customdata[2]}\\u003cbr\\u003eTAM_Share_Percent=%{customdata[3]}\\u003cextra\\u003e\\u003c\\u002fextra\\u003e\",\"hovertext\":[\"AB\",\"AG\",\"AK\",\"AL\",\"AR\",\"AS\",\"AZ\",\"BC\",\"BN\",\"BS\",\"BZ\",\"CA\",\"CH\",\"CI\",\"CL\",\"CO\",\"CP\",\"CS\",\"CT\",\"DC\",\"DE\",\"DF\",\"DG\",\"DO\",\"FJ\",\"FL\",\"GA\",\"GB\",\"GE\",\"GJ\",\"GT\",\"GU\",\"HD\",\"HI\",\"HN\",\"IA\",\"ID\",\"IL\",\"IN\",\"JA\",\"KS\",\"KW\",\"KY\",\"LA\",\"MA\",\"MB\",\"MC\",\"MD\",\"ME\",\"MI\",\"MN\",\"MO\",\"MR\",\"MS\",\"MT\",\"MX\",\"NB\",\"NC\",\"ND\",\"NE\",\"NH\",\"NJ\",\"NL\",\"NM\",\"NS\",\"NT\",\"NV\",\"NY\",\"OH\",\"OK\",\"ON\",\"OR\",\"PA\",\"PE\",\"PR\",\"PU\",\"QC\",\"QE\",\"QI\",\"RI\",\"RO\",\"SC\",\"SD\",\"SI\",\"SK\",\"SL\",\"SO\",\"SV\",\"TA\",\"TB\",\"TL\",\"TN\",\"TX\",\"UT\",\"VA\",\"VC\",\"VI\",\"VT\",\"WA\",\"WI\",\"WV\",\"WY\",\"YT\",\"ZA\"],\"locationmode\":\"USA-states\",\"locations\":[\"AB\",\"AG\",\"AK\",\"AL\",\"AR\",\"AS\",\"AZ\",\"BC\",\"BN\",\"BS\",\"BZ\",\"CA\",\"CH\",\"CI\",\"CL\",\"CO\",\"CP\",\"CS\",\"CT\",\"DC\",\"DE\",\"DF\",\"DG\",\"DO\",\"FJ\",\"FL\",\"GA\",\"GB\",\"GE\",\"GJ\",\"GT\",\"GU\",\"HD\",\"HI\",\"HN\",\"IA\",\"ID\",\"IL\",\"IN\",\"JA\",\"KS\",\"KW\",\"KY\",\"LA\",\"MA\",\"MB\",\"MC\",\"MD\",\"ME\",\"MI\",\"MN\",\"MO\",\"MR\",\"MS\",\"MT\",\"MX\",\"NB\",\"NC\",\"ND\",\"NE\",\"NH\",\"NJ\",\"NL\",\"NM\",\"NS\",\"NT\",\"NV\",\"NY\",\"OH\",\"OK\",\"ON\",\"OR\",\"PA\",\"PE\",\"PR\",\"PU\",\"QC\",\"QE\",\"QI\",\"RI\",\"RO\",\"SC\",\"SD\",\"SI\",\"SK\",\"SL\",\"SO\",\"SV\",\"TA\",\"TB\",\"TL\",\"TN\",\"TX\",\"UT\",\"VA\",\"VC\",\"VI\",\"VT\",\"WA\",\"WI\",\"WV\",\"WY\",\"YT\",\"ZA\"],\"name\":\"\",\"z\":[0.29729389331982087,0.004539956006361796,0.05711557556390647,1.442973759054283,0.8748934574840442,0.001318051743782457,1.3149762897136315,0.2658071016627955,0.06560968680161564,0.0010251513562752443,0.00014645019375360632,9.423191266882046,0.04144540483227059,0.13326967631578177,0.0010251513562752443,1.3015028718882995,0.00014645019375360632,0.00014645019375360632,1.212021803504846,0.06385228447657236,0.47303412582414844,0.004100605425100977,0.002636103487564914,0.00014645019375360632,0.00014645019375360632,4.5395166557805355,4.214104325260022,0.00014645019375360632,0.0014645019375360633,0.026946835650663567,0.006297358331405073,0.0029290038750721266,0.002196752906304095,0.03661254843840158,0.004539956006361796,1.6674819060785617,0.906966049916084,4.914429151789768,2.740815376098743,0.0139127684065926,1.1907865254105732,0.00014645019375360632,1.4472208146731378,0.8898313772469122,2.072123791419776,0.12316461294678294,0.014791469569114242,2.659535518565491,0.3586565245025819,1.9920155354365536,2.363413226795699,2.0831075559512966,0.00029290038750721264,1.1377715552717675,0.4928049019808853,0.016255971506650303,0.048182113744936486,3.4950338739298155,0.5505062783198061,1.2552246106621598,0.6158230647339147,3.739019896723323,0.10661574105262542,0.6171411164776971,0.025042983131866682,0.00014645019375360632,0.7662274137188684,2.966055774091789,3.7872020104682593,1.1259090895777255,0.8054760656448348,1.175262804872691,4.719211043516211,0.005858007750144253,0.02240687964430177,0.0038077050375937647,0.2807450214256634,0.004979306587622616,0.00014645019375360632,0.435249975835718,0.00014645019375360632,1.5374341340253592,0.6347151397281299,0.007468959881433924,0.06341293389531155,0.005272206975129828,0.05184336858877664,0.004686406200115402,0.3375676966020626,0.00029290038750721264,0.00043935058126081896,1.9397328162665157,7.813264286948652,0.9424069968044568,2.1680486683283884,0.006150908137651466,0.0017574023250432759,0.24662212628107308,2.056160720300633,1.7692647907373182,0.5632474451763699,0.39234006906591135,0.002636103487564914,0.0011716015500288506],\"type\":\"choropleth\"}],                        {\"template\":{\"data\":{\"histogram2dcontour\":[{\"type\":\"histogram2dcontour\",\"colorbar\":{\"outlinewidth\":0,\"ticks\":\"\"},\"colorscale\":[[0.0,\"#0d0887\"],[0.1111111111111111,\"#46039f\"],[0.2222222222222222,\"#7201a8\"],[0.3333333333333333,\"#9c179e\"],[0.4444444444444444,\"#bd3786\"],[0.5555555555555556,\"#d8576b\"],[0.6666666666666666,\"#ed7953\"],[0.7777777777777778,\"#fb9f3a\"],[0.8888888888888888,\"#fdca26\"],[1.0,\"#f0f921\"]]}],\"choropleth\":[{\"type\":\"choropleth\",\"colorbar\":{\"outlinewidth\":0,\"ticks\":\"\"}}],\"histogram2d\":[{\"type\":\"histogram2d\",\"colorbar\":{\"outlinewidth\":0,\"ticks\":\"\"},\"colorscale\":[[0.0,\"#0d0887\"],[0.1111111111111111,\"#46039f\"],[0.2222222222222222,\"#7201a8\"],[0.3333333333333333,\"#9c179e\"],[0.4444444444444444,\"#bd3786\"],[0.5555555555555556,\"#d8576b\"],[0.6666666666666666,\"#ed7953\"],[0.7777777777777778,\"#fb9f3a\"],[0.8888888888888888,\"#fdca26\"],[1.0,\"#f0f921\"]]}],\"heatmap\":[{\"type\":\"heatmap\",\"colorbar\":{\"outlinewidth\":0,\"ticks\":\"\"},\"colorscale\":[[0.0,\"#0d0887\"],[0.1111111111111111,\"#46039f\"],[0.2222222222222222,\"#7201a8\"],[0.3333333333333333,\"#9c179e\"],[0.4444444444444444,\"#bd3786\"],[0.5555555555555556,\"#d8576b\"],[0.6666666666666666,\"#ed7953\"],[0.7777777777777778,\"#fb9f3a\"],[0.8888888888888888,\"#fdca26\"],[1.0,\"#f0f921\"]]}],\"heatmapgl\":[{\"type\":\"heatmapgl\",\"colorbar\":{\"outlinewidth\":0,\"ticks\":\"\"},\"colorscale\":[[0.0,\"#0d0887\"],[0.1111111111111111,\"#46039f\"],[0.2222222222222222,\"#7201a8\"],[0.3333333333333333,\"#9c179e\"],[0.4444444444444444,\"#bd3786\"],[0.5555555555555556,\"#d8576b\"],[0.6666666666666666,\"#ed7953\"],[0.7777777777777778,\"#fb9f3a\"],[0.8888888888888888,\"#fdca26\"],[1.0,\"#f0f921\"]]}],\"contourcarpet\":[{\"type\":\"contourcarpet\",\"colorbar\":{\"outlinewidth\":0,\"ticks\":\"\"}}],\"contour\":[{\"type\":\"contour\",\"colorbar\":{\"outlinewidth\":0,\"ticks\":\"\"},\"colorscale\":[[0.0,\"#0d0887\"],[0.1111111111111111,\"#46039f\"],[0.2222222222222222,\"#7201a8\"],[0.3333333333333333,\"#9c179e\"],[0.4444444444444444,\"#bd3786\"],[0.5555555555555556,\"#d8576b\"],[0.6666666666666666,\"#ed7953\"],[0.7777777777777778,\"#fb9f3a\"],[0.8888888888888888,\"#fdca26\"],[1.0,\"#f0f921\"]]}],\"surface\":[{\"type\":\"surface\",\"colorbar\":{\"outlinewidth\":0,\"ticks\":\"\"},\"colorscale\":[[0.0,\"#0d0887\"],[0.1111111111111111,\"#46039f\"],[0.2222222222222222,\"#7201a8\"],[0.3333333333333333,\"#9c179e\"],[0.4444444444444444,\"#bd3786\"],[0.5555555555555556,\"#d8576b\"],[0.6666666666666666,\"#ed7953\"],[0.7777777777777778,\"#fb9f3a\"],[0.8888888888888888,\"#fdca26\"],[1.0,\"#f0f921\"]]}],\"mesh3d\":[{\"type\":\"mesh3d\",\"colorbar\":{\"outlinewidth\":0,\"ticks\":\"\"}}],\"scatter\":[{\"fillpattern\":{\"fillmode\":\"overlay\",\"size\":10,\"solidity\":0.2},\"type\":\"scatter\"}],\"parcoords\":[{\"type\":\"parcoords\",\"line\":{\"colorbar\":{\"outlinewidth\":0,\"ticks\":\"\"}}}],\"scatterpolargl\":[{\"type\":\"scatterpolargl\",\"marker\":{\"colorbar\":{\"outlinewidth\":0,\"ticks\":\"\"}}}],\"bar\":[{\"error_x\":{\"color\":\"#2a3f5f\"},\"error_y\":{\"color\":\"#2a3f5f\"},\"marker\":{\"line\":{\"color\":\"#E5ECF6\",\"width\":0.5},\"pattern\":{\"fillmode\":\"overlay\",\"size\":10,\"solidity\":0.2}},\"type\":\"bar\"}],\"scattergeo\":[{\"type\":\"scattergeo\",\"marker\":{\"colorbar\":{\"outlinewidth\":0,\"ticks\":\"\"}}}],\"scatterpolar\":[{\"type\":\"scatterpolar\",\"marker\":{\"colorbar\":{\"outlinewidth\":0,\"ticks\":\"\"}}}],\"histogram\":[{\"marker\":{\"pattern\":{\"fillmode\":\"overlay\",\"size\":10,\"solidity\":0.2}},\"type\":\"histogram\"}],\"scattergl\":[{\"type\":\"scattergl\",\"marker\":{\"colorbar\":{\"outlinewidth\":0,\"ticks\":\"\"}}}],\"scatter3d\":[{\"type\":\"scatter3d\",\"line\":{\"colorbar\":{\"outlinewidth\":0,\"ticks\":\"\"}},\"marker\":{\"colorbar\":{\"outlinewidth\":0,\"ticks\":\"\"}}}],\"scattermapbox\":[{\"type\":\"scattermapbox\",\"marker\":{\"colorbar\":{\"outlinewidth\":0,\"ticks\":\"\"}}}],\"scatterternary\":[{\"type\":\"scatterternary\",\"marker\":{\"colorbar\":{\"outlinewidth\":0,\"ticks\":\"\"}}}],\"scattercarpet\":[{\"type\":\"scattercarpet\",\"marker\":{\"colorbar\":{\"outlinewidth\":0,\"ticks\":\"\"}}}],\"carpet\":[{\"aaxis\":{\"endlinecolor\":\"#2a3f5f\",\"gridcolor\":\"white\",\"linecolor\":\"white\",\"minorgridcolor\":\"white\",\"startlinecolor\":\"#2a3f5f\"},\"baxis\":{\"endlinecolor\":\"#2a3f5f\",\"gridcolor\":\"white\",\"linecolor\":\"white\",\"minorgridcolor\":\"white\",\"startlinecolor\":\"#2a3f5f\"},\"type\":\"carpet\"}],\"table\":[{\"cells\":{\"fill\":{\"color\":\"#EBF0F8\"},\"line\":{\"color\":\"white\"}},\"header\":{\"fill\":{\"color\":\"#C8D4E3\"},\"line\":{\"color\":\"white\"}},\"type\":\"table\"}],\"barpolar\":[{\"marker\":{\"line\":{\"color\":\"#E5ECF6\",\"width\":0.5},\"pattern\":{\"fillmode\":\"overlay\",\"size\":10,\"solidity\":0.2}},\"type\":\"barpolar\"}],\"pie\":[{\"automargin\":true,\"type\":\"pie\"}]},\"layout\":{\"autotypenumbers\":\"strict\",\"colorway\":[\"#636efa\",\"#EF553B\",\"#00cc96\",\"#ab63fa\",\"#FFA15A\",\"#19d3f3\",\"#FF6692\",\"#B6E880\",\"#FF97FF\",\"#FECB52\"],\"font\":{\"color\":\"#2a3f5f\"},\"hovermode\":\"closest\",\"hoverlabel\":{\"align\":\"left\"},\"paper_bgcolor\":\"white\",\"plot_bgcolor\":\"#E5ECF6\",\"polar\":{\"bgcolor\":\"#E5ECF6\",\"angularaxis\":{\"gridcolor\":\"white\",\"linecolor\":\"white\",\"ticks\":\"\"},\"radialaxis\":{\"gridcolor\":\"white\",\"linecolor\":\"white\",\"ticks\":\"\"}},\"ternary\":{\"bgcolor\":\"#E5ECF6\",\"aaxis\":{\"gridcolor\":\"white\",\"linecolor\":\"white\",\"ticks\":\"\"},\"baxis\":{\"gridcolor\":\"white\",\"linecolor\":\"white\",\"ticks\":\"\"},\"caxis\":{\"gridcolor\":\"white\",\"linecolor\":\"white\",\"ticks\":\"\"}},\"coloraxis\":{\"colorbar\":{\"outlinewidth\":0,\"ticks\":\"\"}},\"colorscale\":{\"sequential\":[[0.0,\"#0d0887\"],[0.1111111111111111,\"#46039f\"],[0.2222222222222222,\"#7201a8\"],[0.3333333333333333,\"#9c179e\"],[0.4444444444444444,\"#bd3786\"],[0.5555555555555556,\"#d8576b\"],[0.6666666666666666,\"#ed7953\"],[0.7777777777777778,\"#fb9f3a\"],[0.8888888888888888,\"#fdca26\"],[1.0,\"#f0f921\"]],\"sequentialminus\":[[0.0,\"#0d0887\"],[0.1111111111111111,\"#46039f\"],[0.2222222222222222,\"#7201a8\"],[0.3333333333333333,\"#9c179e\"],[0.4444444444444444,\"#bd3786\"],[0.5555555555555556,\"#d8576b\"],[0.6666666666666666,\"#ed7953\"],[0.7777777777777778,\"#fb9f3a\"],[0.8888888888888888,\"#fdca26\"],[1.0,\"#f0f921\"]],\"diverging\":[[0,\"#8e0152\"],[0.1,\"#c51b7d\"],[0.2,\"#de77ae\"],[0.3,\"#f1b6da\"],[0.4,\"#fde0ef\"],[0.5,\"#f7f7f7\"],[0.6,\"#e6f5d0\"],[0.7,\"#b8e186\"],[0.8,\"#7fbc41\"],[0.9,\"#4d9221\"],[1,\"#276419\"]]},\"xaxis\":{\"gridcolor\":\"white\",\"linecolor\":\"white\",\"ticks\":\"\",\"title\":{\"standoff\":15},\"zerolinecolor\":\"white\",\"automargin\":true,\"zerolinewidth\":2},\"yaxis\":{\"gridcolor\":\"white\",\"linecolor\":\"white\",\"ticks\":\"\",\"title\":{\"standoff\":15},\"zerolinecolor\":\"white\",\"automargin\":true,\"zerolinewidth\":2},\"scene\":{\"xaxis\":{\"backgroundcolor\":\"#E5ECF6\",\"gridcolor\":\"white\",\"linecolor\":\"white\",\"showbackground\":true,\"ticks\":\"\",\"zerolinecolor\":\"white\",\"gridwidth\":2},\"yaxis\":{\"backgroundcolor\":\"#E5ECF6\",\"gridcolor\":\"white\",\"linecolor\":\"white\",\"showbackground\":true,\"ticks\":\"\",\"zerolinecolor\":\"white\",\"gridwidth\":2},\"zaxis\":{\"backgroundcolor\":\"#E5ECF6\",\"gridcolor\":\"white\",\"linecolor\":\"white\",\"showbackground\":true,\"ticks\":\"\",\"zerolinecolor\":\"white\",\"gridwidth\":2}},\"shapedefaults\":{\"line\":{\"color\":\"#2a3f5f\"}},\"annotationdefaults\":{\"arrowcolor\":\"#2a3f5f\",\"arrowhead\":0,\"arrowwidth\":1},\"geo\":{\"bgcolor\":\"white\",\"landcolor\":\"#E5ECF6\",\"subunitcolor\":\"white\",\"showland\":true,\"showlakes\":true,\"lakecolor\":\"white\"},\"title\":{\"x\":0.05},\"mapbox\":{\"style\":\"light\"}}},\"geo\":{\"domain\":{\"x\":[0.0,1.0],\"y\":[0.0,1.0]},\"center\":{},\"scope\":\"usa\",\"bgcolor\":\"rgba(0,0,0,0)\",\"lakecolor\":\"white\"},\"coloraxis\":{\"colorbar\":{\"title\":{\"text\":\"% of Total TAM\"}},\"colorscale\":[[0.0,\"rgb(247,252,245)\"],[0.125,\"rgb(229,245,224)\"],[0.25,\"rgb(199,233,192)\"],[0.375,\"rgb(161,217,155)\"],[0.5,\"rgb(116,196,118)\"],[0.625,\"rgb(65,171,93)\"],[0.75,\"rgb(35,139,69)\"],[0.875,\"rgb(0,109,44)\"],[1.0,\"rgb(0,68,27)\"]]},\"legend\":{\"tracegroupgap\":0},\"title\":{\"text\":\"Market Distribution of High-Quality Carriers Across the US\"},\"font\":{\"color\":\"black\"},\"margin\":{\"l\":0,\"r\":0,\"t\":50,\"b\":0}},                        {\"responsive\": true}                    ).then(function(){\n",
              "                            \n",
              "var gd = document.getElementById('a473754f-4af0-4d05-ae0d-671047238b35');\n",
              "var x = new MutationObserver(function (mutations, observer) {{\n",
              "        var display = window.getComputedStyle(gd).display;\n",
              "        if (!display || display === 'none') {{\n",
              "            console.log([gd, 'removed!']);\n",
              "            Plotly.purge(gd);\n",
              "            observer.disconnect();\n",
              "        }}\n",
              "}});\n",
              "\n",
              "// Listen for the removal of the full notebook cells\n",
              "var notebookContainer = gd.closest('#notebook-container');\n",
              "if (notebookContainer) {{\n",
              "    x.observe(notebookContainer, {childList: true});\n",
              "}}\n",
              "\n",
              "// Listen for the clearing of the current output cell\n",
              "var outputEl = gd.closest('.output');\n",
              "if (outputEl) {{\n",
              "    x.observe(outputEl, {childList: true});\n",
              "}}\n",
              "\n",
              "                        })                };                            </script>        </div>\n",
              "</body>\n",
              "</html>"
            ]
          },
          "metadata": {}
        },
        {
          "output_type": "stream",
          "name": "stdout",
          "text": [
            "Output files generated: filtered_companies_basic.csv, state_summary_basic.csv\n"
          ]
        }
      ]
    }
  ]
}