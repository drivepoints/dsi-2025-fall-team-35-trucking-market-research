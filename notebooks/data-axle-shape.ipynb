{
 "cells": [
  {
   "cell_type": "markdown",
   "id": "59884f82-67cb-40da-aeaa-f46b696c77f6",
   "metadata": {},
   "source": [
    "# Data Axle EDA"
   ]
  },
  {
   "cell_type": "code",
   "execution_count": 1,
   "id": "72a88646-7dab-4909-9209-d12885ff6524",
   "metadata": {},
   "outputs": [],
   "source": [
    "import polars as pl"
   ]
  },
  {
   "cell_type": "code",
   "execution_count": 2,
   "id": "2b70d344-bc71-4975-815b-11db154cb525",
   "metadata": {},
   "outputs": [],
   "source": [
    "df = pl.scan_parquet(\"../data/infogroup-data-axle-historical-business-2024.parquet\")"
   ]
  },
  {
   "cell_type": "code",
   "execution_count": 5,
   "id": "0cccf4df-54e7-469d-88ef-8b7e3cf59134",
   "metadata": {},
   "outputs": [],
   "source": [
    "ddf = df.select(\"abi\").collect()"
   ]
  },
  {
   "cell_type": "code",
   "execution_count": 6,
   "id": "d7c7b0a6-051f-4a5f-8e87-f00e968f2ae9",
   "metadata": {},
   "outputs": [
    {
     "data": {
      "text/plain": [
       "(35716124, 1)"
      ]
     },
     "execution_count": 6,
     "metadata": {},
     "output_type": "execute_result"
    }
   ],
   "source": [
    "ddf.shape"
   ]
  },
  {
   "cell_type": "code",
   "execution_count": null,
   "id": "b5c0a805-61ee-454a-9106-3caf2d9bb0d0",
   "metadata": {},
   "outputs": [],
   "source": []
  }
 ],
 "metadata": {
  "kernelspec": {
   "display_name": "Python 3 (ipykernel)",
   "language": "python",
   "name": "python3"
  },
  "language_info": {
   "codemirror_mode": {
    "name": "ipython",
    "version": 3
   },
   "file_extension": ".py",
   "mimetype": "text/x-python",
   "name": "python",
   "nbconvert_exporter": "python",
   "pygments_lexer": "ipython3",
   "version": "3.13.2"
  }
 },
 "nbformat": 4,
 "nbformat_minor": 5
}
